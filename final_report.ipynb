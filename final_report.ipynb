{
 "cells": [
  {
   "cell_type": "code",
   "execution_count": 1,
   "id": "9cdff826",
   "metadata": {},
   "outputs": [],
   "source": [
    "# the default additions to my notebook\n",
    "import pandas as pd\n",
    "import numpy as np\n",
    "\n",
    "# custom files used to import functions created by me and tailored for the telco dataset\n",
    "import acquire\n",
    "import prepare\n",
    "import explore\n",
    "\n",
    "# matplotlib and seaborn are added for visuals\n",
    "import matplotlib.pyplot as plt\n",
    "import seaborn as sns\n",
    "\n",
    "# stats is added for any computational work that needs to be done\n",
    "from scipy import stats\n",
    "\n",
    "# utilized for creating models and visualization\n",
    "from sklearn.tree import DecisionTreeClassifier, plot_tree\n",
    "from sklearn.linear_model import LogisticRegression\n",
    "from sklearn.ensemble import RandomForestClassifier\n",
    "from sklearn.neighbors import KNeighborsClassifier\n",
    "\n",
    "# utilized for metrics on my models\n",
    "from sklearn.metrics import confusion_matrix, classification_report"
   ]
  },
  {
   "cell_type": "markdown",
   "id": "32eaf713",
   "metadata": {},
   "source": [
    "# Telco Customer Churn Predictor (TCCP) Model\n",
    "## By Larry Holmes"
   ]
  },
  {
   "cell_type": "markdown",
   "id": "303ed73d",
   "metadata": {},
   "source": [
    "## Project Objectives\n",
    "> - Document the code, the process, the findings, and the key takeawys in a Jupyter Notebook Final Report\n",
    "> - Create modules that make the process repeatable and the report easier to read and follow\n",
    "> - Construct a model to predict customer churn using classification techniques, and make predictions for a group of customers\n",
    "> - Refine work with a report, in the form of a jupyter notebook, that will be walked through in a 5 minute presentation to a group of collegues and managers about the work did, the why, the goals, what was found, methodologies used, and my conclusions.\n",
    "> - Answer panel questions about the code, the process, the findings and takeaways, and the model.\n",
    "\n",
    "## Business Goals\n",
    "> - Find drivers for customer churn at Telco.  Why are customers churning?\n",
    "> - Construct a ML classification model that accurately predicts customer churn.\n",
    "> - Deliver a report that a non-data scientist can read through and understand what steps were taken, why and what was the outcome?"
   ]
  },
  {
   "cell_type": "markdown",
   "id": "c0da939f",
   "metadata": {},
   "source": [
    "## Executive Summary - Key Findings and Recommendations\n",
    "> 1. Utilizing the following features outlined in X_train, X_validate, and X_test I was able to narrow down my best model for predicting churn at Telco using a random forest model with a max depth of 5 and an 80% accuracy rate.\n",
    "\n",
    "> 2. Many features help to predict churn with some of the bigger predictors being age (senior_citizen), how much a customer is paying (monthly_charges, total_charges, contract_type, payment_type) and what's affecting how much they pay (internet_service_type), and finally whether customers have adequate support with their plan (tech_support)\n",
    "\n",
    "> 3. My recommendations are that customers are encouraged to sign up with a one or two year contract by maybe offering technical support included.  We should also focus on a younger crowd who has an established family because they tend to churn at a lesser rate."
   ]
  },
  {
   "cell_type": "markdown",
   "id": "ec402fbd",
   "metadata": {},
   "source": [
    "# Acquire Data"
   ]
  },
  {
   "cell_type": "code",
   "execution_count": 2,
   "id": "68d5f1af",
   "metadata": {},
   "outputs": [
    {
     "data": {
      "text/html": [
       "<div>\n",
       "<style scoped>\n",
       "    .dataframe tbody tr th:only-of-type {\n",
       "        vertical-align: middle;\n",
       "    }\n",
       "\n",
       "    .dataframe tbody tr th {\n",
       "        vertical-align: top;\n",
       "    }\n",
       "\n",
       "    .dataframe thead th {\n",
       "        text-align: right;\n",
       "    }\n",
       "</style>\n",
       "<table border=\"1\" class=\"dataframe\">\n",
       "  <thead>\n",
       "    <tr style=\"text-align: right;\">\n",
       "      <th></th>\n",
       "      <th>payment_type_id</th>\n",
       "      <th>internet_service_type_id</th>\n",
       "      <th>contract_type_id</th>\n",
       "      <th>customer_id</th>\n",
       "      <th>gender</th>\n",
       "      <th>senior_citizen</th>\n",
       "      <th>partner</th>\n",
       "      <th>dependents</th>\n",
       "      <th>tenure</th>\n",
       "      <th>phone_service</th>\n",
       "      <th>...</th>\n",
       "      <th>tech_support</th>\n",
       "      <th>streaming_tv</th>\n",
       "      <th>streaming_movies</th>\n",
       "      <th>paperless_billing</th>\n",
       "      <th>monthly_charges</th>\n",
       "      <th>total_charges</th>\n",
       "      <th>churn</th>\n",
       "      <th>contract_type</th>\n",
       "      <th>internet_service_type</th>\n",
       "      <th>payment_type</th>\n",
       "    </tr>\n",
       "  </thead>\n",
       "  <tbody>\n",
       "    <tr>\n",
       "      <th>0</th>\n",
       "      <td>2</td>\n",
       "      <td>1</td>\n",
       "      <td>2</td>\n",
       "      <td>0002-ORFBO</td>\n",
       "      <td>Female</td>\n",
       "      <td>0</td>\n",
       "      <td>Yes</td>\n",
       "      <td>Yes</td>\n",
       "      <td>9</td>\n",
       "      <td>Yes</td>\n",
       "      <td>...</td>\n",
       "      <td>Yes</td>\n",
       "      <td>Yes</td>\n",
       "      <td>No</td>\n",
       "      <td>Yes</td>\n",
       "      <td>65.6</td>\n",
       "      <td>593.3</td>\n",
       "      <td>No</td>\n",
       "      <td>One year</td>\n",
       "      <td>DSL</td>\n",
       "      <td>Mailed check</td>\n",
       "    </tr>\n",
       "    <tr>\n",
       "      <th>1</th>\n",
       "      <td>2</td>\n",
       "      <td>1</td>\n",
       "      <td>1</td>\n",
       "      <td>0003-MKNFE</td>\n",
       "      <td>Male</td>\n",
       "      <td>0</td>\n",
       "      <td>No</td>\n",
       "      <td>No</td>\n",
       "      <td>9</td>\n",
       "      <td>Yes</td>\n",
       "      <td>...</td>\n",
       "      <td>No</td>\n",
       "      <td>No</td>\n",
       "      <td>Yes</td>\n",
       "      <td>No</td>\n",
       "      <td>59.9</td>\n",
       "      <td>542.4</td>\n",
       "      <td>No</td>\n",
       "      <td>Month-to-month</td>\n",
       "      <td>DSL</td>\n",
       "      <td>Mailed check</td>\n",
       "    </tr>\n",
       "    <tr>\n",
       "      <th>2</th>\n",
       "      <td>1</td>\n",
       "      <td>2</td>\n",
       "      <td>1</td>\n",
       "      <td>0004-TLHLJ</td>\n",
       "      <td>Male</td>\n",
       "      <td>0</td>\n",
       "      <td>No</td>\n",
       "      <td>No</td>\n",
       "      <td>4</td>\n",
       "      <td>Yes</td>\n",
       "      <td>...</td>\n",
       "      <td>No</td>\n",
       "      <td>No</td>\n",
       "      <td>No</td>\n",
       "      <td>Yes</td>\n",
       "      <td>73.9</td>\n",
       "      <td>280.85</td>\n",
       "      <td>Yes</td>\n",
       "      <td>Month-to-month</td>\n",
       "      <td>Fiber optic</td>\n",
       "      <td>Electronic check</td>\n",
       "    </tr>\n",
       "    <tr>\n",
       "      <th>3</th>\n",
       "      <td>1</td>\n",
       "      <td>2</td>\n",
       "      <td>1</td>\n",
       "      <td>0011-IGKFF</td>\n",
       "      <td>Male</td>\n",
       "      <td>1</td>\n",
       "      <td>Yes</td>\n",
       "      <td>No</td>\n",
       "      <td>13</td>\n",
       "      <td>Yes</td>\n",
       "      <td>...</td>\n",
       "      <td>No</td>\n",
       "      <td>Yes</td>\n",
       "      <td>Yes</td>\n",
       "      <td>Yes</td>\n",
       "      <td>98.0</td>\n",
       "      <td>1237.85</td>\n",
       "      <td>Yes</td>\n",
       "      <td>Month-to-month</td>\n",
       "      <td>Fiber optic</td>\n",
       "      <td>Electronic check</td>\n",
       "    </tr>\n",
       "    <tr>\n",
       "      <th>4</th>\n",
       "      <td>2</td>\n",
       "      <td>2</td>\n",
       "      <td>1</td>\n",
       "      <td>0013-EXCHZ</td>\n",
       "      <td>Female</td>\n",
       "      <td>1</td>\n",
       "      <td>Yes</td>\n",
       "      <td>No</td>\n",
       "      <td>3</td>\n",
       "      <td>Yes</td>\n",
       "      <td>...</td>\n",
       "      <td>Yes</td>\n",
       "      <td>Yes</td>\n",
       "      <td>No</td>\n",
       "      <td>Yes</td>\n",
       "      <td>83.9</td>\n",
       "      <td>267.4</td>\n",
       "      <td>Yes</td>\n",
       "      <td>Month-to-month</td>\n",
       "      <td>Fiber optic</td>\n",
       "      <td>Mailed check</td>\n",
       "    </tr>\n",
       "  </tbody>\n",
       "</table>\n",
       "<p>5 rows × 24 columns</p>\n",
       "</div>"
      ],
      "text/plain": [
       "   payment_type_id  internet_service_type_id  contract_type_id customer_id  \\\n",
       "0                2                         1                 2  0002-ORFBO   \n",
       "1                2                         1                 1  0003-MKNFE   \n",
       "2                1                         2                 1  0004-TLHLJ   \n",
       "3                1                         2                 1  0011-IGKFF   \n",
       "4                2                         2                 1  0013-EXCHZ   \n",
       "\n",
       "   gender  senior_citizen partner dependents  tenure phone_service  ...  \\\n",
       "0  Female               0     Yes        Yes       9           Yes  ...   \n",
       "1    Male               0      No         No       9           Yes  ...   \n",
       "2    Male               0      No         No       4           Yes  ...   \n",
       "3    Male               1     Yes         No      13           Yes  ...   \n",
       "4  Female               1     Yes         No       3           Yes  ...   \n",
       "\n",
       "  tech_support streaming_tv streaming_movies paperless_billing  \\\n",
       "0          Yes          Yes               No               Yes   \n",
       "1           No           No              Yes                No   \n",
       "2           No           No               No               Yes   \n",
       "3           No          Yes              Yes               Yes   \n",
       "4          Yes          Yes               No               Yes   \n",
       "\n",
       "  monthly_charges total_charges churn   contract_type  internet_service_type  \\\n",
       "0            65.6         593.3    No        One year                    DSL   \n",
       "1            59.9         542.4    No  Month-to-month                    DSL   \n",
       "2            73.9        280.85   Yes  Month-to-month            Fiber optic   \n",
       "3            98.0       1237.85   Yes  Month-to-month            Fiber optic   \n",
       "4            83.9         267.4   Yes  Month-to-month            Fiber optic   \n",
       "\n",
       "       payment_type  \n",
       "0      Mailed check  \n",
       "1      Mailed check  \n",
       "2  Electronic check  \n",
       "3  Electronic check  \n",
       "4      Mailed check  \n",
       "\n",
       "[5 rows x 24 columns]"
      ]
     },
     "execution_count": 2,
     "metadata": {},
     "output_type": "execute_result"
    }
   ],
   "source": [
    "# pulling telco data set from the Codeup database\n",
    "telco = acquire.get_telco_data()\n",
    "telco.head()"
   ]
  },
  {
   "cell_type": "markdown",
   "id": "1a571554",
   "metadata": {},
   "source": [
    "# Prepare Data"
   ]
  },
  {
   "cell_type": "code",
   "execution_count": 3,
   "id": "96145915",
   "metadata": {},
   "outputs": [
    {
     "data": {
      "text/html": [
       "<div>\n",
       "<style scoped>\n",
       "    .dataframe tbody tr th:only-of-type {\n",
       "        vertical-align: middle;\n",
       "    }\n",
       "\n",
       "    .dataframe tbody tr th {\n",
       "        vertical-align: top;\n",
       "    }\n",
       "\n",
       "    .dataframe thead th {\n",
       "        text-align: right;\n",
       "    }\n",
       "</style>\n",
       "<table border=\"1\" class=\"dataframe\">\n",
       "  <thead>\n",
       "    <tr style=\"text-align: right;\">\n",
       "      <th></th>\n",
       "      <th>customer_id</th>\n",
       "      <th>senior_citizen</th>\n",
       "      <th>tenure</th>\n",
       "      <th>monthly_charges</th>\n",
       "      <th>total_charges</th>\n",
       "      <th>is_female</th>\n",
       "      <th>has_partner</th>\n",
       "      <th>has_dependents</th>\n",
       "      <th>has_phone_service</th>\n",
       "      <th>has_paperless_billing</th>\n",
       "      <th>...</th>\n",
       "      <th>tech_support_Yes</th>\n",
       "      <th>streaming_tv_Yes</th>\n",
       "      <th>streaming_movies_Yes</th>\n",
       "      <th>contract_type_One year</th>\n",
       "      <th>contract_type_Two year</th>\n",
       "      <th>internet_service_type_Fiber optic</th>\n",
       "      <th>internet_service_type_None</th>\n",
       "      <th>payment_type_Credit card (automatic)</th>\n",
       "      <th>payment_type_Electronic check</th>\n",
       "      <th>payment_type_Mailed check</th>\n",
       "    </tr>\n",
       "  </thead>\n",
       "  <tbody>\n",
       "    <tr>\n",
       "      <th>0</th>\n",
       "      <td>0002-ORFBO</td>\n",
       "      <td>0</td>\n",
       "      <td>9</td>\n",
       "      <td>65.6</td>\n",
       "      <td>593.30</td>\n",
       "      <td>1</td>\n",
       "      <td>1</td>\n",
       "      <td>1</td>\n",
       "      <td>1</td>\n",
       "      <td>1</td>\n",
       "      <td>...</td>\n",
       "      <td>1</td>\n",
       "      <td>1</td>\n",
       "      <td>0</td>\n",
       "      <td>1</td>\n",
       "      <td>0</td>\n",
       "      <td>0</td>\n",
       "      <td>0</td>\n",
       "      <td>0</td>\n",
       "      <td>0</td>\n",
       "      <td>1</td>\n",
       "    </tr>\n",
       "    <tr>\n",
       "      <th>1</th>\n",
       "      <td>0003-MKNFE</td>\n",
       "      <td>0</td>\n",
       "      <td>9</td>\n",
       "      <td>59.9</td>\n",
       "      <td>542.40</td>\n",
       "      <td>0</td>\n",
       "      <td>0</td>\n",
       "      <td>0</td>\n",
       "      <td>1</td>\n",
       "      <td>0</td>\n",
       "      <td>...</td>\n",
       "      <td>0</td>\n",
       "      <td>0</td>\n",
       "      <td>1</td>\n",
       "      <td>0</td>\n",
       "      <td>0</td>\n",
       "      <td>0</td>\n",
       "      <td>0</td>\n",
       "      <td>0</td>\n",
       "      <td>0</td>\n",
       "      <td>1</td>\n",
       "    </tr>\n",
       "    <tr>\n",
       "      <th>2</th>\n",
       "      <td>0004-TLHLJ</td>\n",
       "      <td>0</td>\n",
       "      <td>4</td>\n",
       "      <td>73.9</td>\n",
       "      <td>280.85</td>\n",
       "      <td>0</td>\n",
       "      <td>0</td>\n",
       "      <td>0</td>\n",
       "      <td>1</td>\n",
       "      <td>1</td>\n",
       "      <td>...</td>\n",
       "      <td>0</td>\n",
       "      <td>0</td>\n",
       "      <td>0</td>\n",
       "      <td>0</td>\n",
       "      <td>0</td>\n",
       "      <td>1</td>\n",
       "      <td>0</td>\n",
       "      <td>0</td>\n",
       "      <td>1</td>\n",
       "      <td>0</td>\n",
       "    </tr>\n",
       "    <tr>\n",
       "      <th>3</th>\n",
       "      <td>0011-IGKFF</td>\n",
       "      <td>1</td>\n",
       "      <td>13</td>\n",
       "      <td>98.0</td>\n",
       "      <td>1237.85</td>\n",
       "      <td>0</td>\n",
       "      <td>1</td>\n",
       "      <td>0</td>\n",
       "      <td>1</td>\n",
       "      <td>1</td>\n",
       "      <td>...</td>\n",
       "      <td>0</td>\n",
       "      <td>1</td>\n",
       "      <td>1</td>\n",
       "      <td>0</td>\n",
       "      <td>0</td>\n",
       "      <td>1</td>\n",
       "      <td>0</td>\n",
       "      <td>0</td>\n",
       "      <td>1</td>\n",
       "      <td>0</td>\n",
       "    </tr>\n",
       "    <tr>\n",
       "      <th>4</th>\n",
       "      <td>0013-EXCHZ</td>\n",
       "      <td>1</td>\n",
       "      <td>3</td>\n",
       "      <td>83.9</td>\n",
       "      <td>267.40</td>\n",
       "      <td>1</td>\n",
       "      <td>1</td>\n",
       "      <td>0</td>\n",
       "      <td>1</td>\n",
       "      <td>1</td>\n",
       "      <td>...</td>\n",
       "      <td>1</td>\n",
       "      <td>1</td>\n",
       "      <td>0</td>\n",
       "      <td>0</td>\n",
       "      <td>0</td>\n",
       "      <td>1</td>\n",
       "      <td>0</td>\n",
       "      <td>0</td>\n",
       "      <td>0</td>\n",
       "      <td>1</td>\n",
       "    </tr>\n",
       "  </tbody>\n",
       "</table>\n",
       "<p>5 rows × 25 columns</p>\n",
       "</div>"
      ],
      "text/plain": [
       "  customer_id  senior_citizen  tenure  monthly_charges  total_charges  \\\n",
       "0  0002-ORFBO               0       9             65.6         593.30   \n",
       "1  0003-MKNFE               0       9             59.9         542.40   \n",
       "2  0004-TLHLJ               0       4             73.9         280.85   \n",
       "3  0011-IGKFF               1      13             98.0        1237.85   \n",
       "4  0013-EXCHZ               1       3             83.9         267.40   \n",
       "\n",
       "   is_female  has_partner  has_dependents  has_phone_service  \\\n",
       "0          1            1               1                  1   \n",
       "1          0            0               0                  1   \n",
       "2          0            0               0                  1   \n",
       "3          0            1               0                  1   \n",
       "4          1            1               0                  1   \n",
       "\n",
       "   has_paperless_billing  ...  tech_support_Yes  streaming_tv_Yes  \\\n",
       "0                      1  ...                 1                 1   \n",
       "1                      0  ...                 0                 0   \n",
       "2                      1  ...                 0                 0   \n",
       "3                      1  ...                 0                 1   \n",
       "4                      1  ...                 1                 1   \n",
       "\n",
       "   streaming_movies_Yes  contract_type_One year  contract_type_Two year  \\\n",
       "0                     0                       1                       0   \n",
       "1                     1                       0                       0   \n",
       "2                     0                       0                       0   \n",
       "3                     1                       0                       0   \n",
       "4                     0                       0                       0   \n",
       "\n",
       "   internet_service_type_Fiber optic  internet_service_type_None  \\\n",
       "0                                  0                           0   \n",
       "1                                  0                           0   \n",
       "2                                  1                           0   \n",
       "3                                  1                           0   \n",
       "4                                  1                           0   \n",
       "\n",
       "   payment_type_Credit card (automatic)  payment_type_Electronic check  \\\n",
       "0                                     0                              0   \n",
       "1                                     0                              0   \n",
       "2                                     0                              1   \n",
       "3                                     0                              1   \n",
       "4                                     0                              0   \n",
       "\n",
       "   payment_type_Mailed check  \n",
       "0                          1  \n",
       "1                          1  \n",
       "2                          0  \n",
       "3                          0  \n",
       "4                          1  \n",
       "\n",
       "[5 rows x 25 columns]"
      ]
     },
     "execution_count": 3,
     "metadata": {},
     "output_type": "execute_result"
    }
   ],
   "source": [
    "# cleaning up telco dataset and removing features that either don't have a relationship with churn rate or have\n",
    "# very little influence on the churn rate in terms of predicting when churn will happen or not.\n",
    "telco = prepare.prep_telco(telco)\n",
    "telco.head()"
   ]
  },
  {
   "cell_type": "code",
   "execution_count": 4,
   "id": "61aa79d8",
   "metadata": {},
   "outputs": [],
   "source": [
    "# Separating my overall telco dataset into my train dataset which I will use to build my models, my validate dataset\n",
    "# which will check to make sure i didn't overfit my models, and my test dataset which will test my best model\n",
    "train, validate, test = prepare.my_train_test_split(telco, 'has_churned')"
   ]
  },
  {
   "cell_type": "code",
   "execution_count": 5,
   "id": "7ea0b469",
   "metadata": {},
   "outputs": [
    {
     "data": {
      "text/plain": [
       "((4225, 25), (1409, 25), (1409, 25))"
      ]
     },
     "execution_count": 5,
     "metadata": {},
     "output_type": "execute_result"
    }
   ],
   "source": [
    "# checking to ensure my datasets split according to my specifications\n",
    "train.shape, validate.shape, test.shape"
   ]
  },
  {
   "cell_type": "code",
   "execution_count": 6,
   "id": "42db694a",
   "metadata": {},
   "outputs": [],
   "source": [
    "# separating my columns/features into numerical data types and categorical data types to ensure I can best explore\n",
    "# data types appropriately \n",
    "num_type_list, cat_type_list = explore.dtypes_to_list(train)"
   ]
  },
  {
   "cell_type": "code",
   "execution_count": 7,
   "id": "a08bb012",
   "metadata": {},
   "outputs": [
    {
     "data": {
      "text/plain": [
       "['monthly_charges', 'total_charges']"
      ]
     },
     "execution_count": 7,
     "metadata": {},
     "output_type": "execute_result"
    }
   ],
   "source": [
    "# my continuous data types \n",
    "num_type_list"
   ]
  },
  {
   "cell_type": "code",
   "execution_count": 8,
   "id": "f38950cb",
   "metadata": {},
   "outputs": [
    {
     "data": {
      "text/plain": [
       "['customer_id',\n",
       " 'senior_citizen',\n",
       " 'tenure',\n",
       " 'is_female',\n",
       " 'has_partner',\n",
       " 'has_dependents',\n",
       " 'has_phone_service',\n",
       " 'has_paperless_billing',\n",
       " 'multiple_lines_Yes',\n",
       " 'online_security_Yes',\n",
       " 'online_backup_Yes',\n",
       " 'device_protection_Yes',\n",
       " 'tech_support_Yes',\n",
       " 'streaming_tv_Yes',\n",
       " 'streaming_movies_Yes',\n",
       " 'contract_type_One year',\n",
       " 'contract_type_Two year',\n",
       " 'internet_service_type_Fiber optic',\n",
       " 'internet_service_type_None',\n",
       " 'payment_type_Credit card (automatic)',\n",
       " 'payment_type_Electronic check',\n",
       " 'payment_type_Mailed check']"
      ]
     },
     "execution_count": 8,
     "metadata": {},
     "output_type": "execute_result"
    }
   ],
   "source": [
    "# my discrete data types\n",
    "# removed my target from the list for exploration purposes\n",
    "cat_type_list.remove('has_churned')\n",
    "cat_type_list"
   ]
  },
  {
   "cell_type": "markdown",
   "id": "8afe7b5f",
   "metadata": {},
   "source": [
    "# Explore Data"
   ]
  },
  {
   "cell_type": "code",
   "execution_count": 9,
   "id": "6b2d9d48",
   "metadata": {},
   "outputs": [
    {
     "name": "stdout",
     "output_type": "stream",
     "text": [
      "customer_id\n",
      "8319-QBEHW    1\n",
      "3677-TNKIO    1\n",
      "6837-HAEVO    1\n",
      "7649-PHJVR    1\n",
      "7416-CKTEP    1\n",
      "             ..\n",
      "7495-OOKFY    1\n",
      "4644-PIZRT    1\n",
      "4513-CXYIX    1\n",
      "9828-QHFBK    1\n",
      "5081-NWSUP    1\n",
      "Name: customer_id, Length: 4225, dtype: int64\n",
      "8319-QBEHW    0.023669\n",
      "3677-TNKIO    0.023669\n",
      "6837-HAEVO    0.023669\n",
      "7649-PHJVR    0.023669\n",
      "7416-CKTEP    0.023669\n",
      "                ...   \n",
      "7495-OOKFY    0.023669\n",
      "4644-PIZRT    0.023669\n",
      "4513-CXYIX    0.023669\n",
      "9828-QHFBK    0.023669\n",
      "5081-NWSUP    0.023669\n",
      "Name: customer_id, Length: 4225, dtype: float64\n"
     ]
    },
    {
     "data": {
      "image/png": "[encoded data removed]",
      "text/plain": [
       "<Figure size 432x288 with 1 Axes>"
      ]
     },
     "metadata": {
      "needs_background": "light"
     },
     "output_type": "display_data"
    },
    {
     "name": "stdout",
     "output_type": "stream",
     "text": [
      "We fail to reject the null hypothesis that customer_id and churn rate are independent\n",
      "There appears to be no relationship between churn rate and customer_id\n",
      "\n",
      "senior_citizen\n",
      "0    3541\n",
      "1     684\n",
      "Name: senior_citizen, dtype: int64\n",
      "0    83.810651\n",
      "1    16.189349\n",
      "Name: senior_citizen, dtype: float64\n"
     ]
    },
    {
     "data": {
      "image/png": "[encoded data removed]",
      "text/plain": [
       "<Figure size 432x288 with 1 Axes>"
      ]
     },
     "metadata": {
      "needs_background": "light"
     },
     "output_type": "display_data"
    },
    {
     "name": "stdout",
     "output_type": "stream",
     "text": [
      "We reject the null hypothesis that senior_citizen and churn rate are independent\n",
      "There is a relationship between churn rate and senior_citizen\n",
      "\n",
      "tenure\n",
      "1     358\n",
      "72    217\n",
      "2     143\n",
      "3     112\n",
      "71    106\n",
      "     ... \n",
      "43     32\n",
      "44     31\n",
      "45     31\n",
      "36     30\n",
      "0       9\n",
      "Name: tenure, Length: 73, dtype: int64\n",
      "1     8.473373\n",
      "72    5.136095\n",
      "2     3.384615\n",
      "3     2.650888\n",
      "71    2.508876\n",
      "        ...   \n",
      "43    0.757396\n",
      "44    0.733728\n",
      "45    0.733728\n",
      "36    0.710059\n",
      "0     0.213018\n",
      "Name: tenure, Length: 73, dtype: float64\n"
     ]
    },
    {
     "data": {
      "image/png": "[encoded data removed]",
      "text/plain": [
       "<Figure size 432x288 with 1 Axes>"
      ]
     },
     "metadata": {
      "needs_background": "light"
     },
     "output_type": "display_data"
    },
    {
     "name": "stdout",
     "output_type": "stream",
     "text": [
      "We reject the null hypothesis that tenure and churn rate are independent\n",
      "There is a relationship between churn rate and tenure\n",
      "\n",
      "is_female\n",
      "0    2149\n",
      "1    2076\n",
      "Name: is_female, dtype: int64\n",
      "0    50.863905\n",
      "1    49.136095\n",
      "Name: is_female, dtype: float64\n"
     ]
    },
    {
     "data": {
      "image/png": "[encoded data removed]",
      "text/plain": [
       "<Figure size 432x288 with 1 Axes>"
      ]
     },
     "metadata": {
      "needs_background": "light"
     },
     "output_type": "display_data"
    },
    {
     "name": "stdout",
     "output_type": "stream",
     "text": [
      "We fail to reject the null hypothesis that is_female and churn rate are independent\n",
      "There appears to be no relationship between churn rate and is_female\n",
      "\n",
      "has_partner\n",
      "0    2161\n",
      "1    2064\n",
      "Name: has_partner, dtype: int64\n",
      "0    51.147929\n",
      "1    48.852071\n",
      "Name: has_partner, dtype: float64\n"
     ]
    },
    {
     "data": {
      "image/png": "[encoded data removed]",
      "text/plain": [
       "<Figure size 432x288 with 1 Axes>"
      ]
     },
     "metadata": {
      "needs_background": "light"
     },
     "output_type": "display_data"
    },
    {
     "name": "stdout",
     "output_type": "stream",
     "text": [
      "We reject the null hypothesis that has_partner and churn rate are independent\n",
      "There is a relationship between churn rate and has_partner\n",
      "\n",
      "has_dependents\n",
      "0    2931\n",
      "1    1294\n",
      "Name: has_dependents, dtype: int64\n",
      "0    69.372781\n",
      "1    30.627219\n",
      "Name: has_dependents, dtype: float64\n"
     ]
    },
    {
     "data": {
      "image/png": "[encoded data removed]",
      "text/plain": [
       "<Figure size 432x288 with 1 Axes>"
      ]
     },
     "metadata": {
      "needs_background": "light"
     },
     "output_type": "display_data"
    },
    {
     "name": "stdout",
     "output_type": "stream",
     "text": [
      "We reject the null hypothesis that has_dependents and churn rate are independent\n",
      "There is a relationship between churn rate and has_dependents\n",
      "\n",
      "has_phone_service\n",
      "1    3832\n",
      "0     393\n",
      "Name: has_phone_service, dtype: int64\n",
      "1    90.698225\n",
      "0     9.301775\n",
      "Name: has_phone_service, dtype: float64\n"
     ]
    },
    {
     "data": {
      "image/png": "[encoded data removed]",
      "text/plain": [
       "<Figure size 432x288 with 1 Axes>"
      ]
     },
     "metadata": {
      "needs_background": "light"
     },
     "output_type": "display_data"
    },
    {
     "name": "stdout",
     "output_type": "stream",
     "text": [
      "We fail to reject the null hypothesis that has_phone_service and churn rate are independent\n",
      "There appears to be no relationship between churn rate and has_phone_service\n",
      "\n",
      "has_paperless_billing\n",
      "1    2509\n",
      "0    1716\n",
      "Name: has_paperless_billing, dtype: int64\n",
      "1    59.384615\n",
      "0    40.615385\n",
      "Name: has_paperless_billing, dtype: float64\n"
     ]
    },
    {
     "data": {
      "image/png": "[encoded data removed]",
      "text/plain": [
       "<Figure size 432x288 with 1 Axes>"
      ]
     },
     "metadata": {
      "needs_background": "light"
     },
     "output_type": "display_data"
    },
    {
     "name": "stdout",
     "output_type": "stream",
     "text": [
      "We reject the null hypothesis that has_paperless_billing and churn rate are independent\n",
      "There is a relationship between churn rate and has_paperless_billing\n",
      "\n",
      "multiple_lines_Yes\n",
      "0    2418\n",
      "1    1807\n",
      "Name: multiple_lines_Yes, dtype: int64\n",
      "0    57.230769\n",
      "1    42.769231\n",
      "Name: multiple_lines_Yes, dtype: float64\n"
     ]
    },
    {
     "data": {
      "image/png": "[encoded data removed]",
      "text/plain": [
       "<Figure size 432x288 with 1 Axes>"
      ]
     },
     "metadata": {
      "needs_background": "light"
     },
     "output_type": "display_data"
    },
    {
     "name": "stdout",
     "output_type": "stream",
     "text": [
      "We reject the null hypothesis that multiple_lines_Yes and churn rate are independent\n",
      "There is a relationship between churn rate and multiple_lines_Yes\n",
      "\n",
      "online_security_Yes\n",
      "0    2993\n",
      "1    1232\n",
      "Name: online_security_Yes, dtype: int64\n",
      "0    70.840237\n",
      "1    29.159763\n",
      "Name: online_security_Yes, dtype: float64\n"
     ]
    },
    {
     "data": {
      "image/png": "[encoded data removed]",
      "text/plain": [
       "<Figure size 432x288 with 1 Axes>"
      ]
     },
     "metadata": {
      "needs_background": "light"
     },
     "output_type": "display_data"
    },
    {
     "name": "stdout",
     "output_type": "stream",
     "text": [
      "We reject the null hypothesis that online_security_Yes and churn rate are independent\n",
      "There is a relationship between churn rate and online_security_Yes\n",
      "\n",
      "online_backup_Yes\n",
      "0    2746\n",
      "1    1479\n",
      "Name: online_backup_Yes, dtype: int64\n",
      "0    64.994083\n",
      "1    35.005917\n",
      "Name: online_backup_Yes, dtype: float64\n"
     ]
    },
    {
     "data": {
      "image/png": "[encoded data removed]",
      "text/plain": [
       "<Figure size 432x288 with 1 Axes>"
      ]
     },
     "metadata": {
      "needs_background": "light"
     },
     "output_type": "display_data"
    },
    {
     "name": "stdout",
     "output_type": "stream",
     "text": [
      "We reject the null hypothesis that online_backup_Yes and churn rate are independent\n",
      "There is a relationship between churn rate and online_backup_Yes\n",
      "\n",
      "device_protection_Yes\n",
      "0    2742\n",
      "1    1483\n",
      "Name: device_protection_Yes, dtype: int64\n",
      "0    64.899408\n",
      "1    35.100592\n",
      "Name: device_protection_Yes, dtype: float64\n"
     ]
    },
    {
     "data": {
      "image/png": "[encoded data removed]",
      "text/plain": [
       "<Figure size 432x288 with 1 Axes>"
      ]
     },
     "metadata": {
      "needs_background": "light"
     },
     "output_type": "display_data"
    },
    {
     "name": "stdout",
     "output_type": "stream",
     "text": [
      "We reject the null hypothesis that device_protection_Yes and churn rate are independent\n",
      "There is a relationship between churn rate and device_protection_Yes\n",
      "\n",
      "tech_support_Yes\n",
      "0    3002\n",
      "1    1223\n",
      "Name: tech_support_Yes, dtype: int64\n",
      "0    71.053254\n",
      "1    28.946746\n",
      "Name: tech_support_Yes, dtype: float64\n"
     ]
    },
    {
     "data": {
      "image/png": "[encoded data removed]",
      "text/plain": [
       "<Figure size 432x288 with 1 Axes>"
      ]
     },
     "metadata": {
      "needs_background": "light"
     },
     "output_type": "display_data"
    },
    {
     "name": "stdout",
     "output_type": "stream",
     "text": [
      "We reject the null hypothesis that tech_support_Yes and churn rate are independent\n",
      "There is a relationship between churn rate and tech_support_Yes\n",
      "\n",
      "streaming_tv_Yes\n",
      "0    2568\n",
      "1    1657\n",
      "Name: streaming_tv_Yes, dtype: int64\n",
      "0    60.781065\n",
      "1    39.218935\n",
      "Name: streaming_tv_Yes, dtype: float64\n"
     ]
    },
    {
     "data": {
      "image/png": "[encoded data removed]",
      "text/plain": [
       "<Figure size 432x288 with 1 Axes>"
      ]
     },
     "metadata": {
      "needs_background": "light"
     },
     "output_type": "display_data"
    },
    {
     "name": "stdout",
     "output_type": "stream",
     "text": [
      "We reject the null hypothesis that streaming_tv_Yes and churn rate are independent\n",
      "There is a relationship between churn rate and streaming_tv_Yes\n",
      "\n",
      "streaming_movies_Yes\n",
      "0    2554\n",
      "1    1671\n",
      "Name: streaming_movies_Yes, dtype: int64\n",
      "0    60.449704\n",
      "1    39.550296\n",
      "Name: streaming_movies_Yes, dtype: float64\n"
     ]
    },
    {
     "data": {
      "image/png": "[encoded data removed]",
      "text/plain": [
       "<Figure size 432x288 with 1 Axes>"
      ]
     },
     "metadata": {
      "needs_background": "light"
     },
     "output_type": "display_data"
    },
    {
     "name": "stdout",
     "output_type": "stream",
     "text": [
      "We reject the null hypothesis that streaming_movies_Yes and churn rate are independent\n",
      "There is a relationship between churn rate and streaming_movies_Yes\n",
      "\n",
      "contract_type_One year\n",
      "0    3312\n",
      "1     913\n",
      "Name: contract_type_One year, dtype: int64\n",
      "0    78.390533\n",
      "1    21.609467\n",
      "Name: contract_type_One year, dtype: float64\n"
     ]
    },
    {
     "data": {
      "image/png": "[encoded data removed]",
      "text/plain": [
       "<Figure size 432x288 with 1 Axes>"
      ]
     },
     "metadata": {
      "needs_background": "light"
     },
     "output_type": "display_data"
    },
    {
     "name": "stdout",
     "output_type": "stream",
     "text": [
      "We reject the null hypothesis that contract_type_One year and churn rate are independent\n",
      "There is a relationship between churn rate and contract_type_One year\n",
      "\n",
      "contract_type_Two year\n",
      "0    3230\n",
      "1     995\n",
      "Name: contract_type_Two year, dtype: int64\n",
      "0    76.449704\n",
      "1    23.550296\n",
      "Name: contract_type_Two year, dtype: float64\n"
     ]
    },
    {
     "data": {
      "image/png": "[encoded data removed]",
      "text/plain": [
       "<Figure size 432x288 with 1 Axes>"
      ]
     },
     "metadata": {
      "needs_background": "light"
     },
     "output_type": "display_data"
    },
    {
     "name": "stdout",
     "output_type": "stream",
     "text": [
      "We reject the null hypothesis that contract_type_Two year and churn rate are independent\n",
      "There is a relationship between churn rate and contract_type_Two year\n",
      "\n",
      "internet_service_type_Fiber optic\n",
      "0    2370\n",
      "1    1855\n",
      "Name: internet_service_type_Fiber optic, dtype: int64\n",
      "0    56.094675\n",
      "1    43.905325\n",
      "Name: internet_service_type_Fiber optic, dtype: float64\n"
     ]
    },
    {
     "data": {
      "image/png": "[encoded data removed]",
      "text/plain": [
       "<Figure size 432x288 with 1 Axes>"
      ]
     },
     "metadata": {
      "needs_background": "light"
     },
     "output_type": "display_data"
    },
    {
     "name": "stdout",
     "output_type": "stream",
     "text": [
      "We reject the null hypothesis that internet_service_type_Fiber optic and churn rate are independent\n",
      "There is a relationship between churn rate and internet_service_type_Fiber optic\n",
      "\n",
      "internet_service_type_None\n",
      "0    3302\n",
      "1     923\n",
      "Name: internet_service_type_None, dtype: int64\n",
      "0    78.153846\n",
      "1    21.846154\n",
      "Name: internet_service_type_None, dtype: float64\n"
     ]
    },
    {
     "data": {
      "image/png": "[encoded data removed]",
      "text/plain": [
       "<Figure size 432x288 with 1 Axes>"
      ]
     },
     "metadata": {
      "needs_background": "light"
     },
     "output_type": "display_data"
    },
    {
     "name": "stdout",
     "output_type": "stream",
     "text": [
      "We reject the null hypothesis that internet_service_type_None and churn rate are independent\n",
      "There is a relationship between churn rate and internet_service_type_None\n",
      "\n",
      "payment_type_Credit card (automatic)\n",
      "0    3306\n",
      "1     919\n",
      "Name: payment_type_Credit card (automatic), dtype: int64\n",
      "0    78.248521\n",
      "1    21.751479\n",
      "Name: payment_type_Credit card (automatic), dtype: float64\n"
     ]
    },
    {
     "data": {
      "image/png": "[encoded data removed]",
      "text/plain": [
       "<Figure size 432x288 with 1 Axes>"
      ]
     },
     "metadata": {
      "needs_background": "light"
     },
     "output_type": "display_data"
    },
    {
     "name": "stdout",
     "output_type": "stream",
     "text": [
      "We reject the null hypothesis that payment_type_Credit card (automatic) and churn rate are independent\n",
      "There is a relationship between churn rate and payment_type_Credit card (automatic)\n",
      "\n",
      "payment_type_Electronic check\n",
      "0    2802\n",
      "1    1423\n",
      "Name: payment_type_Electronic check, dtype: int64\n",
      "0    66.319527\n",
      "1    33.680473\n",
      "Name: payment_type_Electronic check, dtype: float64\n"
     ]
    },
    {
     "data": {
      "image/png": "[encoded data removed]",
      "text/plain": [
       "<Figure size 432x288 with 1 Axes>"
      ]
     },
     "metadata": {
      "needs_background": "light"
     },
     "output_type": "display_data"
    },
    {
     "name": "stdout",
     "output_type": "stream",
     "text": [
      "We reject the null hypothesis that payment_type_Electronic check and churn rate are independent\n",
      "There is a relationship between churn rate and payment_type_Electronic check\n",
      "\n",
      "payment_type_Mailed check\n",
      "0    3275\n",
      "1     950\n",
      "Name: payment_type_Mailed check, dtype: int64\n",
      "0    77.514793\n",
      "1    22.485207\n",
      "Name: payment_type_Mailed check, dtype: float64\n"
     ]
    },
    {
     "data": {
      "image/png": "[encoded data removed]",
      "text/plain": [
       "<Figure size 432x288 with 1 Axes>"
      ]
     },
     "metadata": {
      "needs_background": "light"
     },
     "output_type": "display_data"
    },
    {
     "name": "stdout",
     "output_type": "stream",
     "text": [
      "We reject the null hypothesis that payment_type_Mailed check and churn rate are independent\n",
      "There is a relationship between churn rate and payment_type_Mailed check\n",
      "\n"
     ]
    }
   ],
   "source": [
    "# exploring each categorical feature to get a better understanding of what each column looks like count wise\n",
    "# created visualizations for each feature and chi square hypothesis testing to each feature to determine its \n",
    "# relationship to the churn rate.\n",
    "for col in cat_type_list:\n",
    "    print(col)\n",
    "    print(train[col].value_counts())\n",
    "    print(train[col].value_counts(normalize=True)*100)\n",
    "    explore.telco_analysis(train, col)\n",
    "    print()"
   ]
  },
  {
   "cell_type": "markdown",
   "id": "f3125213",
   "metadata": {},
   "source": [
    "### There is no relatioship between churn rate and that of gender or whether a customer has phone service or not.  Customer id has zero dependency on churn rate but I will keep it in for the sake of the project and identifying final predictions. "
   ]
  },
  {
   "cell_type": "markdown",
   "id": "8a82b8f8",
   "metadata": {},
   "source": [
    "# Further Exploration\n",
    "\n",
    "## How does monthly charges and tenure relate in terms of churn rate?"
   ]
  },
  {
   "cell_type": "code",
   "execution_count": 10,
   "id": "f9f9f70d",
   "metadata": {},
   "outputs": [
    {
     "data": {
      "text/plain": [
       "<AxesSubplot:xlabel='monthly_charges', ylabel='tenure'>"
      ]
     },
     "execution_count": 10,
     "metadata": {},
     "output_type": "execute_result"
    },
    {
     "data": {
      "image/png": "[encoded data removed]",
      "text/plain": [
       "<Figure size 432x288 with 1 Axes>"
      ]
     },
     "metadata": {
      "needs_background": "light"
     },
     "output_type": "display_data"
    }
   ],
   "source": [
    "# Created a scatterplot to show relationships between monthly charges, a customer's tenure, and when they will \n",
    "# possibly churn\n",
    "sns.scatterplot(x = 'monthly_charges', y='tenure', hue= 'has_churned', data = train)"
   ]
  },
  {
   "cell_type": "code",
   "execution_count": 11,
   "id": "e8b6e86c",
   "metadata": {},
   "outputs": [
    {
     "data": {
      "text/plain": [
       "<seaborn.axisgrid.FacetGrid at 0x17b28d100>"
      ]
     },
     "execution_count": 11,
     "metadata": {},
     "output_type": "execute_result"
    },
    {
     "data": {
      "image/png": "[encoded data removed]",
      "text/plain": [
       "<Figure size 431.875x360 with 1 Axes>"
      ]
     },
     "metadata": {
      "needs_background": "light"
     },
     "output_type": "display_data"
    }
   ],
   "source": [
    "# Created a distribution plot to show a different visualization of how monthly charges relates to churn rate\n",
    "sns.displot(x='monthly_charges', hue=\"has_churned\", data = train)"
   ]
  },
  {
   "cell_type": "code",
   "execution_count": 12,
   "id": "c2d000ba",
   "metadata": {},
   "outputs": [
    {
     "data": {
      "text/plain": [
       "<AxesSubplot:xlabel='internet_service_type_None', ylabel='monthly_charges'>"
      ]
     },
     "execution_count": 12,
     "metadata": {},
     "output_type": "execute_result"
    },
    {
     "data": {
      "image/png": "[encoded data removed]",
      "text/plain": [
       "<Figure size 432x288 with 1 Axes>"
      ]
     },
     "metadata": {
      "needs_background": "light"
     },
     "output_type": "display_data"
    }
   ],
   "source": [
    "# Created a barplot to see if having internet services has a big influence on monthly charges and in turn churn\n",
    "# rate\n",
    "sns.barplot(x='internet_service_type_None', y='monthly_charges', hue='has_churned', data = train)"
   ]
  },
  {
   "cell_type": "markdown",
   "id": "d830eb7a",
   "metadata": {},
   "source": [
    "### The higher the monthly charge the more likely the customer will churn thus leading to a low tenure value.   It seems that internet service type plays a role in increased monthly charges as well."
   ]
  },
  {
   "cell_type": "markdown",
   "id": "df074b72",
   "metadata": {},
   "source": [
    "## Do older customers without tech support churn more often than those with?"
   ]
  },
  {
   "cell_type": "code",
   "execution_count": 13,
   "id": "a1c6ab1f",
   "metadata": {},
   "outputs": [
    {
     "data": {
      "text/plain": [
       "<matplotlib.lines.Line2D at 0x17a970df0>"
      ]
     },
     "execution_count": 13,
     "metadata": {},
     "output_type": "execute_result"
    },
    {
     "data": {
      "image/png": "[encoded data removed]",
      "text/plain": [
       "<Figure size 432x288 with 1 Axes>"
      ]
     },
     "metadata": {
      "needs_background": "light"
     },
     "output_type": "display_data"
    }
   ],
   "source": [
    "# Created a barplot to see relationship between older customers and those who don't have technical support\n",
    "sns.barplot(x='senior_citizen', y='has_churned', hue= 'tech_support_Yes', data=train)\n",
    "churn_rate = train.has_churned.mean()\n",
    "plt.axhline(churn_rate, label='churn rate')"
   ]
  },
  {
   "cell_type": "markdown",
   "id": "09483d2a",
   "metadata": {},
   "source": [
    "### Senior citizens without tech support are more prone to churn than those who do have tech support.  The same thing holds true for younger customers as well."
   ]
  },
  {
   "cell_type": "markdown",
   "id": "765136d0",
   "metadata": {},
   "source": [
    "# Model Phase\n",
    "\n",
    "## Setting Up Baseline Accuracy"
   ]
  },
  {
   "cell_type": "code",
   "execution_count": 14,
   "id": "011bc3b7",
   "metadata": {},
   "outputs": [],
   "source": [
    "# Create an 'X' variable that groups all features to be used within my models for my train, validate, and test\n",
    "# dataset and a 'y' variable that is a series with just my target variable 'has_churned' within it\n",
    "X_train = train.drop(columns=(['has_churned', 'is_female', 'has_phone_service','customer_id', 'multiple_lines_Yes', 'online_backup_Yes', 'device_protection_Yes', 'streaming_tv_Yes', 'streaming_movies_Yes']))\n",
    "y_train = train.has_churned\n",
    "X_validate = validate.drop(columns=(['has_churned', 'is_female', 'has_phone_service','customer_id', 'multiple_lines_Yes', 'online_backup_Yes', 'device_protection_Yes', 'streaming_tv_Yes', 'streaming_movies_Yes']))\n",
    "y_validate = validate.has_churned\n",
    "X_test = test.drop(columns=(['has_churned', 'is_female', 'has_phone_service','customer_id','multiple_lines_Yes', 'online_backup_Yes', 'device_protection_Yes', 'streaming_tv_Yes', 'streaming_movies_Yes']))\n",
    "y_test = test.has_churned"
   ]
  },
  {
   "cell_type": "code",
   "execution_count": 15,
   "id": "dd3a3fdb",
   "metadata": {},
   "outputs": [
    {
     "name": "stdout",
     "output_type": "stream",
     "text": [
      "The baseline accuracy for nonchurned customers in all cases within the telco dataset is 0.73\n"
     ]
    }
   ],
   "source": [
    "# Setting up my baseline accuracy.  Models must have a better accuracy than this established baseline.\n",
    "print(f'The baseline accuracy for nonchurned customers in all cases within the telco dataset is {(y_train == 0).mean():.2}')"
   ]
  },
  {
   "cell_type": "markdown",
   "id": "d095d1a7",
   "metadata": {},
   "source": [
    "## Decision Tree Model creation"
   ]
  },
  {
   "cell_type": "code",
   "execution_count": 16,
   "id": "e6ce6e57",
   "metadata": {},
   "outputs": [
    {
     "name": "stdout",
     "output_type": "stream",
     "text": [
      "Tree with max depth of 5\n",
      "                     0            1  accuracy    macro avg  weighted avg\n",
      "precision     0.847307     0.649948  0.802604     0.748627      0.794943\n",
      "recall        0.892075     0.554862  0.802604     0.723468      0.802604\n",
      "f1-score      0.869115     0.598653  0.802604     0.733884      0.797354\n",
      "support    3104.000000  1121.000000  0.802604  4225.000000   4225.000000\n",
      "Tree with max depth of 10\n",
      "                     0            1  accuracy    macro avg  weighted avg\n",
      "precision     0.906415     0.820641  0.886154     0.863528      0.883657\n",
      "recall        0.942332     0.730598  0.886154     0.836465      0.886154\n",
      "f1-score      0.924025     0.773006  0.886154     0.848515      0.883956\n",
      "support    3104.000000  1121.000000  0.886154  4225.000000   4225.000000\n",
      "Tree with max depth of 15\n",
      "                     0            1  accuracy    macro avg  weighted avg\n",
      "precision     0.966540     0.960265   0.96497     0.963403      0.964875\n",
      "recall        0.986469     0.905442   0.96497     0.945955      0.964970\n",
      "f1-score      0.976403     0.932048   0.96497     0.954225      0.964634\n",
      "support    3104.000000  1121.000000   0.96497  4225.000000   4225.000000\n"
     ]
    }
   ],
   "source": [
    "# Creating multiple Decision Tree models utilizing the above chosen features.  Created a for loop that allows me\n",
    "# to look at multiple max depths at once for the train dataset.\n",
    "for i in range (5, 16, 5):\n",
    "    clf = DecisionTreeClassifier(max_depth= i, random_state=123)\n",
    "    clf = clf.fit(X_train, y_train)\n",
    "    y_pred = clf.predict(X_train)\n",
    "    print(f'Tree with max depth of {i}')\n",
    "    print(pd.DataFrame(classification_report(y_train, y_pred, output_dict=True)))"
   ]
  },
  {
   "cell_type": "code",
   "execution_count": 17,
   "id": "e25dfe0e",
   "metadata": {},
   "outputs": [
    {
     "name": "stdout",
     "output_type": "stream",
     "text": [
      "Tree with max depth of 5\n",
      "                     0           1  accuracy    macro avg  weighted avg\n",
      "precision     0.846512    0.625749   0.79418     0.736130      0.787913\n",
      "recall        0.879227    0.558824   0.79418     0.719025      0.794180\n",
      "f1-score      0.862559    0.590395   0.79418     0.726477      0.790317\n",
      "support    1035.000000  374.000000   0.79418  1409.000000   1409.000000\n",
      "Tree with max depth of 10\n",
      "                     0           1  accuracy    macro avg  weighted avg\n",
      "precision     0.833952    0.589124  0.776437     0.711538      0.768966\n",
      "recall        0.868599    0.521390  0.776437     0.694995      0.776437\n",
      "f1-score      0.850923    0.553191  0.776437     0.702057      0.771894\n",
      "support    1035.000000  374.000000  0.776437  1409.000000   1409.000000\n",
      "Tree with max depth of 15\n",
      "                     0           1  accuracy    macro avg  weighted avg\n",
      "precision     0.824260    0.524862  0.747339     0.674561      0.744789\n",
      "recall        0.833816    0.508021  0.747339     0.670919      0.747339\n",
      "f1-score      0.829011    0.516304  0.747339     0.672657      0.746007\n",
      "support    1035.000000  374.000000  0.747339  1409.000000   1409.000000\n"
     ]
    }
   ],
   "source": [
    "# Created a for loop that allows me to look at multiple max depths at once for the validate dataset\n",
    "for i in range (5, 16, 5):\n",
    "    clf = DecisionTreeClassifier(max_depth= i, random_state=123)\n",
    "    clf = clf.fit(X_train, y_train)\n",
    "    y_pred = clf.predict(X_validate)\n",
    "    print(f'Tree with max depth of {i}')\n",
    "    print(pd.DataFrame(classification_report(y_validate, y_pred, output_dict=True)))"
   ]
  },
  {
   "cell_type": "code",
   "execution_count": 18,
   "id": "030be107",
   "metadata": {},
   "outputs": [
    {
     "data": {
      "text/plain": [
       "0.008423280601038918"
      ]
     },
     "execution_count": 18,
     "metadata": {},
     "output_type": "execute_result"
    }
   ],
   "source": [
    "# After finding the best model using decision tree methodology I compared the train set's accuracy score with the \n",
    "# validate set's accuracy score to determine the level of consistency between trained data and untrained data.\n",
    "clf = DecisionTreeClassifier(max_depth=5, random_state=123)\n",
    "clf = clf.fit(X_train, y_train)\n",
    "clf.score(X_train, y_train) - clf.score(X_validate, y_validate)"
   ]
  },
  {
   "cell_type": "markdown",
   "id": "98c5578a",
   "metadata": {},
   "source": [
    "### After creating mulitple decision tree models I decided that a decision tree with a max depth of 5 was the better fit for this model type with a difference in .008 between the train accuracy and validate accuracy."
   ]
  },
  {
   "cell_type": "markdown",
   "id": "534aaa29",
   "metadata": {},
   "source": [
    "## Logistic Regression Model Creation"
   ]
  },
  {
   "cell_type": "code",
   "execution_count": 19,
   "id": "05dfed9e",
   "metadata": {},
   "outputs": [
    {
     "name": "stdout",
     "output_type": "stream",
     "text": [
      "                     0            1  accuracy    macro avg  weighted avg\n",
      "precision     0.829876     0.642773  0.792189     0.736324      0.780233\n",
      "recall        0.902062     0.487957  0.792189     0.695010      0.792189\n",
      "f1-score      0.864464     0.554767  0.792189     0.709616      0.782294\n",
      "support    3104.000000  1121.000000  0.792189  4225.000000   4225.000000\n",
      "\n",
      "                     0           1  accuracy    macro avg  weighted avg\n",
      "precision     0.836007    0.662021  0.800568     0.749014      0.789825\n",
      "recall        0.906280    0.508021  0.800568     0.707151      0.800568\n",
      "f1-score      0.869726    0.574887  0.800568     0.722307      0.791465\n",
      "support    1035.000000  374.000000  0.800568  1409.000000   1409.000000\n"
     ]
    }
   ],
   "source": [
    "# Utilizing my established features within the X_train variable and my target with y_train, I created a logistic\n",
    "# regression model to best predict churn rate.  \n",
    "logit = LogisticRegression(random_state=123)\n",
    "logit = logit.fit(X_train, y_train)\n",
    "y_pred = logit.predict(X_train)\n",
    "print(pd.DataFrame(classification_report(y_train, y_pred, output_dict=True)))\n",
    "print()\n",
    "print(pd.DataFrame(classification_report(y_validate, logit.predict(X_validate), output_dict=True)))"
   ]
  },
  {
   "cell_type": "code",
   "execution_count": 20,
   "id": "d9d148be",
   "metadata": {},
   "outputs": [
    {
     "name": "stdout",
     "output_type": "stream",
     "text": [
      "                     0            1  accuracy    macro avg  weighted avg\n",
      "precision     0.838748     0.649279  0.798343     0.744014      0.788477\n",
      "recall        0.898196     0.521855  0.798343     0.710026      0.798343\n",
      "f1-score      0.867455     0.578635  0.798343     0.723045      0.790824\n",
      "support    3104.000000  1121.000000  0.798343  4225.000000   4225.000000\n",
      "\n",
      "                     0           1  accuracy    macro avg  weighted avg\n",
      "precision     0.840359    0.666667  0.804116     0.753513      0.794255\n",
      "recall        0.905314    0.524064  0.804116     0.714689      0.804116\n",
      "f1-score      0.871628    0.586826  0.804116     0.729227      0.796031\n",
      "support    1035.000000  374.000000  0.804116  1409.000000   1409.000000\n"
     ]
    },
    {
     "name": "stderr",
     "output_type": "stream",
     "text": [
      "/opt/homebrew/anaconda3/lib/python3.9/site-packages/sklearn/linear_model/_logistic.py:814: ConvergenceWarning: lbfgs failed to converge (status=1):\n",
      "STOP: TOTAL NO. of ITERATIONS REACHED LIMIT.\n",
      "\n",
      "Increase the number of iterations (max_iter) or scale the data as shown in:\n",
      "    https://scikit-learn.org/stable/modules/preprocessing.html\n",
      "Please also refer to the documentation for alternative solver options:\n",
      "    https://scikit-learn.org/stable/modules/linear_model.html#logistic-regression\n",
      "  n_iter_i = _check_optimize_result(\n"
     ]
    }
   ],
   "source": [
    "# Created a new model with a new C value of .1\n",
    "logit = LogisticRegression(random_state=123, C=.1)\n",
    "logit = logit.fit(X_train, y_train)\n",
    "y_pred = logit.predict(X_train)\n",
    "print(pd.DataFrame(classification_report(y_train, y_pred, output_dict=True)))\n",
    "print()\n",
    "print(pd.DataFrame(classification_report(y_validate, logit.predict(X_validate), output_dict=True)))"
   ]
  },
  {
   "cell_type": "code",
   "execution_count": 21,
   "id": "468ec16e",
   "metadata": {},
   "outputs": [
    {
     "name": "stdout",
     "output_type": "stream",
     "text": [
      "                     0            1  accuracy    macro avg  weighted avg\n",
      "precision     0.843352     0.649839   0.80071     0.746595      0.792008\n",
      "recall        0.894974     0.539697   0.80071     0.717335      0.800710\n",
      "f1-score      0.868396     0.589669   0.80071     0.729032      0.794443\n",
      "support    3104.000000  1121.000000   0.80071  4225.000000   4225.000000\n",
      "\n",
      "                     0           1  accuracy    macro avg  weighted avg\n",
      "precision     0.846224    0.661290  0.805536     0.753757      0.797136\n",
      "recall        0.898551    0.548128  0.805536     0.723340      0.805536\n",
      "f1-score      0.871603    0.599415  0.805536     0.735509      0.799354\n",
      "support    1035.000000  374.000000  0.805536  1409.000000   1409.000000\n"
     ]
    }
   ],
   "source": [
    "# Created a new model with a new C value of .8\n",
    "logit = LogisticRegression(C=.8)\n",
    "logit = logit.fit(X_train, y_train)\n",
    "y_pred = logit.predict(X_train)\n",
    "print(pd.DataFrame(classification_report(y_train, y_pred, output_dict=True)))\n",
    "print()\n",
    "print(pd.DataFrame(classification_report(y_validate, logit.predict(X_validate), output_dict=True)))"
   ]
  },
  {
   "cell_type": "code",
   "execution_count": 22,
   "id": "48e33395",
   "metadata": {},
   "outputs": [
    {
     "data": {
      "text/plain": [
       "0.004825781850403721"
      ]
     },
     "execution_count": 22,
     "metadata": {},
     "output_type": "execute_result"
    }
   ],
   "source": [
    "# After finding the best model using logitstic regression methodology I compared the train set's accuracy score \n",
    "# with the validate set's accuracy score to determine the level of consistency between trained data and untrained \n",
    "# data.\n",
    "logit.score(X_validate, y_validate)-logit.score(X_train, y_train)"
   ]
  },
  {
   "cell_type": "markdown",
   "id": "a7f811a4",
   "metadata": {},
   "source": [
    "### After creating multiple logistic regression models I decided that a model with a C value of .8 was the better fit for this model type with a difference in .005 between the train accuracy and validate accuracy."
   ]
  },
  {
   "cell_type": "markdown",
   "id": "957b1fb8",
   "metadata": {},
   "source": [
    "## Random Forest Model Creation"
   ]
  },
  {
   "cell_type": "code",
   "execution_count": 23,
   "id": "ee5f51ee",
   "metadata": {},
   "outputs": [
    {
     "name": "stdout",
     "output_type": "stream",
     "text": [
      "Tree with max depth of 5\n",
      "                     0            1  accuracy    macro avg  weighted avg\n",
      "precision     0.826575     0.692513   0.80284     0.759544      0.791005\n",
      "recall        0.925902     0.462087   0.80284     0.693995      0.802840\n",
      "f1-score      0.873423     0.554307   0.80284     0.713865      0.788754\n",
      "support    3104.000000  1121.000000   0.80284  4225.000000   4225.000000\n",
      "Tree with max depth of 6\n",
      "                     0            1  accuracy    macro avg  weighted avg\n",
      "precision     0.837522     0.703611  0.812071     0.770567      0.801992\n",
      "recall        0.923325     0.504014  0.812071     0.713670      0.812071\n",
      "f1-score      0.878333     0.587318  0.812071     0.732825      0.801119\n",
      "support    3104.000000  1121.000000  0.812071  4225.000000   4225.000000\n",
      "Tree with max depth of 7\n",
      "                     0            1  accuracy    macro avg  weighted avg\n",
      "precision     0.849644     0.719812  0.823432     0.784728      0.815196\n",
      "recall        0.923003     0.547725  0.823432     0.735364      0.823432\n",
      "f1-score      0.884805     0.622087  0.823432     0.753446      0.815100\n",
      "support    3104.000000  1121.000000  0.823432  4225.000000   4225.000000\n",
      "Tree with max depth of 8\n",
      "                     0            1  accuracy    macro avg  weighted avg\n",
      "precision     0.862131     0.754005  0.839763     0.808068      0.833442\n",
      "recall        0.930735     0.587868  0.839763     0.759301      0.839763\n",
      "f1-score      0.895120     0.660652  0.839763     0.777886      0.832910\n",
      "support    3104.000000  1121.000000  0.839763  4225.000000   4225.000000\n",
      "Tree with max depth of 9\n",
      "                     0            1  accuracy    macro avg  weighted avg\n",
      "precision     0.873049     0.781635  0.853728     0.827342      0.848795\n",
      "recall        0.937178     0.622658  0.853728     0.779918      0.853728\n",
      "f1-score      0.903978     0.693148  0.853728     0.798563      0.848039\n",
      "support    3104.000000  1121.000000  0.853728  4225.000000   4225.000000\n",
      "Tree with max depth of 10\n",
      "                    0            1  accuracy    macro avg  weighted avg\n",
      "precision     0.89629     0.832444   0.88213     0.864367      0.879350\n",
      "recall        0.94942     0.695807   0.88213     0.822614      0.882130\n",
      "f1-score      0.92209     0.758017   0.88213     0.840054      0.878557\n",
      "support    3104.00000  1121.000000   0.88213  4225.000000   4225.000000\n"
     ]
    }
   ],
   "source": [
    "# Creating multiple Random Forest models utilizing the same chosen features as previous models.  Created a for \n",
    "# loop that allows me to look at multiple max depths at once for the train dataset.\n",
    "for i in range (5, 11):\n",
    "    rf = RandomForestClassifier(max_depth= i, random_state=123)\n",
    "    rf = rf.fit(X_train, y_train)\n",
    "    y_pred = rf.predict(X_train)\n",
    "    print(f'Tree with max depth of {i}')\n",
    "    print(pd.DataFrame(classification_report(y_train, y_pred, output_dict=True)))"
   ]
  },
  {
   "cell_type": "code",
   "execution_count": 24,
   "id": "4aa4eea9",
   "metadata": {},
   "outputs": [
    {
     "name": "stdout",
     "output_type": "stream",
     "text": [
      "Tree with max depth of 5\n",
      "                     0           1  accuracy    macro avg  weighted avg\n",
      "precision     0.826840    0.685039  0.801278     0.755940      0.789201\n",
      "recall        0.922705    0.465241  0.801278     0.693973      0.801278\n",
      "f1-score      0.872146    0.554140  0.801278     0.713143      0.787736\n",
      "support    1035.000000  374.000000  0.801278  1409.000000   1409.000000\n",
      "Tree with max depth of 6\n",
      "                     0           1  accuracy    macro avg  weighted avg\n",
      "precision     0.834951    0.677536  0.804116     0.756244      0.793168\n",
      "recall        0.914010    0.500000  0.804116     0.707005      0.804116\n",
      "f1-score      0.872694    0.575385  0.804116     0.724039      0.793777\n",
      "support    1035.000000  374.000000  0.804116  1409.000000   1409.000000\n",
      "Tree with max depth of 7\n",
      "                     0           1  accuracy    macro avg  weighted avg\n",
      "precision     0.836283    0.677419  0.804826     0.756851      0.794115\n",
      "recall        0.913043    0.505348  0.804826     0.709196      0.804826\n",
      "f1-score      0.872979    0.578867  0.804826     0.725923      0.794911\n",
      "support    1035.000000  374.000000  0.804826  1409.000000   1409.000000\n",
      "Tree with max depth of 8\n",
      "                     0           1  accuracy    macro avg  weighted avg\n",
      "precision     0.841915    0.658940  0.802697     0.750428      0.793347\n",
      "recall        0.900483    0.532086  0.802697     0.716284      0.802697\n",
      "f1-score      0.870215    0.588757  0.802697     0.729486      0.795506\n",
      "support    1035.000000  374.000000  0.802697  1409.000000   1409.000000\n",
      "Tree with max depth of 9\n",
      "                     0           1  accuracy    macro avg  weighted avg\n",
      "precision     0.835273    0.650685  0.797019     0.742979      0.786277\n",
      "recall        0.901449    0.508021  0.797019     0.704735      0.797019\n",
      "f1-score      0.867100    0.570571  0.797019     0.718835      0.788391\n",
      "support    1035.000000  374.000000  0.797019  1409.000000   1409.000000\n",
      "Tree with max depth of 10\n",
      "                     0           1  accuracy    macro avg  weighted avg\n",
      "precision     0.836771    0.653061  0.798439     0.744916      0.788008\n",
      "recall        0.901449    0.513369  0.798439     0.707409      0.798439\n",
      "f1-score      0.867907    0.574850  0.798439     0.721379      0.790119\n",
      "support    1035.000000  374.000000  0.798439  1409.000000   1409.000000\n"
     ]
    }
   ],
   "source": [
    "# Created a for loop that allows me to look at multiple max depths at once for the validate dataset.\n",
    "for i in range (5, 11):\n",
    "    rf = RandomForestClassifier(max_depth= i, random_state=123)\n",
    "    rf = rf.fit(X_train, y_train)\n",
    "    y_pred = rf.predict(X_validate)\n",
    "    print(f'Tree with max depth of {i}')\n",
    "    print(pd.DataFrame(classification_report(y_validate, y_pred, output_dict=True)))"
   ]
  },
  {
   "cell_type": "code",
   "execution_count": 25,
   "id": "7c5f5ead",
   "metadata": {},
   "outputs": [
    {
     "data": {
      "text/plain": [
       "0.0015627349120824752"
      ]
     },
     "execution_count": 25,
     "metadata": {},
     "output_type": "execute_result"
    }
   ],
   "source": [
    "# After discovering that max depth of 5 was the best Random Forest model, I compared the train dataset's accuracy\n",
    "# to that of the validate dataset's accuracy\n",
    "rf = RandomForestClassifier(max_depth=5,random_state=123)\n",
    "rf = rf.fit(X_train, y_train)\n",
    "rf.score(X_train, y_train) - rf.score(X_validate, y_validate)"
   ]
  },
  {
   "cell_type": "markdown",
   "id": "9c6f5848",
   "metadata": {},
   "source": [
    "### After creating multiple Random Forest models I decided that a model with a max depth of 5 was the better fit for this model type with a difference in .002 between the train accuracy and validate accuracy."
   ]
  },
  {
   "cell_type": "markdown",
   "id": "f4e021a8",
   "metadata": {},
   "source": [
    "## KNN Model Creation"
   ]
  },
  {
   "cell_type": "code",
   "execution_count": 26,
   "id": "0152a499",
   "metadata": {},
   "outputs": [
    {
     "name": "stdout",
     "output_type": "stream",
     "text": [
      "KNeighbors with n_neighbors of 10\n",
      "                     0            1  accuracy    macro avg  weighted avg\n",
      "precision     0.819827     0.747634  0.808994     0.783731      0.800673\n",
      "recall        0.948454     0.422837  0.808994     0.685645      0.808994\n",
      "f1-score      0.879462     0.540171  0.808994     0.709817      0.789440\n",
      "support    3104.000000  1121.000000  0.808994  4225.000000   4225.000000\n",
      "KNeighbors with n_neighbors of 15\n",
      "                     0            1  accuracy    macro avg  weighted avg\n",
      "precision     0.821875     0.700709  0.801657     0.761292      0.789727\n",
      "recall        0.932023     0.440678  0.801657     0.686351      0.801657\n",
      "f1-score      0.873490     0.541073  0.801657     0.707282      0.785292\n",
      "support    3104.000000  1121.000000  0.801657  4225.000000   4225.000000\n",
      "KNeighbors with n_neighbors of 20\n",
      "                     0            1  accuracy    macro avg  weighted avg\n",
      "precision     0.809906     0.710311  0.795503     0.760108      0.783481\n",
      "recall        0.942977     0.387154  0.795503     0.665066      0.795503\n",
      "f1-score      0.871390     0.501155  0.795503     0.686273      0.773157\n",
      "support    3104.000000  1121.000000  0.795503  4225.000000   4225.000000\n",
      "KNeighbors with n_neighbors of 25\n",
      "                     0            1  accuracy    macro avg  weighted avg\n",
      "precision     0.811352     0.702060   0.79503     0.756706      0.782354\n",
      "recall        0.939433     0.395183   0.79503     0.667308      0.795030\n",
      "f1-score      0.870708     0.505708   0.79503     0.688208      0.773864\n",
      "support    3104.000000  1121.000000   0.79503  4225.000000   4225.000000\n",
      "KNeighbors with n_neighbors of 30\n",
      "                     0            1  accuracy    macro avg  weighted avg\n",
      "precision     0.801851     0.713249  0.790296     0.757550      0.778342\n",
      "recall        0.949098     0.350580  0.790296     0.649839      0.790296\n",
      "f1-score      0.869283     0.470096  0.790296     0.669689      0.763368\n",
      "support    3104.000000  1121.000000  0.790296  4225.000000   4225.000000\n"
     ]
    }
   ],
   "source": [
    "for i in range (10, 31, 5):\n",
    "    knn = KNeighborsClassifier(n_neighbors=i)\n",
    "    knn = knn.fit(X_train, y_train)\n",
    "    y_pred = knn.predict(X_train)\n",
    "    print(f'KNeighbors with n_neighbors of {i}')\n",
    "    print(pd.DataFrame(classification_report(y_train, y_pred, output_dict=True)))"
   ]
  },
  {
   "cell_type": "code",
   "execution_count": 27,
   "id": "761c84e7",
   "metadata": {},
   "outputs": [
    {
     "name": "stdout",
     "output_type": "stream",
     "text": [
      "KNeighbors with n_neighbors of 10\n",
      "                     0           1  accuracy    macro avg  weighted avg\n",
      "precision     0.803497    0.663462  0.782825     0.733479      0.766327\n",
      "recall        0.932367    0.368984  0.782825     0.650676      0.782825\n",
      "f1-score      0.863148    0.474227  0.782825     0.668688      0.759914\n",
      "support    1035.000000  374.000000  0.782825  1409.000000   1409.000000\n",
      "KNeighbors with n_neighbors of 15\n",
      "                     0           1  accuracy    macro avg  weighted avg\n",
      "precision     0.808673    0.639485  0.780696     0.724079      0.763765\n",
      "recall        0.918841    0.398396  0.780696     0.658618      0.780696\n",
      "f1-score      0.860244    0.490939  0.780696     0.675592      0.762217\n",
      "support    1035.000000  374.000000  0.780696  1409.000000   1409.000000\n",
      "KNeighbors with n_neighbors of 20\n",
      "                     0           1  accuracy    macro avg  weighted avg\n",
      "precision     0.802805    0.685279  0.786373     0.744042      0.771610\n",
      "recall        0.940097    0.360963  0.786373     0.650530      0.786373\n",
      "f1-score      0.866044    0.472855  0.786373     0.669449      0.761677\n",
      "support    1035.000000  374.000000  0.786373  1409.000000   1409.000000\n",
      "KNeighbors with n_neighbors of 25\n",
      "                     0           1  accuracy    macro avg  weighted avg\n",
      "precision     0.809205    0.682243  0.789922     0.745724      0.775505\n",
      "recall        0.934300    0.390374  0.789922     0.662337      0.789922\n",
      "f1-score      0.867265    0.496599  0.789922     0.681932      0.768876\n",
      "support    1035.000000  374.000000  0.789922  1409.000000   1409.000000\n",
      "KNeighbors with n_neighbors of 30\n",
      "                     0           1  accuracy    macro avg  weighted avg\n",
      "precision     0.793998    0.681818  0.779986     0.737908      0.764222\n",
      "recall        0.945894    0.320856  0.779986     0.633375      0.779986\n",
      "f1-score      0.863316    0.436364  0.779986     0.649840      0.749987\n",
      "support    1035.000000  374.000000  0.779986  1409.000000   1409.000000\n"
     ]
    }
   ],
   "source": [
    "for i in range (10, 31, 5):\n",
    "    knn = KNeighborsClassifier(n_neighbors=i)\n",
    "    knn = knn.fit(X_train, y_train)\n",
    "    y_pred = knn.predict(X_validate)\n",
    "    print(f'KNeighbors with n_neighbors of {i}')\n",
    "    print(pd.DataFrame(classification_report(y_validate, y_pred, output_dict=True)))"
   ]
  },
  {
   "cell_type": "code",
   "execution_count": 28,
   "id": "4f28ad22",
   "metadata": {},
   "outputs": [
    {
     "data": {
      "text/plain": [
       "0.005107655351690887"
      ]
     },
     "execution_count": 28,
     "metadata": {},
     "output_type": "execute_result"
    }
   ],
   "source": [
    "knn = KNeighborsClassifier(n_neighbors=25)\n",
    "knn = knn.fit(X_train, y_train)\n",
    "knn.score(X_train, y_train) - knn.score(X_validate, y_validate)"
   ]
  },
  {
   "cell_type": "markdown",
   "id": "2a2c2a4f",
   "metadata": {},
   "source": [
    "### After creating multiple K-Nearest Neighbor models I decided that a model with a k of 25 was the better fit for this model type with a difference in .005 between the train accuracy and validate accuracy."
   ]
  },
  {
   "cell_type": "markdown",
   "id": "e1afe812",
   "metadata": {},
   "source": [
    "## MVP Model Creation Takeaways\n",
    "- After creating multiple Decision Tree models (.008), Logistic Regression models (.005), Random Forest models (.002), and K-Nearest Neighbor models (.005) I discovered that the best model overall was that of the Random Forest.\n",
    "- The Random Forest model provided an accuracy of 80% beating my baseline accuracy of 73% and having the most consistency in results between the train and validate dataset"
   ]
  },
  {
   "cell_type": "markdown",
   "id": "6ac3120a",
   "metadata": {},
   "source": [
    "# Testing Best Model (Random Forest Model max depth of 5)"
   ]
  },
  {
   "cell_type": "code",
   "execution_count": 29,
   "id": "428d489b",
   "metadata": {},
   "outputs": [
    {
     "name": "stdout",
     "output_type": "stream",
     "text": [
      "                     0           1  accuracy    macro avg  weighted avg\n",
      "precision     0.833480    0.675182  0.802697     0.754331      0.791462\n",
      "recall        0.914010    0.494652  0.802697     0.704331      0.802697\n",
      "f1-score      0.871889    0.570988  0.802697     0.721439      0.792019\n",
      "support    1035.000000  374.000000  0.802697  1409.000000   1409.000000\n"
     ]
    }
   ],
   "source": [
    "# Testing my model against the test dataset\n",
    "print(pd.DataFrame(classification_report(y_test, rf.predict(X_test), output_dict=True)))"
   ]
  },
  {
   "cell_type": "markdown",
   "id": "d9131f6d",
   "metadata": {},
   "source": [
    "## Predictions"
   ]
  },
  {
   "cell_type": "code",
   "execution_count": 30,
   "id": "742ba047",
   "metadata": {},
   "outputs": [],
   "source": [
    "# Estimating the probability of churn for each customer\n",
    "proba_test = rf.predict_proba(X_test)"
   ]
  },
  {
   "cell_type": "code",
   "execution_count": 31,
   "id": "de12a6a7",
   "metadata": {},
   "outputs": [
    {
     "data": {
      "text/html": [
       "<div>\n",
       "<style scoped>\n",
       "    .dataframe tbody tr th:only-of-type {\n",
       "        vertical-align: middle;\n",
       "    }\n",
       "\n",
       "    .dataframe tbody tr th {\n",
       "        vertical-align: top;\n",
       "    }\n",
       "\n",
       "    .dataframe thead th {\n",
       "        text-align: right;\n",
       "    }\n",
       "</style>\n",
       "<table border=\"1\" class=\"dataframe\">\n",
       "  <thead>\n",
       "    <tr style=\"text-align: right;\">\n",
       "      <th></th>\n",
       "      <th>0</th>\n",
       "      <th>1</th>\n",
       "    </tr>\n",
       "  </thead>\n",
       "  <tbody>\n",
       "    <tr>\n",
       "      <th>0</th>\n",
       "      <td>0.820467</td>\n",
       "      <td>0.179533</td>\n",
       "    </tr>\n",
       "    <tr>\n",
       "      <th>1</th>\n",
       "      <td>0.957783</td>\n",
       "      <td>0.042217</td>\n",
       "    </tr>\n",
       "    <tr>\n",
       "      <th>2</th>\n",
       "      <td>0.502717</td>\n",
       "      <td>0.497283</td>\n",
       "    </tr>\n",
       "    <tr>\n",
       "      <th>3</th>\n",
       "      <td>0.576383</td>\n",
       "      <td>0.423617</td>\n",
       "    </tr>\n",
       "    <tr>\n",
       "      <th>4</th>\n",
       "      <td>0.341305</td>\n",
       "      <td>0.658695</td>\n",
       "    </tr>\n",
       "  </tbody>\n",
       "</table>\n",
       "</div>"
      ],
      "text/plain": [
       "          0         1\n",
       "0  0.820467  0.179533\n",
       "1  0.957783  0.042217\n",
       "2  0.502717  0.497283\n",
       "3  0.576383  0.423617\n",
       "4  0.341305  0.658695"
      ]
     },
     "execution_count": 31,
     "metadata": {},
     "output_type": "execute_result"
    }
   ],
   "source": [
    "# creating a dataframe for easier visualization \n",
    "proba_df = pd.DataFrame(proba_test, columns = rf.classes_.tolist())\n",
    "proba_df.head()"
   ]
  },
  {
   "cell_type": "code",
   "execution_count": 32,
   "id": "3198698a",
   "metadata": {},
   "outputs": [
    {
     "data": {
      "text/html": [
       "<div>\n",
       "<style scoped>\n",
       "    .dataframe tbody tr th:only-of-type {\n",
       "        vertical-align: middle;\n",
       "    }\n",
       "\n",
       "    .dataframe tbody tr th {\n",
       "        vertical-align: top;\n",
       "    }\n",
       "\n",
       "    .dataframe thead th {\n",
       "        text-align: right;\n",
       "    }\n",
       "</style>\n",
       "<table border=\"1\" class=\"dataframe\">\n",
       "  <thead>\n",
       "    <tr style=\"text-align: right;\">\n",
       "      <th></th>\n",
       "      <th>index</th>\n",
       "      <th>senior_citizen</th>\n",
       "      <th>tenure</th>\n",
       "      <th>monthly_charges</th>\n",
       "      <th>total_charges</th>\n",
       "      <th>has_partner</th>\n",
       "      <th>has_dependents</th>\n",
       "      <th>has_paperless_billing</th>\n",
       "      <th>online_security_Yes</th>\n",
       "      <th>tech_support_Yes</th>\n",
       "      <th>contract_type_One year</th>\n",
       "      <th>contract_type_Two year</th>\n",
       "      <th>internet_service_type_Fiber optic</th>\n",
       "      <th>internet_service_type_None</th>\n",
       "      <th>payment_type_Credit card (automatic)</th>\n",
       "      <th>payment_type_Electronic check</th>\n",
       "      <th>payment_type_Mailed check</th>\n",
       "    </tr>\n",
       "  </thead>\n",
       "  <tbody>\n",
       "    <tr>\n",
       "      <th>0</th>\n",
       "      <td>3160</td>\n",
       "      <td>0</td>\n",
       "      <td>51</td>\n",
       "      <td>95.15</td>\n",
       "      <td>5000.05</td>\n",
       "      <td>1</td>\n",
       "      <td>1</td>\n",
       "      <td>1</td>\n",
       "      <td>1</td>\n",
       "      <td>1</td>\n",
       "      <td>1</td>\n",
       "      <td>0</td>\n",
       "      <td>1</td>\n",
       "      <td>0</td>\n",
       "      <td>0</td>\n",
       "      <td>0</td>\n",
       "      <td>1</td>\n",
       "    </tr>\n",
       "    <tr>\n",
       "      <th>1</th>\n",
       "      <td>1577</td>\n",
       "      <td>0</td>\n",
       "      <td>65</td>\n",
       "      <td>71.00</td>\n",
       "      <td>4386.20</td>\n",
       "      <td>1</td>\n",
       "      <td>0</td>\n",
       "      <td>0</td>\n",
       "      <td>1</td>\n",
       "      <td>0</td>\n",
       "      <td>0</td>\n",
       "      <td>1</td>\n",
       "      <td>0</td>\n",
       "      <td>0</td>\n",
       "      <td>0</td>\n",
       "      <td>0</td>\n",
       "      <td>0</td>\n",
       "    </tr>\n",
       "    <tr>\n",
       "      <th>2</th>\n",
       "      <td>6823</td>\n",
       "      <td>0</td>\n",
       "      <td>18</td>\n",
       "      <td>96.05</td>\n",
       "      <td>1740.70</td>\n",
       "      <td>0</td>\n",
       "      <td>0</td>\n",
       "      <td>1</td>\n",
       "      <td>1</td>\n",
       "      <td>0</td>\n",
       "      <td>0</td>\n",
       "      <td>0</td>\n",
       "      <td>1</td>\n",
       "      <td>0</td>\n",
       "      <td>0</td>\n",
       "      <td>1</td>\n",
       "      <td>0</td>\n",
       "    </tr>\n",
       "    <tr>\n",
       "      <th>3</th>\n",
       "      <td>3615</td>\n",
       "      <td>0</td>\n",
       "      <td>25</td>\n",
       "      <td>105.50</td>\n",
       "      <td>2686.05</td>\n",
       "      <td>0</td>\n",
       "      <td>0</td>\n",
       "      <td>1</td>\n",
       "      <td>1</td>\n",
       "      <td>1</td>\n",
       "      <td>0</td>\n",
       "      <td>0</td>\n",
       "      <td>1</td>\n",
       "      <td>0</td>\n",
       "      <td>0</td>\n",
       "      <td>1</td>\n",
       "      <td>0</td>\n",
       "    </tr>\n",
       "    <tr>\n",
       "      <th>4</th>\n",
       "      <td>882</td>\n",
       "      <td>1</td>\n",
       "      <td>4</td>\n",
       "      <td>88.85</td>\n",
       "      <td>372.45</td>\n",
       "      <td>0</td>\n",
       "      <td>0</td>\n",
       "      <td>1</td>\n",
       "      <td>0</td>\n",
       "      <td>0</td>\n",
       "      <td>0</td>\n",
       "      <td>0</td>\n",
       "      <td>1</td>\n",
       "      <td>0</td>\n",
       "      <td>0</td>\n",
       "      <td>1</td>\n",
       "      <td>0</td>\n",
       "    </tr>\n",
       "  </tbody>\n",
       "</table>\n",
       "</div>"
      ],
      "text/plain": [
       "   index  senior_citizen  tenure  monthly_charges  total_charges  has_partner  \\\n",
       "0   3160               0      51            95.15        5000.05            1   \n",
       "1   1577               0      65            71.00        4386.20            1   \n",
       "2   6823               0      18            96.05        1740.70            0   \n",
       "3   3615               0      25           105.50        2686.05            0   \n",
       "4    882               1       4            88.85         372.45            0   \n",
       "\n",
       "   has_dependents  has_paperless_billing  online_security_Yes  \\\n",
       "0               1                      1                    1   \n",
       "1               0                      0                    1   \n",
       "2               0                      1                    1   \n",
       "3               0                      1                    1   \n",
       "4               0                      1                    0   \n",
       "\n",
       "   tech_support_Yes  contract_type_One year  contract_type_Two year  \\\n",
       "0                 1                       1                       0   \n",
       "1                 0                       0                       1   \n",
       "2                 0                       0                       0   \n",
       "3                 1                       0                       0   \n",
       "4                 0                       0                       0   \n",
       "\n",
       "   internet_service_type_Fiber optic  internet_service_type_None  \\\n",
       "0                                  1                           0   \n",
       "1                                  0                           0   \n",
       "2                                  1                           0   \n",
       "3                                  1                           0   \n",
       "4                                  1                           0   \n",
       "\n",
       "   payment_type_Credit card (automatic)  payment_type_Electronic check  \\\n",
       "0                                     0                              0   \n",
       "1                                     0                              0   \n",
       "2                                     0                              1   \n",
       "3                                     0                              1   \n",
       "4                                     0                              1   \n",
       "\n",
       "   payment_type_Mailed check  \n",
       "0                          1  \n",
       "1                          0  \n",
       "2                          0  \n",
       "3                          0  \n",
       "4                          0  "
      ]
     },
     "execution_count": 32,
     "metadata": {},
     "output_type": "execute_result"
    }
   ],
   "source": [
    "# Creating a new index for each customer reminscent of customer ID\n",
    "test_df = X_test.reset_index()\n",
    "test_df.head()"
   ]
  },
  {
   "cell_type": "code",
   "execution_count": 33,
   "id": "c2640355",
   "metadata": {},
   "outputs": [
    {
     "data": {
      "text/html": [
       "<div>\n",
       "<style scoped>\n",
       "    .dataframe tbody tr th:only-of-type {\n",
       "        vertical-align: middle;\n",
       "    }\n",
       "\n",
       "    .dataframe tbody tr th {\n",
       "        vertical-align: top;\n",
       "    }\n",
       "\n",
       "    .dataframe thead th {\n",
       "        text-align: right;\n",
       "    }\n",
       "</style>\n",
       "<table border=\"1\" class=\"dataframe\">\n",
       "  <thead>\n",
       "    <tr style=\"text-align: right;\">\n",
       "      <th></th>\n",
       "      <th>index</th>\n",
       "      <th>senior_citizen</th>\n",
       "      <th>tenure</th>\n",
       "      <th>monthly_charges</th>\n",
       "      <th>total_charges</th>\n",
       "      <th>has_partner</th>\n",
       "      <th>has_dependents</th>\n",
       "      <th>has_paperless_billing</th>\n",
       "      <th>online_security_Yes</th>\n",
       "      <th>tech_support_Yes</th>\n",
       "      <th>contract_type_One year</th>\n",
       "      <th>contract_type_Two year</th>\n",
       "      <th>internet_service_type_Fiber optic</th>\n",
       "      <th>internet_service_type_None</th>\n",
       "      <th>payment_type_Credit card (automatic)</th>\n",
       "      <th>payment_type_Electronic check</th>\n",
       "      <th>payment_type_Mailed check</th>\n",
       "      <th>0</th>\n",
       "      <th>1</th>\n",
       "    </tr>\n",
       "  </thead>\n",
       "  <tbody>\n",
       "    <tr>\n",
       "      <th>0</th>\n",
       "      <td>3160</td>\n",
       "      <td>0</td>\n",
       "      <td>51</td>\n",
       "      <td>95.15</td>\n",
       "      <td>5000.05</td>\n",
       "      <td>1</td>\n",
       "      <td>1</td>\n",
       "      <td>1</td>\n",
       "      <td>1</td>\n",
       "      <td>1</td>\n",
       "      <td>1</td>\n",
       "      <td>0</td>\n",
       "      <td>1</td>\n",
       "      <td>0</td>\n",
       "      <td>0</td>\n",
       "      <td>0</td>\n",
       "      <td>1</td>\n",
       "      <td>0.820467</td>\n",
       "      <td>0.179533</td>\n",
       "    </tr>\n",
       "    <tr>\n",
       "      <th>1</th>\n",
       "      <td>1577</td>\n",
       "      <td>0</td>\n",
       "      <td>65</td>\n",
       "      <td>71.00</td>\n",
       "      <td>4386.20</td>\n",
       "      <td>1</td>\n",
       "      <td>0</td>\n",
       "      <td>0</td>\n",
       "      <td>1</td>\n",
       "      <td>0</td>\n",
       "      <td>0</td>\n",
       "      <td>1</td>\n",
       "      <td>0</td>\n",
       "      <td>0</td>\n",
       "      <td>0</td>\n",
       "      <td>0</td>\n",
       "      <td>0</td>\n",
       "      <td>0.957783</td>\n",
       "      <td>0.042217</td>\n",
       "    </tr>\n",
       "    <tr>\n",
       "      <th>2</th>\n",
       "      <td>6823</td>\n",
       "      <td>0</td>\n",
       "      <td>18</td>\n",
       "      <td>96.05</td>\n",
       "      <td>1740.70</td>\n",
       "      <td>0</td>\n",
       "      <td>0</td>\n",
       "      <td>1</td>\n",
       "      <td>1</td>\n",
       "      <td>0</td>\n",
       "      <td>0</td>\n",
       "      <td>0</td>\n",
       "      <td>1</td>\n",
       "      <td>0</td>\n",
       "      <td>0</td>\n",
       "      <td>1</td>\n",
       "      <td>0</td>\n",
       "      <td>0.502717</td>\n",
       "      <td>0.497283</td>\n",
       "    </tr>\n",
       "    <tr>\n",
       "      <th>3</th>\n",
       "      <td>3615</td>\n",
       "      <td>0</td>\n",
       "      <td>25</td>\n",
       "      <td>105.50</td>\n",
       "      <td>2686.05</td>\n",
       "      <td>0</td>\n",
       "      <td>0</td>\n",
       "      <td>1</td>\n",
       "      <td>1</td>\n",
       "      <td>1</td>\n",
       "      <td>0</td>\n",
       "      <td>0</td>\n",
       "      <td>1</td>\n",
       "      <td>0</td>\n",
       "      <td>0</td>\n",
       "      <td>1</td>\n",
       "      <td>0</td>\n",
       "      <td>0.576383</td>\n",
       "      <td>0.423617</td>\n",
       "    </tr>\n",
       "    <tr>\n",
       "      <th>4</th>\n",
       "      <td>882</td>\n",
       "      <td>1</td>\n",
       "      <td>4</td>\n",
       "      <td>88.85</td>\n",
       "      <td>372.45</td>\n",
       "      <td>0</td>\n",
       "      <td>0</td>\n",
       "      <td>1</td>\n",
       "      <td>0</td>\n",
       "      <td>0</td>\n",
       "      <td>0</td>\n",
       "      <td>0</td>\n",
       "      <td>1</td>\n",
       "      <td>0</td>\n",
       "      <td>0</td>\n",
       "      <td>1</td>\n",
       "      <td>0</td>\n",
       "      <td>0.341305</td>\n",
       "      <td>0.658695</td>\n",
       "    </tr>\n",
       "  </tbody>\n",
       "</table>\n",
       "</div>"
      ],
      "text/plain": [
       "   index  senior_citizen  tenure  monthly_charges  total_charges  has_partner  \\\n",
       "0   3160               0      51            95.15        5000.05            1   \n",
       "1   1577               0      65            71.00        4386.20            1   \n",
       "2   6823               0      18            96.05        1740.70            0   \n",
       "3   3615               0      25           105.50        2686.05            0   \n",
       "4    882               1       4            88.85         372.45            0   \n",
       "\n",
       "   has_dependents  has_paperless_billing  online_security_Yes  \\\n",
       "0               1                      1                    1   \n",
       "1               0                      0                    1   \n",
       "2               0                      1                    1   \n",
       "3               0                      1                    1   \n",
       "4               0                      1                    0   \n",
       "\n",
       "   tech_support_Yes  contract_type_One year  contract_type_Two year  \\\n",
       "0                 1                       1                       0   \n",
       "1                 0                       0                       1   \n",
       "2                 0                       0                       0   \n",
       "3                 1                       0                       0   \n",
       "4                 0                       0                       0   \n",
       "\n",
       "   internet_service_type_Fiber optic  internet_service_type_None  \\\n",
       "0                                  1                           0   \n",
       "1                                  0                           0   \n",
       "2                                  1                           0   \n",
       "3                                  1                           0   \n",
       "4                                  1                           0   \n",
       "\n",
       "   payment_type_Credit card (automatic)  payment_type_Electronic check  \\\n",
       "0                                     0                              0   \n",
       "1                                     0                              0   \n",
       "2                                     0                              1   \n",
       "3                                     0                              1   \n",
       "4                                     0                              1   \n",
       "\n",
       "   payment_type_Mailed check         0         1  \n",
       "0                          1  0.820467  0.179533  \n",
       "1                          0  0.957783  0.042217  \n",
       "2                          0  0.502717  0.497283  \n",
       "3                          0  0.576383  0.423617  \n",
       "4                          0  0.341305  0.658695  "
      ]
     },
     "execution_count": 33,
     "metadata": {},
     "output_type": "execute_result"
    }
   ],
   "source": [
    "# Merged the probability dataframe with test dataset that contains new index\n",
    "predictions = pd.concat([test_df, proba_df], axis=1)\n",
    "predictions.head()"
   ]
  },
  {
   "cell_type": "code",
   "execution_count": 34,
   "id": "e59b4375",
   "metadata": {},
   "outputs": [
    {
     "data": {
      "text/html": [
       "<div>\n",
       "<style scoped>\n",
       "    .dataframe tbody tr th:only-of-type {\n",
       "        vertical-align: middle;\n",
       "    }\n",
       "\n",
       "    .dataframe tbody tr th {\n",
       "        vertical-align: top;\n",
       "    }\n",
       "\n",
       "    .dataframe thead th {\n",
       "        text-align: right;\n",
       "    }\n",
       "</style>\n",
       "<table border=\"1\" class=\"dataframe\">\n",
       "  <thead>\n",
       "    <tr style=\"text-align: right;\">\n",
       "      <th></th>\n",
       "      <th>index</th>\n",
       "      <th>senior_citizen</th>\n",
       "      <th>tenure</th>\n",
       "      <th>monthly_charges</th>\n",
       "      <th>total_charges</th>\n",
       "      <th>has_partner</th>\n",
       "      <th>has_dependents</th>\n",
       "      <th>has_paperless_billing</th>\n",
       "      <th>online_security_Yes</th>\n",
       "      <th>tech_support_Yes</th>\n",
       "      <th>contract_type_One year</th>\n",
       "      <th>contract_type_Two year</th>\n",
       "      <th>internet_service_type_Fiber optic</th>\n",
       "      <th>internet_service_type_None</th>\n",
       "      <th>payment_type_Credit card (automatic)</th>\n",
       "      <th>payment_type_Electronic check</th>\n",
       "      <th>payment_type_Mailed check</th>\n",
       "      <th>0</th>\n",
       "      <th>1</th>\n",
       "      <th>predicted</th>\n",
       "    </tr>\n",
       "  </thead>\n",
       "  <tbody>\n",
       "    <tr>\n",
       "      <th>0</th>\n",
       "      <td>3160</td>\n",
       "      <td>0</td>\n",
       "      <td>51</td>\n",
       "      <td>95.15</td>\n",
       "      <td>5000.05</td>\n",
       "      <td>1</td>\n",
       "      <td>1</td>\n",
       "      <td>1</td>\n",
       "      <td>1</td>\n",
       "      <td>1</td>\n",
       "      <td>1</td>\n",
       "      <td>0</td>\n",
       "      <td>1</td>\n",
       "      <td>0</td>\n",
       "      <td>0</td>\n",
       "      <td>0</td>\n",
       "      <td>1</td>\n",
       "      <td>0.820467</td>\n",
       "      <td>0.179533</td>\n",
       "      <td>0</td>\n",
       "    </tr>\n",
       "    <tr>\n",
       "      <th>1</th>\n",
       "      <td>1577</td>\n",
       "      <td>0</td>\n",
       "      <td>65</td>\n",
       "      <td>71.00</td>\n",
       "      <td>4386.20</td>\n",
       "      <td>1</td>\n",
       "      <td>0</td>\n",
       "      <td>0</td>\n",
       "      <td>1</td>\n",
       "      <td>0</td>\n",
       "      <td>0</td>\n",
       "      <td>1</td>\n",
       "      <td>0</td>\n",
       "      <td>0</td>\n",
       "      <td>0</td>\n",
       "      <td>0</td>\n",
       "      <td>0</td>\n",
       "      <td>0.957783</td>\n",
       "      <td>0.042217</td>\n",
       "      <td>0</td>\n",
       "    </tr>\n",
       "    <tr>\n",
       "      <th>2</th>\n",
       "      <td>6823</td>\n",
       "      <td>0</td>\n",
       "      <td>18</td>\n",
       "      <td>96.05</td>\n",
       "      <td>1740.70</td>\n",
       "      <td>0</td>\n",
       "      <td>0</td>\n",
       "      <td>1</td>\n",
       "      <td>1</td>\n",
       "      <td>0</td>\n",
       "      <td>0</td>\n",
       "      <td>0</td>\n",
       "      <td>1</td>\n",
       "      <td>0</td>\n",
       "      <td>0</td>\n",
       "      <td>1</td>\n",
       "      <td>0</td>\n",
       "      <td>0.502717</td>\n",
       "      <td>0.497283</td>\n",
       "      <td>0</td>\n",
       "    </tr>\n",
       "    <tr>\n",
       "      <th>3</th>\n",
       "      <td>3615</td>\n",
       "      <td>0</td>\n",
       "      <td>25</td>\n",
       "      <td>105.50</td>\n",
       "      <td>2686.05</td>\n",
       "      <td>0</td>\n",
       "      <td>0</td>\n",
       "      <td>1</td>\n",
       "      <td>1</td>\n",
       "      <td>1</td>\n",
       "      <td>0</td>\n",
       "      <td>0</td>\n",
       "      <td>1</td>\n",
       "      <td>0</td>\n",
       "      <td>0</td>\n",
       "      <td>1</td>\n",
       "      <td>0</td>\n",
       "      <td>0.576383</td>\n",
       "      <td>0.423617</td>\n",
       "      <td>0</td>\n",
       "    </tr>\n",
       "    <tr>\n",
       "      <th>4</th>\n",
       "      <td>882</td>\n",
       "      <td>1</td>\n",
       "      <td>4</td>\n",
       "      <td>88.85</td>\n",
       "      <td>372.45</td>\n",
       "      <td>0</td>\n",
       "      <td>0</td>\n",
       "      <td>1</td>\n",
       "      <td>0</td>\n",
       "      <td>0</td>\n",
       "      <td>0</td>\n",
       "      <td>0</td>\n",
       "      <td>1</td>\n",
       "      <td>0</td>\n",
       "      <td>0</td>\n",
       "      <td>1</td>\n",
       "      <td>0</td>\n",
       "      <td>0.341305</td>\n",
       "      <td>0.658695</td>\n",
       "      <td>1</td>\n",
       "    </tr>\n",
       "  </tbody>\n",
       "</table>\n",
       "</div>"
      ],
      "text/plain": [
       "   index  senior_citizen  tenure  monthly_charges  total_charges  has_partner  \\\n",
       "0   3160               0      51            95.15        5000.05            1   \n",
       "1   1577               0      65            71.00        4386.20            1   \n",
       "2   6823               0      18            96.05        1740.70            0   \n",
       "3   3615               0      25           105.50        2686.05            0   \n",
       "4    882               1       4            88.85         372.45            0   \n",
       "\n",
       "   has_dependents  has_paperless_billing  online_security_Yes  \\\n",
       "0               1                      1                    1   \n",
       "1               0                      0                    1   \n",
       "2               0                      1                    1   \n",
       "3               0                      1                    1   \n",
       "4               0                      1                    0   \n",
       "\n",
       "   tech_support_Yes  contract_type_One year  contract_type_Two year  \\\n",
       "0                 1                       1                       0   \n",
       "1                 0                       0                       1   \n",
       "2                 0                       0                       0   \n",
       "3                 1                       0                       0   \n",
       "4                 0                       0                       0   \n",
       "\n",
       "   internet_service_type_Fiber optic  internet_service_type_None  \\\n",
       "0                                  1                           0   \n",
       "1                                  0                           0   \n",
       "2                                  1                           0   \n",
       "3                                  1                           0   \n",
       "4                                  1                           0   \n",
       "\n",
       "   payment_type_Credit card (automatic)  payment_type_Electronic check  \\\n",
       "0                                     0                              0   \n",
       "1                                     0                              0   \n",
       "2                                     0                              1   \n",
       "3                                     0                              1   \n",
       "4                                     0                              1   \n",
       "\n",
       "   payment_type_Mailed check         0         1  predicted  \n",
       "0                          1  0.820467  0.179533          0  \n",
       "1                          0  0.957783  0.042217          0  \n",
       "2                          0  0.502717  0.497283          0  \n",
       "3                          0  0.576383  0.423617          0  \n",
       "4                          0  0.341305  0.658695          1  "
      ]
     },
     "execution_count": 34,
     "metadata": {},
     "output_type": "execute_result"
    }
   ],
   "source": [
    "# Created a new column to display the predicted churn via my best model (Random Forest model)\n",
    "predictions['predicted'] = rf.predict(X_test)\n",
    "predictions.head()"
   ]
  },
  {
   "cell_type": "code",
   "execution_count": 35,
   "id": "096da209",
   "metadata": {},
   "outputs": [
    {
     "data": {
      "text/html": [
       "<div>\n",
       "<style scoped>\n",
       "    .dataframe tbody tr th:only-of-type {\n",
       "        vertical-align: middle;\n",
       "    }\n",
       "\n",
       "    .dataframe tbody tr th {\n",
       "        vertical-align: top;\n",
       "    }\n",
       "\n",
       "    .dataframe thead th {\n",
       "        text-align: right;\n",
       "    }\n",
       "</style>\n",
       "<table border=\"1\" class=\"dataframe\">\n",
       "  <thead>\n",
       "    <tr style=\"text-align: right;\">\n",
       "      <th></th>\n",
       "      <th>index</th>\n",
       "      <th>0</th>\n",
       "      <th>1</th>\n",
       "      <th>predicted</th>\n",
       "    </tr>\n",
       "  </thead>\n",
       "  <tbody>\n",
       "    <tr>\n",
       "      <th>0</th>\n",
       "      <td>3160</td>\n",
       "      <td>0.820467</td>\n",
       "      <td>0.179533</td>\n",
       "      <td>0</td>\n",
       "    </tr>\n",
       "    <tr>\n",
       "      <th>1</th>\n",
       "      <td>1577</td>\n",
       "      <td>0.957783</td>\n",
       "      <td>0.042217</td>\n",
       "      <td>0</td>\n",
       "    </tr>\n",
       "    <tr>\n",
       "      <th>2</th>\n",
       "      <td>6823</td>\n",
       "      <td>0.502717</td>\n",
       "      <td>0.497283</td>\n",
       "      <td>0</td>\n",
       "    </tr>\n",
       "    <tr>\n",
       "      <th>3</th>\n",
       "      <td>3615</td>\n",
       "      <td>0.576383</td>\n",
       "      <td>0.423617</td>\n",
       "      <td>0</td>\n",
       "    </tr>\n",
       "    <tr>\n",
       "      <th>4</th>\n",
       "      <td>882</td>\n",
       "      <td>0.341305</td>\n",
       "      <td>0.658695</td>\n",
       "      <td>1</td>\n",
       "    </tr>\n",
       "  </tbody>\n",
       "</table>\n",
       "</div>"
      ],
      "text/plain": [
       "   index         0         1  predicted\n",
       "0   3160  0.820467  0.179533          0\n",
       "1   1577  0.957783  0.042217          0\n",
       "2   6823  0.502717  0.497283          0\n",
       "3   3615  0.576383  0.423617          0\n",
       "4    882  0.341305  0.658695          1"
      ]
     },
     "execution_count": 35,
     "metadata": {},
     "output_type": "execute_result"
    }
   ],
   "source": [
    "# Created new dataframe with condensed information/features for prediction csv file\n",
    "csv_churn = predictions[['index', 0, 1, 'predicted']]\n",
    "csv_churn.head()"
   ]
  },
  {
   "cell_type": "code",
   "execution_count": 53,
   "id": "dc1e6d89",
   "metadata": {},
   "outputs": [],
   "source": [
    "# Saved my csv file to my directory\n",
    "csv_churn.to_csv('predictions.csv')"
   ]
  },
  {
   "cell_type": "markdown",
   "id": "5e8ff7dc",
   "metadata": {},
   "source": [
    "# Conclusions and Recommendations"
   ]
  },
  {
   "cell_type": "markdown",
   "id": "4f908485",
   "metadata": {},
   "source": [
    "1. Utilizing the following features outlined in X_train, X_validate, and X_test I was able to narrow down my best model for predicting churn at Telco using a random forest model with a max depth of 5 and an 80% accuracy rate.\n",
    "\n",
    "2. Many features help to predict churn with some of the bigger predictors being age (senior_citizen), how much a customer is paying (monthly_charges, total_charges, contract_type, payment_type) and what's affecting how much they pay (internet_service_type), and finally whether customers have adequate support with their plan (tech_support)\n",
    "\n",
    "3. My recommendations are that customers are encouraged to sign up with a one or two year contract by maybe offering technical support included.  We should also focus on a younger crowd who has an established family because they tend to churn at a lesser rate."
   ]
  },
  {
   "cell_type": "code",
   "execution_count": null,
   "id": "a38fa50c",
   "metadata": {},
   "outputs": [],
   "source": []
  }
 ],
 "metadata": {
  "kernelspec": {
   "display_name": "Python 3 (ipykernel)",
   "language": "python",
   "name": "python3"
  },
  "language_info": {
   "codemirror_mode": {
    "name": "ipython",
    "version": 3
   },
   "file_extension": ".py",
   "mimetype": "text/x-python",
   "name": "python",
   "nbconvert_exporter": "python",
   "pygments_lexer": "ipython3",
   "version": "3.9.12"
  }
 },
 "nbformat": 4,
 "nbformat_minor": 5
}

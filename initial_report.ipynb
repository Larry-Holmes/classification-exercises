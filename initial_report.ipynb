{
 "cells": [
  {
   "cell_type": "code",
   "execution_count": 105,
   "id": "28513f10",
   "metadata": {},
   "outputs": [],
   "source": [
    "# the default additions to my notebook\n",
    "import pandas as pd\n",
    "import numpy as np\n",
    "\n",
    "# custom files used to import functions created by me and tailored for the telco dataset\n",
    "import acquire\n",
    "import prepare\n",
    "import explore\n",
    "\n",
    "# matplotlib and seaborn are added for visuals\n",
    "import matplotlib.pyplot as plt\n",
    "import seaborn as sns\n",
    "\n",
    "# stats is added for any computational work that needs to be done\n",
    "from scipy import stats\n",
    "\n",
    "# utilized for creating models and visualization\n",
    "from sklearn.tree import DecisionTreeClassifier, plot_tree\n",
    "from sklearn.linear_model import LogisticRegression\n",
    "from sklearn.ensemble import RandomForestClassifier\n",
    "from sklearn.neighbors import KNeighborsClassifier\n",
    "\n",
    "# utilized for metrics on my models\n",
    "from sklearn.metrics import confusion_matrix, classification_report"
   ]
  },
  {
   "cell_type": "code",
   "execution_count": 4,
   "id": "09e8c888",
   "metadata": {
    "scrolled": true
   },
   "outputs": [
    {
     "data": {
      "text/html": [
       "<div>\n",
       "<style scoped>\n",
       "    .dataframe tbody tr th:only-of-type {\n",
       "        vertical-align: middle;\n",
       "    }\n",
       "\n",
       "    .dataframe tbody tr th {\n",
       "        vertical-align: top;\n",
       "    }\n",
       "\n",
       "    .dataframe thead th {\n",
       "        text-align: right;\n",
       "    }\n",
       "</style>\n",
       "<table border=\"1\" class=\"dataframe\">\n",
       "  <thead>\n",
       "    <tr style=\"text-align: right;\">\n",
       "      <th></th>\n",
       "      <th>payment_type_id</th>\n",
       "      <th>internet_service_type_id</th>\n",
       "      <th>contract_type_id</th>\n",
       "      <th>customer_id</th>\n",
       "      <th>gender</th>\n",
       "      <th>senior_citizen</th>\n",
       "      <th>partner</th>\n",
       "      <th>dependents</th>\n",
       "      <th>tenure</th>\n",
       "      <th>phone_service</th>\n",
       "      <th>...</th>\n",
       "      <th>tech_support</th>\n",
       "      <th>streaming_tv</th>\n",
       "      <th>streaming_movies</th>\n",
       "      <th>paperless_billing</th>\n",
       "      <th>monthly_charges</th>\n",
       "      <th>total_charges</th>\n",
       "      <th>churn</th>\n",
       "      <th>contract_type</th>\n",
       "      <th>internet_service_type</th>\n",
       "      <th>payment_type</th>\n",
       "    </tr>\n",
       "  </thead>\n",
       "  <tbody>\n",
       "    <tr>\n",
       "      <th>0</th>\n",
       "      <td>2</td>\n",
       "      <td>1</td>\n",
       "      <td>2</td>\n",
       "      <td>0002-ORFBO</td>\n",
       "      <td>Female</td>\n",
       "      <td>0</td>\n",
       "      <td>Yes</td>\n",
       "      <td>Yes</td>\n",
       "      <td>9</td>\n",
       "      <td>Yes</td>\n",
       "      <td>...</td>\n",
       "      <td>Yes</td>\n",
       "      <td>Yes</td>\n",
       "      <td>No</td>\n",
       "      <td>Yes</td>\n",
       "      <td>65.6</td>\n",
       "      <td>593.3</td>\n",
       "      <td>No</td>\n",
       "      <td>One year</td>\n",
       "      <td>DSL</td>\n",
       "      <td>Mailed check</td>\n",
       "    </tr>\n",
       "    <tr>\n",
       "      <th>1</th>\n",
       "      <td>2</td>\n",
       "      <td>1</td>\n",
       "      <td>1</td>\n",
       "      <td>0003-MKNFE</td>\n",
       "      <td>Male</td>\n",
       "      <td>0</td>\n",
       "      <td>No</td>\n",
       "      <td>No</td>\n",
       "      <td>9</td>\n",
       "      <td>Yes</td>\n",
       "      <td>...</td>\n",
       "      <td>No</td>\n",
       "      <td>No</td>\n",
       "      <td>Yes</td>\n",
       "      <td>No</td>\n",
       "      <td>59.9</td>\n",
       "      <td>542.4</td>\n",
       "      <td>No</td>\n",
       "      <td>Month-to-month</td>\n",
       "      <td>DSL</td>\n",
       "      <td>Mailed check</td>\n",
       "    </tr>\n",
       "    <tr>\n",
       "      <th>2</th>\n",
       "      <td>1</td>\n",
       "      <td>2</td>\n",
       "      <td>1</td>\n",
       "      <td>0004-TLHLJ</td>\n",
       "      <td>Male</td>\n",
       "      <td>0</td>\n",
       "      <td>No</td>\n",
       "      <td>No</td>\n",
       "      <td>4</td>\n",
       "      <td>Yes</td>\n",
       "      <td>...</td>\n",
       "      <td>No</td>\n",
       "      <td>No</td>\n",
       "      <td>No</td>\n",
       "      <td>Yes</td>\n",
       "      <td>73.9</td>\n",
       "      <td>280.85</td>\n",
       "      <td>Yes</td>\n",
       "      <td>Month-to-month</td>\n",
       "      <td>Fiber optic</td>\n",
       "      <td>Electronic check</td>\n",
       "    </tr>\n",
       "    <tr>\n",
       "      <th>3</th>\n",
       "      <td>1</td>\n",
       "      <td>2</td>\n",
       "      <td>1</td>\n",
       "      <td>0011-IGKFF</td>\n",
       "      <td>Male</td>\n",
       "      <td>1</td>\n",
       "      <td>Yes</td>\n",
       "      <td>No</td>\n",
       "      <td>13</td>\n",
       "      <td>Yes</td>\n",
       "      <td>...</td>\n",
       "      <td>No</td>\n",
       "      <td>Yes</td>\n",
       "      <td>Yes</td>\n",
       "      <td>Yes</td>\n",
       "      <td>98.0</td>\n",
       "      <td>1237.85</td>\n",
       "      <td>Yes</td>\n",
       "      <td>Month-to-month</td>\n",
       "      <td>Fiber optic</td>\n",
       "      <td>Electronic check</td>\n",
       "    </tr>\n",
       "    <tr>\n",
       "      <th>4</th>\n",
       "      <td>2</td>\n",
       "      <td>2</td>\n",
       "      <td>1</td>\n",
       "      <td>0013-EXCHZ</td>\n",
       "      <td>Female</td>\n",
       "      <td>1</td>\n",
       "      <td>Yes</td>\n",
       "      <td>No</td>\n",
       "      <td>3</td>\n",
       "      <td>Yes</td>\n",
       "      <td>...</td>\n",
       "      <td>Yes</td>\n",
       "      <td>Yes</td>\n",
       "      <td>No</td>\n",
       "      <td>Yes</td>\n",
       "      <td>83.9</td>\n",
       "      <td>267.4</td>\n",
       "      <td>Yes</td>\n",
       "      <td>Month-to-month</td>\n",
       "      <td>Fiber optic</td>\n",
       "      <td>Mailed check</td>\n",
       "    </tr>\n",
       "  </tbody>\n",
       "</table>\n",
       "<p>5 rows × 24 columns</p>\n",
       "</div>"
      ],
      "text/plain": [
       "   payment_type_id  internet_service_type_id  contract_type_id customer_id  \\\n",
       "0                2                         1                 2  0002-ORFBO   \n",
       "1                2                         1                 1  0003-MKNFE   \n",
       "2                1                         2                 1  0004-TLHLJ   \n",
       "3                1                         2                 1  0011-IGKFF   \n",
       "4                2                         2                 1  0013-EXCHZ   \n",
       "\n",
       "   gender  senior_citizen partner dependents  tenure phone_service  ...  \\\n",
       "0  Female               0     Yes        Yes       9           Yes  ...   \n",
       "1    Male               0      No         No       9           Yes  ...   \n",
       "2    Male               0      No         No       4           Yes  ...   \n",
       "3    Male               1     Yes         No      13           Yes  ...   \n",
       "4  Female               1     Yes         No       3           Yes  ...   \n",
       "\n",
       "  tech_support streaming_tv streaming_movies paperless_billing  \\\n",
       "0          Yes          Yes               No               Yes   \n",
       "1           No           No              Yes                No   \n",
       "2           No           No               No               Yes   \n",
       "3           No          Yes              Yes               Yes   \n",
       "4          Yes          Yes               No               Yes   \n",
       "\n",
       "  monthly_charges total_charges churn   contract_type  internet_service_type  \\\n",
       "0            65.6         593.3    No        One year                    DSL   \n",
       "1            59.9         542.4    No  Month-to-month                    DSL   \n",
       "2            73.9        280.85   Yes  Month-to-month            Fiber optic   \n",
       "3            98.0       1237.85   Yes  Month-to-month            Fiber optic   \n",
       "4            83.9         267.4   Yes  Month-to-month            Fiber optic   \n",
       "\n",
       "       payment_type  \n",
       "0      Mailed check  \n",
       "1      Mailed check  \n",
       "2  Electronic check  \n",
       "3  Electronic check  \n",
       "4      Mailed check  \n",
       "\n",
       "[5 rows x 24 columns]"
      ]
     },
     "execution_count": 4,
     "metadata": {},
     "output_type": "execute_result"
    }
   ],
   "source": [
    "telco = acquire.get_telco_data()\n",
    "telco.head()"
   ]
  },
  {
   "cell_type": "code",
   "execution_count": 5,
   "id": "18babf76",
   "metadata": {},
   "outputs": [
    {
     "data": {
      "text/plain": [
       "Index(['payment_type_id', 'internet_service_type_id', 'contract_type_id',\n",
       "       'customer_id', 'gender', 'senior_citizen', 'partner', 'dependents',\n",
       "       'tenure', 'phone_service', 'multiple_lines', 'online_security',\n",
       "       'online_backup', 'device_protection', 'tech_support', 'streaming_tv',\n",
       "       'streaming_movies', 'paperless_billing', 'monthly_charges',\n",
       "       'total_charges', 'churn', 'contract_type', 'internet_service_type',\n",
       "       'payment_type'],\n",
       "      dtype='object')"
      ]
     },
     "execution_count": 5,
     "metadata": {},
     "output_type": "execute_result"
    }
   ],
   "source": [
    "telco.columns"
   ]
  },
  {
   "cell_type": "markdown",
   "id": "8e460618",
   "metadata": {},
   "source": [
    "- senior citizen: Whether someone is considered a senior citizen or not (Yes = 1 | No = 0)\n",
    "- partner: Whether someone has a partner or not (Yes = 1 | No = 0)\n",
    "- dependents: Whether someone has dependents on the account or not (Yes = 1 | No = 0)\n",
    "- tenure:  How long a customer has been with Telco\n",
    "- phone service: Whether a customer has phone service with telco or not (Yes = 1 | No = 0)\n",
    "- multiple lines: Whether a customer has multiples lines, one line, or no phone service at all\n",
    "- online_security: Whether a customer has online security, no onlines security, or no internet service at all\n",
    "- online backup: Whether a customer has online backup, no online backup, or no internet service at all\n",
    "- device protection: Whether a customer has device protection, no device protection, or no internet service at all\n",
    "- tech support: Whether a customer has technical suppport or not (Yes = 1 | No = 0)\n",
    "- streaming tv: Does the customer stream tv with their account (Yes = 1 | No = 0)\n",
    "- streaming movies: Does the customer stream movies with their account (Yes = 1 | No = 0)\n",
    "- paperless billing: Does the customer utilize electronic billing or not (Yes = 1 | No = 0)\n",
    "- monthly charges:  The dollar amount a customer pays each month\n",
    "- total charges:  The dollar amount the customer has paid altogether since opening an account\n",
    "- churn: Whether the customer has ended services with Telco or not (Yes = 1 | No = 0)\n",
    "- contract type: whether the customer is in a one year, two year, or month to month contract\n",
    "- internet service type:  whether the customer uses DSL, fiber optic, or no internet\n",
    "- payment type: whether a customer pays via electronic check, mailed check, bank transfer, or credit card"
   ]
  },
  {
   "cell_type": "code",
   "execution_count": 6,
   "id": "1a35e47d",
   "metadata": {},
   "outputs": [
    {
     "data": {
      "text/html": [
       "<div>\n",
       "<style scoped>\n",
       "    .dataframe tbody tr th:only-of-type {\n",
       "        vertical-align: middle;\n",
       "    }\n",
       "\n",
       "    .dataframe tbody tr th {\n",
       "        vertical-align: top;\n",
       "    }\n",
       "\n",
       "    .dataframe thead th {\n",
       "        text-align: right;\n",
       "    }\n",
       "</style>\n",
       "<table border=\"1\" class=\"dataframe\">\n",
       "  <thead>\n",
       "    <tr style=\"text-align: right;\">\n",
       "      <th></th>\n",
       "      <th>customer_id</th>\n",
       "      <th>senior_citizen</th>\n",
       "      <th>tenure</th>\n",
       "      <th>monthly_charges</th>\n",
       "      <th>total_charges</th>\n",
       "      <th>is_female</th>\n",
       "      <th>has_partner</th>\n",
       "      <th>has_dependents</th>\n",
       "      <th>has_phone_service</th>\n",
       "      <th>has_paperless_billing</th>\n",
       "      <th>...</th>\n",
       "      <th>tech_support_Yes</th>\n",
       "      <th>streaming_tv_Yes</th>\n",
       "      <th>streaming_movies_Yes</th>\n",
       "      <th>contract_type_One year</th>\n",
       "      <th>contract_type_Two year</th>\n",
       "      <th>internet_service_type_Fiber optic</th>\n",
       "      <th>internet_service_type_None</th>\n",
       "      <th>payment_type_Credit card (automatic)</th>\n",
       "      <th>payment_type_Electronic check</th>\n",
       "      <th>payment_type_Mailed check</th>\n",
       "    </tr>\n",
       "  </thead>\n",
       "  <tbody>\n",
       "    <tr>\n",
       "      <th>0</th>\n",
       "      <td>0002-ORFBO</td>\n",
       "      <td>0</td>\n",
       "      <td>9</td>\n",
       "      <td>65.6</td>\n",
       "      <td>593.30</td>\n",
       "      <td>1</td>\n",
       "      <td>1</td>\n",
       "      <td>1</td>\n",
       "      <td>1</td>\n",
       "      <td>1</td>\n",
       "      <td>...</td>\n",
       "      <td>1</td>\n",
       "      <td>1</td>\n",
       "      <td>0</td>\n",
       "      <td>1</td>\n",
       "      <td>0</td>\n",
       "      <td>0</td>\n",
       "      <td>0</td>\n",
       "      <td>0</td>\n",
       "      <td>0</td>\n",
       "      <td>1</td>\n",
       "    </tr>\n",
       "    <tr>\n",
       "      <th>1</th>\n",
       "      <td>0003-MKNFE</td>\n",
       "      <td>0</td>\n",
       "      <td>9</td>\n",
       "      <td>59.9</td>\n",
       "      <td>542.40</td>\n",
       "      <td>0</td>\n",
       "      <td>0</td>\n",
       "      <td>0</td>\n",
       "      <td>1</td>\n",
       "      <td>0</td>\n",
       "      <td>...</td>\n",
       "      <td>0</td>\n",
       "      <td>0</td>\n",
       "      <td>1</td>\n",
       "      <td>0</td>\n",
       "      <td>0</td>\n",
       "      <td>0</td>\n",
       "      <td>0</td>\n",
       "      <td>0</td>\n",
       "      <td>0</td>\n",
       "      <td>1</td>\n",
       "    </tr>\n",
       "    <tr>\n",
       "      <th>2</th>\n",
       "      <td>0004-TLHLJ</td>\n",
       "      <td>0</td>\n",
       "      <td>4</td>\n",
       "      <td>73.9</td>\n",
       "      <td>280.85</td>\n",
       "      <td>0</td>\n",
       "      <td>0</td>\n",
       "      <td>0</td>\n",
       "      <td>1</td>\n",
       "      <td>1</td>\n",
       "      <td>...</td>\n",
       "      <td>0</td>\n",
       "      <td>0</td>\n",
       "      <td>0</td>\n",
       "      <td>0</td>\n",
       "      <td>0</td>\n",
       "      <td>1</td>\n",
       "      <td>0</td>\n",
       "      <td>0</td>\n",
       "      <td>1</td>\n",
       "      <td>0</td>\n",
       "    </tr>\n",
       "    <tr>\n",
       "      <th>3</th>\n",
       "      <td>0011-IGKFF</td>\n",
       "      <td>1</td>\n",
       "      <td>13</td>\n",
       "      <td>98.0</td>\n",
       "      <td>1237.85</td>\n",
       "      <td>0</td>\n",
       "      <td>1</td>\n",
       "      <td>0</td>\n",
       "      <td>1</td>\n",
       "      <td>1</td>\n",
       "      <td>...</td>\n",
       "      <td>0</td>\n",
       "      <td>1</td>\n",
       "      <td>1</td>\n",
       "      <td>0</td>\n",
       "      <td>0</td>\n",
       "      <td>1</td>\n",
       "      <td>0</td>\n",
       "      <td>0</td>\n",
       "      <td>1</td>\n",
       "      <td>0</td>\n",
       "    </tr>\n",
       "    <tr>\n",
       "      <th>4</th>\n",
       "      <td>0013-EXCHZ</td>\n",
       "      <td>1</td>\n",
       "      <td>3</td>\n",
       "      <td>83.9</td>\n",
       "      <td>267.40</td>\n",
       "      <td>1</td>\n",
       "      <td>1</td>\n",
       "      <td>0</td>\n",
       "      <td>1</td>\n",
       "      <td>1</td>\n",
       "      <td>...</td>\n",
       "      <td>1</td>\n",
       "      <td>1</td>\n",
       "      <td>0</td>\n",
       "      <td>0</td>\n",
       "      <td>0</td>\n",
       "      <td>1</td>\n",
       "      <td>0</td>\n",
       "      <td>0</td>\n",
       "      <td>0</td>\n",
       "      <td>1</td>\n",
       "    </tr>\n",
       "  </tbody>\n",
       "</table>\n",
       "<p>5 rows × 25 columns</p>\n",
       "</div>"
      ],
      "text/plain": [
       "  customer_id  senior_citizen  tenure  monthly_charges  total_charges  \\\n",
       "0  0002-ORFBO               0       9             65.6         593.30   \n",
       "1  0003-MKNFE               0       9             59.9         542.40   \n",
       "2  0004-TLHLJ               0       4             73.9         280.85   \n",
       "3  0011-IGKFF               1      13             98.0        1237.85   \n",
       "4  0013-EXCHZ               1       3             83.9         267.40   \n",
       "\n",
       "   is_female  has_partner  has_dependents  has_phone_service  \\\n",
       "0          1            1               1                  1   \n",
       "1          0            0               0                  1   \n",
       "2          0            0               0                  1   \n",
       "3          0            1               0                  1   \n",
       "4          1            1               0                  1   \n",
       "\n",
       "   has_paperless_billing  ...  tech_support_Yes  streaming_tv_Yes  \\\n",
       "0                      1  ...                 1                 1   \n",
       "1                      0  ...                 0                 0   \n",
       "2                      1  ...                 0                 0   \n",
       "3                      1  ...                 0                 1   \n",
       "4                      1  ...                 1                 1   \n",
       "\n",
       "   streaming_movies_Yes  contract_type_One year  contract_type_Two year  \\\n",
       "0                     0                       1                       0   \n",
       "1                     1                       0                       0   \n",
       "2                     0                       0                       0   \n",
       "3                     1                       0                       0   \n",
       "4                     0                       0                       0   \n",
       "\n",
       "   internet_service_type_Fiber optic  internet_service_type_None  \\\n",
       "0                                  0                           0   \n",
       "1                                  0                           0   \n",
       "2                                  1                           0   \n",
       "3                                  1                           0   \n",
       "4                                  1                           0   \n",
       "\n",
       "   payment_type_Credit card (automatic)  payment_type_Electronic check  \\\n",
       "0                                     0                              0   \n",
       "1                                     0                              0   \n",
       "2                                     0                              1   \n",
       "3                                     0                              1   \n",
       "4                                     0                              0   \n",
       "\n",
       "   payment_type_Mailed check  \n",
       "0                          1  \n",
       "1                          1  \n",
       "2                          0  \n",
       "3                          0  \n",
       "4                          1  \n",
       "\n",
       "[5 rows x 25 columns]"
      ]
     },
     "execution_count": 6,
     "metadata": {},
     "output_type": "execute_result"
    }
   ],
   "source": [
    "telco = prepare.prep_telco(telco)\n",
    "telco.head()"
   ]
  },
  {
   "cell_type": "code",
   "execution_count": 7,
   "id": "e7fa56ca",
   "metadata": {},
   "outputs": [
    {
     "data": {
      "text/plain": [
       "0    5174\n",
       "1    1869\n",
       "Name: has_churned, dtype: int64"
      ]
     },
     "execution_count": 7,
     "metadata": {},
     "output_type": "execute_result"
    }
   ],
   "source": [
    "telco.has_churned.value_counts()"
   ]
  },
  {
   "cell_type": "code",
   "execution_count": 8,
   "id": "95b09a1b",
   "metadata": {},
   "outputs": [
    {
     "data": {
      "text/plain": [
       "customer_id                             0.0\n",
       "senior_citizen                          0.0\n",
       "tenure                                  0.0\n",
       "monthly_charges                         0.0\n",
       "total_charges                           0.0\n",
       "is_female                               0.0\n",
       "has_partner                             0.0\n",
       "has_dependents                          0.0\n",
       "has_phone_service                       0.0\n",
       "has_paperless_billing                   0.0\n",
       "has_churned                             0.0\n",
       "multiple_lines_Yes                      0.0\n",
       "online_security_Yes                     0.0\n",
       "online_backup_Yes                       0.0\n",
       "device_protection_Yes                   0.0\n",
       "tech_support_Yes                        0.0\n",
       "streaming_tv_Yes                        0.0\n",
       "streaming_movies_Yes                    0.0\n",
       "contract_type_One year                  0.0\n",
       "contract_type_Two year                  0.0\n",
       "internet_service_type_Fiber optic       0.0\n",
       "internet_service_type_None              0.0\n",
       "payment_type_Credit card (automatic)    0.0\n",
       "payment_type_Electronic check           0.0\n",
       "payment_type_Mailed check               0.0\n",
       "dtype: float64"
      ]
     },
     "execution_count": 8,
     "metadata": {},
     "output_type": "execute_result"
    }
   ],
   "source": [
    "telco.isna().mean()"
   ]
  },
  {
   "cell_type": "code",
   "execution_count": 9,
   "id": "aaf015a7",
   "metadata": {},
   "outputs": [
    {
     "name": "stdout",
     "output_type": "stream",
     "text": [
      "<class 'pandas.core.frame.DataFrame'>\n",
      "RangeIndex: 7043 entries, 0 to 7042\n",
      "Data columns (total 25 columns):\n",
      " #   Column                                Non-Null Count  Dtype  \n",
      "---  ------                                --------------  -----  \n",
      " 0   customer_id                           7043 non-null   object \n",
      " 1   senior_citizen                        7043 non-null   int64  \n",
      " 2   tenure                                7043 non-null   int64  \n",
      " 3   monthly_charges                       7043 non-null   float64\n",
      " 4   total_charges                         7043 non-null   float64\n",
      " 5   is_female                             7043 non-null   int64  \n",
      " 6   has_partner                           7043 non-null   int64  \n",
      " 7   has_dependents                        7043 non-null   int64  \n",
      " 8   has_phone_service                     7043 non-null   int64  \n",
      " 9   has_paperless_billing                 7043 non-null   int64  \n",
      " 10  has_churned                           7043 non-null   int64  \n",
      " 11  multiple_lines_Yes                    7043 non-null   uint8  \n",
      " 12  online_security_Yes                   7043 non-null   uint8  \n",
      " 13  online_backup_Yes                     7043 non-null   uint8  \n",
      " 14  device_protection_Yes                 7043 non-null   uint8  \n",
      " 15  tech_support_Yes                      7043 non-null   uint8  \n",
      " 16  streaming_tv_Yes                      7043 non-null   uint8  \n",
      " 17  streaming_movies_Yes                  7043 non-null   uint8  \n",
      " 18  contract_type_One year                7043 non-null   uint8  \n",
      " 19  contract_type_Two year                7043 non-null   uint8  \n",
      " 20  internet_service_type_Fiber optic     7043 non-null   uint8  \n",
      " 21  internet_service_type_None            7043 non-null   uint8  \n",
      " 22  payment_type_Credit card (automatic)  7043 non-null   uint8  \n",
      " 23  payment_type_Electronic check         7043 non-null   uint8  \n",
      " 24  payment_type_Mailed check             7043 non-null   uint8  \n",
      "dtypes: float64(2), int64(8), object(1), uint8(14)\n",
      "memory usage: 701.7+ KB\n"
     ]
    }
   ],
   "source": [
    "telco.info()"
   ]
  },
  {
   "cell_type": "code",
   "execution_count": 10,
   "id": "2e7ce488",
   "metadata": {},
   "outputs": [
    {
     "name": "stdout",
     "output_type": "stream",
     "text": [
      "0002-ORFBO    1\n",
      "6616-AALSR    1\n",
      "6625-UTXEW    1\n",
      "6625-IUTTT    1\n",
      "6625-FLENO    1\n",
      "             ..\n",
      "3352-RICWQ    1\n",
      "3352-ALMCK    1\n",
      "3351-NQLDI    1\n",
      "3351-NGXYI    1\n",
      "9995-HOTOH    1\n",
      "Name: customer_id, Length: 7043, dtype: int64\n",
      "\n",
      "0    5901\n",
      "1    1142\n",
      "Name: senior_citizen, dtype: int64\n",
      "\n",
      "1     613\n",
      "72    362\n",
      "2     238\n",
      "3     200\n",
      "4     176\n",
      "     ... \n",
      "28     57\n",
      "39     56\n",
      "44     51\n",
      "36     50\n",
      "0      11\n",
      "Name: tenure, Length: 73, dtype: int64\n",
      "\n",
      "20.05     61\n",
      "19.85     45\n",
      "19.95     44\n",
      "19.90     44\n",
      "20.00     43\n",
      "          ..\n",
      "116.55     1\n",
      "106.85     1\n",
      "68.55      1\n",
      "108.80     1\n",
      "67.85      1\n",
      "Name: monthly_charges, Length: 1585, dtype: int64\n",
      "\n",
      "0.00       11\n",
      "20.20      11\n",
      "19.75       9\n",
      "19.90       8\n",
      "20.05       8\n",
      "           ..\n",
      "2387.75     1\n",
      "6302.80     1\n",
      "2058.50     1\n",
      "829.55      1\n",
      "3707.60     1\n",
      "Name: total_charges, Length: 6531, dtype: int64\n",
      "\n",
      "0    3555\n",
      "1    3488\n",
      "Name: is_female, dtype: int64\n",
      "\n",
      "0    3641\n",
      "1    3402\n",
      "Name: has_partner, dtype: int64\n",
      "\n",
      "0    4933\n",
      "1    2110\n",
      "Name: has_dependents, dtype: int64\n",
      "\n",
      "1    6361\n",
      "0     682\n",
      "Name: has_phone_service, dtype: int64\n",
      "\n",
      "1    4171\n",
      "0    2872\n",
      "Name: has_paperless_billing, dtype: int64\n",
      "\n",
      "0    5174\n",
      "1    1869\n",
      "Name: has_churned, dtype: int64\n",
      "\n",
      "0    4072\n",
      "1    2971\n",
      "Name: multiple_lines_Yes, dtype: int64\n",
      "\n",
      "0    5024\n",
      "1    2019\n",
      "Name: online_security_Yes, dtype: int64\n",
      "\n",
      "0    4614\n",
      "1    2429\n",
      "Name: online_backup_Yes, dtype: int64\n",
      "\n",
      "0    4621\n",
      "1    2422\n",
      "Name: device_protection_Yes, dtype: int64\n",
      "\n",
      "0    4999\n",
      "1    2044\n",
      "Name: tech_support_Yes, dtype: int64\n",
      "\n",
      "0    4336\n",
      "1    2707\n",
      "Name: streaming_tv_Yes, dtype: int64\n",
      "\n",
      "0    4311\n",
      "1    2732\n",
      "Name: streaming_movies_Yes, dtype: int64\n",
      "\n",
      "0    5570\n",
      "1    1473\n",
      "Name: contract_type_One year, dtype: int64\n",
      "\n",
      "0    5348\n",
      "1    1695\n",
      "Name: contract_type_Two year, dtype: int64\n",
      "\n",
      "0    3947\n",
      "1    3096\n",
      "Name: internet_service_type_Fiber optic, dtype: int64\n",
      "\n",
      "0    5517\n",
      "1    1526\n",
      "Name: internet_service_type_None, dtype: int64\n",
      "\n",
      "0    5521\n",
      "1    1522\n",
      "Name: payment_type_Credit card (automatic), dtype: int64\n",
      "\n",
      "0    4678\n",
      "1    2365\n",
      "Name: payment_type_Electronic check, dtype: int64\n",
      "\n",
      "0    5431\n",
      "1    1612\n",
      "Name: payment_type_Mailed check, dtype: int64\n",
      "\n"
     ]
    }
   ],
   "source": [
    "for col in telco.columns:\n",
    "    print(telco[col].value_counts())\n",
    "    print()"
   ]
  },
  {
   "cell_type": "code",
   "execution_count": 11,
   "id": "a2f1f1af",
   "metadata": {},
   "outputs": [],
   "source": [
    "train, validate, test = prepare.my_train_test_split(telco, 'has_churned')"
   ]
  },
  {
   "cell_type": "code",
   "execution_count": 12,
   "id": "830ea2fa",
   "metadata": {},
   "outputs": [
    {
     "data": {
      "text/plain": [
       "((4225, 25), (1409, 25), (1409, 25))"
      ]
     },
     "execution_count": 12,
     "metadata": {},
     "output_type": "execute_result"
    }
   ],
   "source": [
    "train.shape, validate.shape, test.shape"
   ]
  },
  {
   "cell_type": "code",
   "execution_count": 13,
   "id": "9fea50e8",
   "metadata": {},
   "outputs": [],
   "source": [
    "num_type_list, cat_type_list = explore.dtypes_to_list(train)"
   ]
  },
  {
   "cell_type": "code",
   "execution_count": 14,
   "id": "92626c9a",
   "metadata": {},
   "outputs": [
    {
     "data": {
      "text/plain": [
       "['monthly_charges', 'total_charges']"
      ]
     },
     "execution_count": 14,
     "metadata": {},
     "output_type": "execute_result"
    }
   ],
   "source": [
    "num_type_list"
   ]
  },
  {
   "cell_type": "code",
   "execution_count": 15,
   "id": "684fe4f7",
   "metadata": {},
   "outputs": [
    {
     "data": {
      "text/plain": [
       "['customer_id',\n",
       " 'senior_citizen',\n",
       " 'tenure',\n",
       " 'is_female',\n",
       " 'has_partner',\n",
       " 'has_dependents',\n",
       " 'has_phone_service',\n",
       " 'has_paperless_billing',\n",
       " 'has_churned',\n",
       " 'multiple_lines_Yes',\n",
       " 'online_security_Yes',\n",
       " 'online_backup_Yes',\n",
       " 'device_protection_Yes',\n",
       " 'tech_support_Yes',\n",
       " 'streaming_tv_Yes',\n",
       " 'streaming_movies_Yes',\n",
       " 'contract_type_One year',\n",
       " 'contract_type_Two year',\n",
       " 'internet_service_type_Fiber optic',\n",
       " 'internet_service_type_None',\n",
       " 'payment_type_Credit card (automatic)',\n",
       " 'payment_type_Electronic check',\n",
       " 'payment_type_Mailed check']"
      ]
     },
     "execution_count": 15,
     "metadata": {},
     "output_type": "execute_result"
    }
   ],
   "source": [
    "cat_type_list"
   ]
  },
  {
   "cell_type": "code",
   "execution_count": 16,
   "id": "89f23b1b",
   "metadata": {},
   "outputs": [],
   "source": [
    "cat_type_list.remove('has_churned')"
   ]
  },
  {
   "cell_type": "code",
   "execution_count": 17,
   "id": "23f14639",
   "metadata": {},
   "outputs": [
    {
     "data": {
      "text/plain": [
       "['customer_id',\n",
       " 'senior_citizen',\n",
       " 'tenure',\n",
       " 'is_female',\n",
       " 'has_partner',\n",
       " 'has_dependents',\n",
       " 'has_phone_service',\n",
       " 'has_paperless_billing',\n",
       " 'multiple_lines_Yes',\n",
       " 'online_security_Yes',\n",
       " 'online_backup_Yes',\n",
       " 'device_protection_Yes',\n",
       " 'tech_support_Yes',\n",
       " 'streaming_tv_Yes',\n",
       " 'streaming_movies_Yes',\n",
       " 'contract_type_One year',\n",
       " 'contract_type_Two year',\n",
       " 'internet_service_type_Fiber optic',\n",
       " 'internet_service_type_None',\n",
       " 'payment_type_Credit card (automatic)',\n",
       " 'payment_type_Electronic check',\n",
       " 'payment_type_Mailed check']"
      ]
     },
     "execution_count": 17,
     "metadata": {},
     "output_type": "execute_result"
    }
   ],
   "source": [
    "cat_type_list"
   ]
  },
  {
   "cell_type": "code",
   "execution_count": 18,
   "id": "e332f91c",
   "metadata": {},
   "outputs": [
    {
     "name": "stdout",
     "output_type": "stream",
     "text": [
      "customer_id\n",
      "8319-QBEHW    1\n",
      "3677-TNKIO    1\n",
      "6837-HAEVO    1\n",
      "7649-PHJVR    1\n",
      "7416-CKTEP    1\n",
      "             ..\n",
      "7495-OOKFY    1\n",
      "4644-PIZRT    1\n",
      "4513-CXYIX    1\n",
      "9828-QHFBK    1\n",
      "5081-NWSUP    1\n",
      "Name: customer_id, Length: 4225, dtype: int64\n",
      "8319-QBEHW    0.023669\n",
      "3677-TNKIO    0.023669\n",
      "6837-HAEVO    0.023669\n",
      "7649-PHJVR    0.023669\n",
      "7416-CKTEP    0.023669\n",
      "                ...   \n",
      "7495-OOKFY    0.023669\n",
      "4644-PIZRT    0.023669\n",
      "4513-CXYIX    0.023669\n",
      "9828-QHFBK    0.023669\n",
      "5081-NWSUP    0.023669\n",
      "Name: customer_id, Length: 4225, dtype: float64\n"
     ]
    },
    {
     "data": {
      "image/png": "[encoded data removed]",
      "text/plain": [
       "<Figure size 432x288 with 1 Axes>"
      ]
     },
     "metadata": {
      "needs_background": "light"
     },
     "output_type": "display_data"
    },
    {
     "name": "stdout",
     "output_type": "stream",
     "text": [
      "We fail to reject the null hypothesis that customer_id and churn rate are independent\n",
      "There appears to be no relationship between churn rate and customer_id\n",
      "\n",
      "senior_citizen\n",
      "0    3541\n",
      "1     684\n",
      "Name: senior_citizen, dtype: int64\n",
      "0    83.810651\n",
      "1    16.189349\n",
      "Name: senior_citizen, dtype: float64\n"
     ]
    },
    {
     "data": {
      "image/png": "[encoded data removed]",
      "text/plain": [
       "<Figure size 432x288 with 1 Axes>"
      ]
     },
     "metadata": {
      "needs_background": "light"
     },
     "output_type": "display_data"
    },
    {
     "name": "stdout",
     "output_type": "stream",
     "text": [
      "We reject the null hypothesis that senior_citizen and churn rate are independent\n",
      "There is a relationship between churn rate and senior_citizen\n",
      "\n",
      "tenure\n",
      "1     358\n",
      "72    217\n",
      "2     143\n",
      "3     112\n",
      "71    106\n",
      "     ... \n",
      "43     32\n",
      "44     31\n",
      "45     31\n",
      "36     30\n",
      "0       9\n",
      "Name: tenure, Length: 73, dtype: int64\n",
      "1     8.473373\n",
      "72    5.136095\n",
      "2     3.384615\n",
      "3     2.650888\n",
      "71    2.508876\n",
      "        ...   \n",
      "43    0.757396\n",
      "44    0.733728\n",
      "45    0.733728\n",
      "36    0.710059\n",
      "0     0.213018\n",
      "Name: tenure, Length: 73, dtype: float64\n"
     ]
    },
    {
     "data": {
      "image/png": "[encoded data removed]",
      "text/plain": [
       "<Figure size 432x288 with 1 Axes>"
      ]
     },
     "metadata": {
      "needs_background": "light"
     },
     "output_type": "display_data"
    },
    {
     "name": "stdout",
     "output_type": "stream",
     "text": [
      "We reject the null hypothesis that tenure and churn rate are independent\n",
      "There is a relationship between churn rate and tenure\n",
      "\n",
      "is_female\n",
      "0    2149\n",
      "1    2076\n",
      "Name: is_female, dtype: int64\n",
      "0    50.863905\n",
      "1    49.136095\n",
      "Name: is_female, dtype: float64\n"
     ]
    },
    {
     "data": {
      "image/png": "[encoded data removed]",
      "text/plain": [
       "<Figure size 432x288 with 1 Axes>"
      ]
     },
     "metadata": {
      "needs_background": "light"
     },
     "output_type": "display_data"
    },
    {
     "name": "stdout",
     "output_type": "stream",
     "text": [
      "We fail to reject the null hypothesis that is_female and churn rate are independent\n",
      "There appears to be no relationship between churn rate and is_female\n",
      "\n",
      "has_partner\n",
      "0    2161\n",
      "1    2064\n",
      "Name: has_partner, dtype: int64\n",
      "0    51.147929\n",
      "1    48.852071\n",
      "Name: has_partner, dtype: float64\n"
     ]
    },
    {
     "data": {
      "image/png": "[encoded data removed]",
      "text/plain": [
       "<Figure size 432x288 with 1 Axes>"
      ]
     },
     "metadata": {
      "needs_background": "light"
     },
     "output_type": "display_data"
    },
    {
     "name": "stdout",
     "output_type": "stream",
     "text": [
      "We reject the null hypothesis that has_partner and churn rate are independent\n",
      "There is a relationship between churn rate and has_partner\n",
      "\n",
      "has_dependents\n",
      "0    2931\n",
      "1    1294\n",
      "Name: has_dependents, dtype: int64\n",
      "0    69.372781\n",
      "1    30.627219\n",
      "Name: has_dependents, dtype: float64\n"
     ]
    },
    {
     "data": {
      "image/png": "[encoded data removed]",
      "text/plain": [
       "<Figure size 432x288 with 1 Axes>"
      ]
     },
     "metadata": {
      "needs_background": "light"
     },
     "output_type": "display_data"
    },
    {
     "name": "stdout",
     "output_type": "stream",
     "text": [
      "We reject the null hypothesis that has_dependents and churn rate are independent\n",
      "There is a relationship between churn rate and has_dependents\n",
      "\n",
      "has_phone_service\n",
      "1    3832\n",
      "0     393\n",
      "Name: has_phone_service, dtype: int64\n",
      "1    90.698225\n",
      "0     9.301775\n",
      "Name: has_phone_service, dtype: float64\n"
     ]
    },
    {
     "data": {
      "image/png": "[encoded data removed]",
      "text/plain": [
       "<Figure size 432x288 with 1 Axes>"
      ]
     },
     "metadata": {
      "needs_background": "light"
     },
     "output_type": "display_data"
    },
    {
     "name": "stdout",
     "output_type": "stream",
     "text": [
      "We fail to reject the null hypothesis that has_phone_service and churn rate are independent\n",
      "There appears to be no relationship between churn rate and has_phone_service\n",
      "\n",
      "has_paperless_billing\n",
      "1    2509\n",
      "0    1716\n",
      "Name: has_paperless_billing, dtype: int64\n",
      "1    59.384615\n",
      "0    40.615385\n",
      "Name: has_paperless_billing, dtype: float64\n"
     ]
    },
    {
     "data": {
      "image/png": "[encoded data removed]",
      "text/plain": [
       "<Figure size 432x288 with 1 Axes>"
      ]
     },
     "metadata": {
      "needs_background": "light"
     },
     "output_type": "display_data"
    },
    {
     "name": "stdout",
     "output_type": "stream",
     "text": [
      "We reject the null hypothesis that has_paperless_billing and churn rate are independent\n",
      "There is a relationship between churn rate and has_paperless_billing\n",
      "\n",
      "multiple_lines_Yes\n",
      "0    2418\n",
      "1    1807\n",
      "Name: multiple_lines_Yes, dtype: int64\n",
      "0    57.230769\n",
      "1    42.769231\n",
      "Name: multiple_lines_Yes, dtype: float64\n"
     ]
    },
    {
     "data": {
      "image/png": "[encoded data removed]",
      "text/plain": [
       "<Figure size 432x288 with 1 Axes>"
      ]
     },
     "metadata": {
      "needs_background": "light"
     },
     "output_type": "display_data"
    },
    {
     "name": "stdout",
     "output_type": "stream",
     "text": [
      "We reject the null hypothesis that multiple_lines_Yes and churn rate are independent\n",
      "There is a relationship between churn rate and multiple_lines_Yes\n",
      "\n",
      "online_security_Yes\n",
      "0    2993\n",
      "1    1232\n",
      "Name: online_security_Yes, dtype: int64\n",
      "0    70.840237\n",
      "1    29.159763\n",
      "Name: online_security_Yes, dtype: float64\n"
     ]
    },
    {
     "data": {
      "image/png": "[encoded data removed]",
      "text/plain": [
       "<Figure size 432x288 with 1 Axes>"
      ]
     },
     "metadata": {
      "needs_background": "light"
     },
     "output_type": "display_data"
    },
    {
     "name": "stdout",
     "output_type": "stream",
     "text": [
      "We reject the null hypothesis that online_security_Yes and churn rate are independent\n",
      "There is a relationship between churn rate and online_security_Yes\n",
      "\n",
      "online_backup_Yes\n",
      "0    2746\n",
      "1    1479\n",
      "Name: online_backup_Yes, dtype: int64\n",
      "0    64.994083\n",
      "1    35.005917\n",
      "Name: online_backup_Yes, dtype: float64\n"
     ]
    },
    {
     "data": {
      "image/png": "[encoded data removed]",
      "text/plain": [
       "<Figure size 432x288 with 1 Axes>"
      ]
     },
     "metadata": {
      "needs_background": "light"
     },
     "output_type": "display_data"
    },
    {
     "name": "stdout",
     "output_type": "stream",
     "text": [
      "We reject the null hypothesis that online_backup_Yes and churn rate are independent\n",
      "There is a relationship between churn rate and online_backup_Yes\n",
      "\n",
      "device_protection_Yes\n",
      "0    2742\n",
      "1    1483\n",
      "Name: device_protection_Yes, dtype: int64\n",
      "0    64.899408\n",
      "1    35.100592\n",
      "Name: device_protection_Yes, dtype: float64\n"
     ]
    },
    {
     "data": {
      "image/png": "[encoded data removed]",
      "text/plain": [
       "<Figure size 432x288 with 1 Axes>"
      ]
     },
     "metadata": {
      "needs_background": "light"
     },
     "output_type": "display_data"
    },
    {
     "name": "stdout",
     "output_type": "stream",
     "text": [
      "We reject the null hypothesis that device_protection_Yes and churn rate are independent\n",
      "There is a relationship between churn rate and device_protection_Yes\n",
      "\n",
      "tech_support_Yes\n",
      "0    3002\n",
      "1    1223\n",
      "Name: tech_support_Yes, dtype: int64\n",
      "0    71.053254\n",
      "1    28.946746\n",
      "Name: tech_support_Yes, dtype: float64\n"
     ]
    },
    {
     "data": {
      "image/png": "[encoded data removed]",
      "text/plain": [
       "<Figure size 432x288 with 1 Axes>"
      ]
     },
     "metadata": {
      "needs_background": "light"
     },
     "output_type": "display_data"
    },
    {
     "name": "stdout",
     "output_type": "stream",
     "text": [
      "We reject the null hypothesis that tech_support_Yes and churn rate are independent\n",
      "There is a relationship between churn rate and tech_support_Yes\n",
      "\n",
      "streaming_tv_Yes\n",
      "0    2568\n",
      "1    1657\n",
      "Name: streaming_tv_Yes, dtype: int64\n",
      "0    60.781065\n",
      "1    39.218935\n",
      "Name: streaming_tv_Yes, dtype: float64\n"
     ]
    },
    {
     "data": {
      "image/png": "[encoded data removed]",
      "text/plain": [
       "<Figure size 432x288 with 1 Axes>"
      ]
     },
     "metadata": {
      "needs_background": "light"
     },
     "output_type": "display_data"
    },
    {
     "name": "stdout",
     "output_type": "stream",
     "text": [
      "We reject the null hypothesis that streaming_tv_Yes and churn rate are independent\n",
      "There is a relationship between churn rate and streaming_tv_Yes\n",
      "\n",
      "streaming_movies_Yes\n",
      "0    2554\n",
      "1    1671\n",
      "Name: streaming_movies_Yes, dtype: int64\n",
      "0    60.449704\n",
      "1    39.550296\n",
      "Name: streaming_movies_Yes, dtype: float64\n"
     ]
    },
    {
     "data": {
      "image/png": "[encoded data removed]",
      "text/plain": [
       "<Figure size 432x288 with 1 Axes>"
      ]
     },
     "metadata": {
      "needs_background": "light"
     },
     "output_type": "display_data"
    },
    {
     "name": "stdout",
     "output_type": "stream",
     "text": [
      "We reject the null hypothesis that streaming_movies_Yes and churn rate are independent\n",
      "There is a relationship between churn rate and streaming_movies_Yes\n",
      "\n",
      "contract_type_One year\n",
      "0    3312\n",
      "1     913\n",
      "Name: contract_type_One year, dtype: int64\n",
      "0    78.390533\n",
      "1    21.609467\n",
      "Name: contract_type_One year, dtype: float64\n"
     ]
    },
    {
     "data": {
      "image/png": "[encoded data removed]",
      "text/plain": [
       "<Figure size 432x288 with 1 Axes>"
      ]
     },
     "metadata": {
      "needs_background": "light"
     },
     "output_type": "display_data"
    },
    {
     "name": "stdout",
     "output_type": "stream",
     "text": [
      "We reject the null hypothesis that contract_type_One year and churn rate are independent\n",
      "There is a relationship between churn rate and contract_type_One year\n",
      "\n",
      "contract_type_Two year\n",
      "0    3230\n",
      "1     995\n",
      "Name: contract_type_Two year, dtype: int64\n",
      "0    76.449704\n",
      "1    23.550296\n",
      "Name: contract_type_Two year, dtype: float64\n"
     ]
    },
    {
     "data": {
      "image/png": "[encoded data removed]",
      "text/plain": [
       "<Figure size 432x288 with 1 Axes>"
      ]
     },
     "metadata": {
      "needs_background": "light"
     },
     "output_type": "display_data"
    },
    {
     "name": "stdout",
     "output_type": "stream",
     "text": [
      "We reject the null hypothesis that contract_type_Two year and churn rate are independent\n",
      "There is a relationship between churn rate and contract_type_Two year\n",
      "\n",
      "internet_service_type_Fiber optic\n",
      "0    2370\n",
      "1    1855\n",
      "Name: internet_service_type_Fiber optic, dtype: int64\n",
      "0    56.094675\n",
      "1    43.905325\n",
      "Name: internet_service_type_Fiber optic, dtype: float64\n"
     ]
    },
    {
     "data": {
      "image/png": "[encoded data removed]",
      "text/plain": [
       "<Figure size 432x288 with 1 Axes>"
      ]
     },
     "metadata": {
      "needs_background": "light"
     },
     "output_type": "display_data"
    },
    {
     "name": "stdout",
     "output_type": "stream",
     "text": [
      "We reject the null hypothesis that internet_service_type_Fiber optic and churn rate are independent\n",
      "There is a relationship between churn rate and internet_service_type_Fiber optic\n",
      "\n",
      "internet_service_type_None\n",
      "0    3302\n",
      "1     923\n",
      "Name: internet_service_type_None, dtype: int64\n",
      "0    78.153846\n",
      "1    21.846154\n",
      "Name: internet_service_type_None, dtype: float64\n"
     ]
    },
    {
     "data": {
      "image/png": "[encoded data removed]",
      "text/plain": [
       "<Figure size 432x288 with 1 Axes>"
      ]
     },
     "metadata": {
      "needs_background": "light"
     },
     "output_type": "display_data"
    },
    {
     "name": "stdout",
     "output_type": "stream",
     "text": [
      "We reject the null hypothesis that internet_service_type_None and churn rate are independent\n",
      "There is a relationship between churn rate and internet_service_type_None\n",
      "\n",
      "payment_type_Credit card (automatic)\n",
      "0    3306\n",
      "1     919\n",
      "Name: payment_type_Credit card (automatic), dtype: int64\n",
      "0    78.248521\n",
      "1    21.751479\n",
      "Name: payment_type_Credit card (automatic), dtype: float64\n"
     ]
    },
    {
     "data": {
      "image/png": "[encoded data removed]",
      "text/plain": [
       "<Figure size 432x288 with 1 Axes>"
      ]
     },
     "metadata": {
      "needs_background": "light"
     },
     "output_type": "display_data"
    },
    {
     "name": "stdout",
     "output_type": "stream",
     "text": [
      "We reject the null hypothesis that payment_type_Credit card (automatic) and churn rate are independent\n",
      "There is a relationship between churn rate and payment_type_Credit card (automatic)\n",
      "\n",
      "payment_type_Electronic check\n",
      "0    2802\n",
      "1    1423\n",
      "Name: payment_type_Electronic check, dtype: int64\n",
      "0    66.319527\n",
      "1    33.680473\n",
      "Name: payment_type_Electronic check, dtype: float64\n"
     ]
    },
    {
     "data": {
      "image/png": "[encoded data removed]",
      "text/plain": [
       "<Figure size 432x288 with 1 Axes>"
      ]
     },
     "metadata": {
      "needs_background": "light"
     },
     "output_type": "display_data"
    },
    {
     "name": "stdout",
     "output_type": "stream",
     "text": [
      "We reject the null hypothesis that payment_type_Electronic check and churn rate are independent\n",
      "There is a relationship between churn rate and payment_type_Electronic check\n",
      "\n",
      "payment_type_Mailed check\n",
      "0    3275\n",
      "1     950\n",
      "Name: payment_type_Mailed check, dtype: int64\n",
      "0    77.514793\n",
      "1    22.485207\n",
      "Name: payment_type_Mailed check, dtype: float64\n"
     ]
    },
    {
     "data": {
      "image/png": "[encoded data removed]",
      "text/plain": [
       "<Figure size 432x288 with 1 Axes>"
      ]
     },
     "metadata": {
      "needs_background": "light"
     },
     "output_type": "display_data"
    },
    {
     "name": "stdout",
     "output_type": "stream",
     "text": [
      "We reject the null hypothesis that payment_type_Mailed check and churn rate are independent\n",
      "There is a relationship between churn rate and payment_type_Mailed check\n",
      "\n"
     ]
    }
   ],
   "source": [
    "for col in cat_type_list:\n",
    "    print(col)\n",
    "    print(train[col].value_counts())\n",
    "    print(train[col].value_counts(normalize=True)*100)\n",
    "    explore.telco_analysis(train, col)\n",
    "    print()"
   ]
  },
  {
   "cell_type": "code",
   "execution_count": null,
   "id": "544ede2e",
   "metadata": {},
   "outputs": [],
   "source": [
    "# Gender and phone service seem to have little effect on whether a customer will churn or not and of course \n",
    "# customer id has zero dependency on churn rate but I will keep it in for the sake of the project. \n"
   ]
  },
  {
   "cell_type": "markdown",
   "id": "6676d178",
   "metadata": {},
   "source": [
    "# Do older customers without tech support churn more often than those with?"
   ]
  },
  {
   "cell_type": "code",
   "execution_count": 19,
   "id": "48f4d594",
   "metadata": {},
   "outputs": [
    {
     "data": {
      "text/plain": [
       "<matplotlib.lines.Line2D at 0x152d011f0>"
      ]
     },
     "execution_count": 19,
     "metadata": {},
     "output_type": "execute_result"
    },
    {
     "data": {
      "image/png": "[encoded data removed]",
      "text/plain": [
       "<Figure size 432x288 with 1 Axes>"
      ]
     },
     "metadata": {
      "needs_background": "light"
     },
     "output_type": "display_data"
    }
   ],
   "source": [
    "sns.barplot(x='senior_citizen', y='has_churned', hue= 'tech_support_Yes', data=train)\n",
    "churn_rate = train.has_churned.mean()\n",
    "plt.axhline(churn_rate, label='churn rate')"
   ]
  },
  {
   "cell_type": "code",
   "execution_count": 20,
   "id": "e8d496d9",
   "metadata": {},
   "outputs": [],
   "source": [
    "# Seems that senior citizens without tech support are more prone to churn than those who do have tech support"
   ]
  },
  {
   "cell_type": "markdown",
   "id": "ba1ca94f",
   "metadata": {},
   "source": [
    "# Does streaming movies vs streaming tv have any affect on the churn rate"
   ]
  },
  {
   "cell_type": "code",
   "execution_count": 20,
   "id": "0e538bcb",
   "metadata": {},
   "outputs": [
    {
     "data": {
      "text/plain": [
       "<matplotlib.lines.Line2D at 0x152b6a5b0>"
      ]
     },
     "execution_count": 20,
     "metadata": {},
     "output_type": "execute_result"
    },
    {
     "data": {
      "image/png": "[encoded data removed]",
      "text/plain": [
       "<Figure size 432x288 with 1 Axes>"
      ]
     },
     "metadata": {
      "needs_background": "light"
     },
     "output_type": "display_data"
    }
   ],
   "source": [
    "sns.barplot(x='streaming_tv_Yes', y='has_churned', hue= 'streaming_movies_Yes', data=train)\n",
    "churn_rate = train.has_churned.mean()\n",
    "plt.axhline(churn_rate, label='churn rate')"
   ]
  },
  {
   "cell_type": "code",
   "execution_count": 19,
   "id": "8040f957",
   "metadata": {},
   "outputs": [],
   "source": [
    "# Seems that having both or one streaming services will cause more churn than having none."
   ]
  },
  {
   "cell_type": "markdown",
   "id": "700eef57",
   "metadata": {},
   "source": [
    "# Does having dependents/a partner increase churn rate vs not having them?"
   ]
  },
  {
   "cell_type": "code",
   "execution_count": 21,
   "id": "815c4c2e",
   "metadata": {},
   "outputs": [
    {
     "data": {
      "text/plain": [
       "<matplotlib.lines.Line2D at 0x152673c40>"
      ]
     },
     "execution_count": 21,
     "metadata": {},
     "output_type": "execute_result"
    },
    {
     "data": {
      "image/png": "[encoded data removed]",
      "text/plain": [
       "<Figure size 432x288 with 1 Axes>"
      ]
     },
     "metadata": {
      "needs_background": "light"
     },
     "output_type": "display_data"
    }
   ],
   "source": [
    "sns.barplot(x='has_dependents', y='has_churned', hue= 'has_partner', data=train)\n",
    "churn_rate = train.has_churned.mean()\n",
    "plt.axhline(churn_rate, label='churn rate')"
   ]
  },
  {
   "cell_type": "code",
   "execution_count": 25,
   "id": "58a7047a",
   "metadata": {},
   "outputs": [],
   "source": [
    "# Customers with no partner and no dependents are more prone to churn than those who do have them"
   ]
  },
  {
   "cell_type": "markdown",
   "id": "d3c026a7",
   "metadata": {},
   "source": [
    "# How does monthly charges and tenure relate in terms of churn rate?"
   ]
  },
  {
   "cell_type": "code",
   "execution_count": 22,
   "id": "ba17f4ff",
   "metadata": {},
   "outputs": [
    {
     "data": {
      "text/plain": [
       "<AxesSubplot:xlabel='monthly_charges', ylabel='tenure'>"
      ]
     },
     "execution_count": 22,
     "metadata": {},
     "output_type": "execute_result"
    },
    {
     "data": {
      "image/png": "[encoded data removed]",
      "text/plain": [
       "<Figure size 432x288 with 1 Axes>"
      ]
     },
     "metadata": {
      "needs_background": "light"
     },
     "output_type": "display_data"
    }
   ],
   "source": [
    "sns.scatterplot(x = 'monthly_charges', y='tenure', hue= 'has_churned', data = train)"
   ]
  },
  {
   "cell_type": "code",
   "execution_count": 32,
   "id": "c29eeedc",
   "metadata": {},
   "outputs": [],
   "source": [
    "# The higher the monthly charge the more likely the customer will churn thus leading to a low tenure value."
   ]
  },
  {
   "cell_type": "markdown",
   "id": "2dbefafa",
   "metadata": {},
   "source": [
    "# How many customers who have fiber optic internet have churned compared to those without fiber optic internet?"
   ]
  },
  {
   "cell_type": "code",
   "execution_count": 76,
   "id": "4466287c",
   "metadata": {},
   "outputs": [
    {
     "data": {
      "text/plain": [
       "<matplotlib.lines.Line2D at 0x13171f1f0>"
      ]
     },
     "execution_count": 76,
     "metadata": {},
     "output_type": "execute_result"
    },
    {
     "data": {
      "image/png": "[encoded data removed]",
      "text/plain": [
       "<Figure size 432x288 with 1 Axes>"
      ]
     },
     "metadata": {
      "needs_background": "light"
     },
     "output_type": "display_data"
    }
   ],
   "source": [
    "sns.countplot(x='internet_service_type_Fiber optic', hue='has_churned', data=train)"
   ]
  },
  {
   "cell_type": "code",
   "execution_count": 77,
   "id": "36ea5715",
   "metadata": {},
   "outputs": [],
   "source": [
    "# More customers are prone to stay a customer if they do not use fiber optic internet vs those who do"
   ]
  },
  {
   "cell_type": "markdown",
   "id": "14936e8c",
   "metadata": {},
   "source": [
    "# How does monthly charges and internet service type correlate?"
   ]
  },
  {
   "cell_type": "code",
   "execution_count": 87,
   "id": "2943a290",
   "metadata": {},
   "outputs": [
    {
     "data": {
      "text/plain": [
       "<AxesSubplot:xlabel='internet_service_type_None', ylabel='monthly_charges'>"
      ]
     },
     "execution_count": 87,
     "metadata": {},
     "output_type": "execute_result"
    },
    {
     "data": {
      "image/png": "[encoded data removed]",
      "text/plain": [
       "<Figure size 432x288 with 1 Axes>"
      ]
     },
     "metadata": {
      "needs_background": "light"
     },
     "output_type": "display_data"
    }
   ],
   "source": [
    "sns.barplot(x='internet_service_type_None', y='monthly_charges', hue='has_churned', data = train)"
   ]
  },
  {
   "cell_type": "code",
   "execution_count": 88,
   "id": "602f231e",
   "metadata": {},
   "outputs": [
    {
     "data": {
      "text/plain": [
       "<seaborn.axisgrid.FacetGrid at 0x124d146a0>"
      ]
     },
     "execution_count": 88,
     "metadata": {},
     "output_type": "execute_result"
    },
    {
     "data": {
      "image/png": "[encoded data removed]",
      "text/plain": [
       "<Figure size 431.875x360 with 1 Axes>"
      ]
     },
     "metadata": {
      "needs_background": "light"
     },
     "output_type": "display_data"
    }
   ],
   "source": [
    "sns.displot(x='monthly_charges', hue=\"has_churned\", data = train)"
   ]
  },
  {
   "cell_type": "code",
   "execution_count": 104,
   "id": "2cc72050",
   "metadata": {},
   "outputs": [],
   "source": [
    "# The lower the monthly charges the higher chance of a customer not churning.  It seems that internet service\n",
    "# type plays a role in increased monthly charges."
   ]
  },
  {
   "cell_type": "markdown",
   "id": "b5ddf4cd",
   "metadata": {},
   "source": [
    "# How does contract type effect churn rate and which contract type tends to churn more often?"
   ]
  },
  {
   "cell_type": "code",
   "execution_count": 97,
   "id": "1de00e82",
   "metadata": {},
   "outputs": [
    {
     "data": {
      "text/plain": [
       "<seaborn.axisgrid.FacetGrid at 0x1254209d0>"
      ]
     },
     "execution_count": 97,
     "metadata": {},
     "output_type": "execute_result"
    },
    {
     "data": {
      "image/png": "[encoded data removed]",
      "text/plain": [
       "<Figure size 431.875x360 with 1 Axes>"
      ]
     },
     "metadata": {
      "needs_background": "light"
     },
     "output_type": "display_data"
    }
   ],
   "source": [
    "sns.displot(x='contract_type_One year', hue = 'has_churned', data= train)"
   ]
  },
  {
   "cell_type": "code",
   "execution_count": 98,
   "id": "33e79c7e",
   "metadata": {},
   "outputs": [
    {
     "data": {
      "text/plain": [
       "<seaborn.axisgrid.FacetGrid at 0x125179f10>"
      ]
     },
     "execution_count": 98,
     "metadata": {},
     "output_type": "execute_result"
    },
    {
     "data": {
      "image/png": "[encoded data removed]",
      "text/plain": [
       "<Figure size 431.875x360 with 1 Axes>"
      ]
     },
     "metadata": {
      "needs_background": "light"
     },
     "output_type": "display_data"
    }
   ],
   "source": [
    "sns.displot(x='contract_type_Two year', hue = 'has_churned', data= train)"
   ]
  },
  {
   "cell_type": "code",
   "execution_count": 102,
   "id": "d4bd6b17",
   "metadata": {},
   "outputs": [
    {
     "data": {
      "text/plain": [
       "<AxesSubplot:xlabel='contract_type_One year', ylabel='count'>"
      ]
     },
     "execution_count": 102,
     "metadata": {},
     "output_type": "execute_result"
    },
    {
     "data": {
      "image/png": "[encoded data removed]",
      "text/plain": [
       "<Figure size 432x288 with 1 Axes>"
      ]
     },
     "metadata": {
      "needs_background": "light"
     },
     "output_type": "display_data"
    }
   ],
   "source": [
    "sns.countplot(x='contract_type_One year', hue = 'has_churned', data=train)"
   ]
  },
  {
   "cell_type": "code",
   "execution_count": 103,
   "id": "659fc89e",
   "metadata": {},
   "outputs": [
    {
     "data": {
      "text/plain": [
       "<AxesSubplot:xlabel='contract_type_Two year', ylabel='count'>"
      ]
     },
     "execution_count": 103,
     "metadata": {},
     "output_type": "execute_result"
    },
    {
     "data": {
      "image/png": "[encoded data removed]",
      "text/plain": [
       "<Figure size 432x288 with 1 Axes>"
      ]
     },
     "metadata": {
      "needs_background": "light"
     },
     "output_type": "display_data"
    }
   ],
   "source": [
    "sns.countplot(x='contract_type_Two year', hue = 'has_churned', data=train)"
   ]
  },
  {
   "cell_type": "code",
   "execution_count": null,
   "id": "74f77359",
   "metadata": {},
   "outputs": [],
   "source": [
    "# Those with a month to month contract seem to churn much more often then those with two or one year contracts probably due to them being locked in"
   ]
  },
  {
   "cell_type": "code",
   "execution_count": 27,
   "id": "4414deba",
   "metadata": {},
   "outputs": [],
   "source": [
    "X_train = train.drop(columns = ['has_churned', 'customer_id'])\n",
    "y_train = train.has_churned"
   ]
  },
  {
   "cell_type": "code",
   "execution_count": 28,
   "id": "fc975244",
   "metadata": {},
   "outputs": [
    {
     "name": "stdout",
     "output_type": "stream",
     "text": [
      "The baseline accuracy for nonchurned customers in all cases within the telco dataset is 0.73\n"
     ]
    }
   ],
   "source": [
    "print(f'The baseline accuracy for nonchurned customers in all cases within the telco dataset is {(y_train == 0).mean():.2}')"
   ]
  },
  {
   "cell_type": "code",
   "execution_count": 29,
   "id": "07553cfd",
   "metadata": {},
   "outputs": [],
   "source": [
    "clf = DecisionTreeClassifier()"
   ]
  },
  {
   "cell_type": "code",
   "execution_count": 30,
   "id": "588ebc58",
   "metadata": {},
   "outputs": [
    {
     "data": {
      "text/plain": [
       "DecisionTreeClassifier()"
      ]
     },
     "execution_count": 30,
     "metadata": {},
     "output_type": "execute_result"
    }
   ],
   "source": [
    "clf.fit(X_train, y_train)"
   ]
  },
  {
   "cell_type": "code",
   "execution_count": 31,
   "id": "f74c459a",
   "metadata": {},
   "outputs": [],
   "source": [
    "y_pred = clf.predict(X_train)"
   ]
  },
  {
   "cell_type": "code",
   "execution_count": 32,
   "id": "f9d92e69",
   "metadata": {},
   "outputs": [
    {
     "data": {
      "text/html": [
       "<div>\n",
       "<style scoped>\n",
       "    .dataframe tbody tr th:only-of-type {\n",
       "        vertical-align: middle;\n",
       "    }\n",
       "\n",
       "    .dataframe tbody tr th {\n",
       "        vertical-align: top;\n",
       "    }\n",
       "\n",
       "    .dataframe thead th {\n",
       "        text-align: right;\n",
       "    }\n",
       "</style>\n",
       "<table border=\"1\" class=\"dataframe\">\n",
       "  <thead>\n",
       "    <tr style=\"text-align: right;\">\n",
       "      <th></th>\n",
       "      <th>0</th>\n",
       "      <th>1</th>\n",
       "      <th>accuracy</th>\n",
       "      <th>macro avg</th>\n",
       "      <th>weighted avg</th>\n",
       "    </tr>\n",
       "  </thead>\n",
       "  <tbody>\n",
       "    <tr>\n",
       "      <th>precision</th>\n",
       "      <td>0.997749</td>\n",
       "      <td>0.999103</td>\n",
       "      <td>0.998107</td>\n",
       "      <td>0.998426</td>\n",
       "      <td>0.998108</td>\n",
       "    </tr>\n",
       "    <tr>\n",
       "      <th>recall</th>\n",
       "      <td>0.999678</td>\n",
       "      <td>0.993756</td>\n",
       "      <td>0.998107</td>\n",
       "      <td>0.996717</td>\n",
       "      <td>0.998107</td>\n",
       "    </tr>\n",
       "    <tr>\n",
       "      <th>f1-score</th>\n",
       "      <td>0.998713</td>\n",
       "      <td>0.996422</td>\n",
       "      <td>0.998107</td>\n",
       "      <td>0.997567</td>\n",
       "      <td>0.998105</td>\n",
       "    </tr>\n",
       "    <tr>\n",
       "      <th>support</th>\n",
       "      <td>3104.000000</td>\n",
       "      <td>1121.000000</td>\n",
       "      <td>0.998107</td>\n",
       "      <td>4225.000000</td>\n",
       "      <td>4225.000000</td>\n",
       "    </tr>\n",
       "  </tbody>\n",
       "</table>\n",
       "</div>"
      ],
      "text/plain": [
       "                     0            1  accuracy    macro avg  weighted avg\n",
       "precision     0.997749     0.999103  0.998107     0.998426      0.998108\n",
       "recall        0.999678     0.993756  0.998107     0.996717      0.998107\n",
       "f1-score      0.998713     0.996422  0.998107     0.997567      0.998105\n",
       "support    3104.000000  1121.000000  0.998107  4225.000000   4225.000000"
      ]
     },
     "execution_count": 32,
     "metadata": {},
     "output_type": "execute_result"
    }
   ],
   "source": [
    "pd.DataFrame(classification_report(y_train, y_pred, output_dict=True))"
   ]
  },
  {
   "cell_type": "code",
   "execution_count": 33,
   "id": "fec878f5",
   "metadata": {},
   "outputs": [],
   "source": [
    "clf2 = DecisionTreeClassifier(max_depth=10)"
   ]
  },
  {
   "cell_type": "code",
   "execution_count": 34,
   "id": "3a008a18",
   "metadata": {},
   "outputs": [
    {
     "data": {
      "text/plain": [
       "DecisionTreeClassifier(max_depth=10)"
      ]
     },
     "execution_count": 34,
     "metadata": {},
     "output_type": "execute_result"
    }
   ],
   "source": [
    "clf2.fit(X_train, y_train)"
   ]
  },
  {
   "cell_type": "code",
   "execution_count": 35,
   "id": "13dcea64",
   "metadata": {},
   "outputs": [],
   "source": [
    "y_pred2 = clf2.predict(X_train)"
   ]
  },
  {
   "cell_type": "code",
   "execution_count": 36,
   "id": "472e3a52",
   "metadata": {},
   "outputs": [
    {
     "data": {
      "text/html": [
       "<div>\n",
       "<style scoped>\n",
       "    .dataframe tbody tr th:only-of-type {\n",
       "        vertical-align: middle;\n",
       "    }\n",
       "\n",
       "    .dataframe tbody tr th {\n",
       "        vertical-align: top;\n",
       "    }\n",
       "\n",
       "    .dataframe thead th {\n",
       "        text-align: right;\n",
       "    }\n",
       "</style>\n",
       "<table border=\"1\" class=\"dataframe\">\n",
       "  <thead>\n",
       "    <tr style=\"text-align: right;\">\n",
       "      <th></th>\n",
       "      <th>0</th>\n",
       "      <th>1</th>\n",
       "      <th>accuracy</th>\n",
       "      <th>macro avg</th>\n",
       "      <th>weighted avg</th>\n",
       "    </tr>\n",
       "  </thead>\n",
       "  <tbody>\n",
       "    <tr>\n",
       "      <th>precision</th>\n",
       "      <td>0.903266</td>\n",
       "      <td>0.824311</td>\n",
       "      <td>0.88497</td>\n",
       "      <td>0.863788</td>\n",
       "      <td>0.882317</td>\n",
       "    </tr>\n",
       "    <tr>\n",
       "      <th>recall</th>\n",
       "      <td>0.944588</td>\n",
       "      <td>0.719893</td>\n",
       "      <td>0.88497</td>\n",
       "      <td>0.832240</td>\n",
       "      <td>0.884970</td>\n",
       "    </tr>\n",
       "    <tr>\n",
       "      <th>f1-score</th>\n",
       "      <td>0.923465</td>\n",
       "      <td>0.768571</td>\n",
       "      <td>0.88497</td>\n",
       "      <td>0.846018</td>\n",
       "      <td>0.882367</td>\n",
       "    </tr>\n",
       "    <tr>\n",
       "      <th>support</th>\n",
       "      <td>3104.000000</td>\n",
       "      <td>1121.000000</td>\n",
       "      <td>0.88497</td>\n",
       "      <td>4225.000000</td>\n",
       "      <td>4225.000000</td>\n",
       "    </tr>\n",
       "  </tbody>\n",
       "</table>\n",
       "</div>"
      ],
      "text/plain": [
       "                     0            1  accuracy    macro avg  weighted avg\n",
       "precision     0.903266     0.824311   0.88497     0.863788      0.882317\n",
       "recall        0.944588     0.719893   0.88497     0.832240      0.884970\n",
       "f1-score      0.923465     0.768571   0.88497     0.846018      0.882367\n",
       "support    3104.000000  1121.000000   0.88497  4225.000000   4225.000000"
      ]
     },
     "execution_count": 36,
     "metadata": {},
     "output_type": "execute_result"
    }
   ],
   "source": [
    "pd.DataFrame(classification_report(y_train, y_pred2, output_dict=True))"
   ]
  },
  {
   "cell_type": "code",
   "execution_count": 40,
   "id": "0431d5e0",
   "metadata": {},
   "outputs": [],
   "source": [
    "X_train2 = train.drop(columns=(['has_churned', 'is_female', 'has_phone_service','customer_id']))\n",
    "y_train2 = train.has_churned\n",
    "X_validate = validate.drop(columns=(['has_churned', 'is_female', 'has_phone_service','customer_id']))\n",
    "y_validate = validate.has_churned\n",
    "X_test = test.drop(columns=(['has_churned', 'is_female', 'has_phone_service','customer_id']))\n",
    "y_test = test.has_churned"
   ]
  },
  {
   "cell_type": "code",
   "execution_count": 41,
   "id": "7d950ebb",
   "metadata": {},
   "outputs": [],
   "source": [
    "clf3 = DecisionTreeClassifier()"
   ]
  },
  {
   "cell_type": "code",
   "execution_count": 42,
   "id": "dc0a0ea6",
   "metadata": {},
   "outputs": [
    {
     "data": {
      "text/plain": [
       "DecisionTreeClassifier()"
      ]
     },
     "execution_count": 42,
     "metadata": {},
     "output_type": "execute_result"
    }
   ],
   "source": [
    "clf3.fit(X_train2, y_train2)"
   ]
  },
  {
   "cell_type": "code",
   "execution_count": 43,
   "id": "71bd8998",
   "metadata": {},
   "outputs": [],
   "source": [
    "y_pred3 = clf3.predict(X_train2)"
   ]
  },
  {
   "cell_type": "code",
   "execution_count": 44,
   "id": "f7db2ab4",
   "metadata": {},
   "outputs": [
    {
     "data": {
      "text/html": [
       "<div>\n",
       "<style scoped>\n",
       "    .dataframe tbody tr th:only-of-type {\n",
       "        vertical-align: middle;\n",
       "    }\n",
       "\n",
       "    .dataframe tbody tr th {\n",
       "        vertical-align: top;\n",
       "    }\n",
       "\n",
       "    .dataframe thead th {\n",
       "        text-align: right;\n",
       "    }\n",
       "</style>\n",
       "<table border=\"1\" class=\"dataframe\">\n",
       "  <thead>\n",
       "    <tr style=\"text-align: right;\">\n",
       "      <th></th>\n",
       "      <th>0</th>\n",
       "      <th>1</th>\n",
       "      <th>accuracy</th>\n",
       "      <th>macro avg</th>\n",
       "      <th>weighted avg</th>\n",
       "    </tr>\n",
       "  </thead>\n",
       "  <tbody>\n",
       "    <tr>\n",
       "      <th>precision</th>\n",
       "      <td>0.996788</td>\n",
       "      <td>0.999101</td>\n",
       "      <td>0.997396</td>\n",
       "      <td>0.997944</td>\n",
       "      <td>0.997401</td>\n",
       "    </tr>\n",
       "    <tr>\n",
       "      <th>recall</th>\n",
       "      <td>0.999678</td>\n",
       "      <td>0.991079</td>\n",
       "      <td>0.997396</td>\n",
       "      <td>0.995379</td>\n",
       "      <td>0.997396</td>\n",
       "    </tr>\n",
       "    <tr>\n",
       "      <th>f1-score</th>\n",
       "      <td>0.998231</td>\n",
       "      <td>0.995074</td>\n",
       "      <td>0.997396</td>\n",
       "      <td>0.996652</td>\n",
       "      <td>0.997393</td>\n",
       "    </tr>\n",
       "    <tr>\n",
       "      <th>support</th>\n",
       "      <td>3104.000000</td>\n",
       "      <td>1121.000000</td>\n",
       "      <td>0.997396</td>\n",
       "      <td>4225.000000</td>\n",
       "      <td>4225.000000</td>\n",
       "    </tr>\n",
       "  </tbody>\n",
       "</table>\n",
       "</div>"
      ],
      "text/plain": [
       "                     0            1  accuracy    macro avg  weighted avg\n",
       "precision     0.996788     0.999101  0.997396     0.997944      0.997401\n",
       "recall        0.999678     0.991079  0.997396     0.995379      0.997396\n",
       "f1-score      0.998231     0.995074  0.997396     0.996652      0.997393\n",
       "support    3104.000000  1121.000000  0.997396  4225.000000   4225.000000"
      ]
     },
     "execution_count": 44,
     "metadata": {},
     "output_type": "execute_result"
    }
   ],
   "source": [
    "pd.DataFrame(classification_report(y_train2, y_pred3, output_dict=True))"
   ]
  },
  {
   "cell_type": "code",
   "execution_count": 45,
   "id": "ce2eab4d",
   "metadata": {},
   "outputs": [],
   "source": [
    "clf4 = DecisionTreeClassifier(max_depth=10)"
   ]
  },
  {
   "cell_type": "code",
   "execution_count": 46,
   "id": "e2d04288",
   "metadata": {},
   "outputs": [
    {
     "data": {
      "text/plain": [
       "DecisionTreeClassifier(max_depth=10)"
      ]
     },
     "execution_count": 46,
     "metadata": {},
     "output_type": "execute_result"
    }
   ],
   "source": [
    "clf4.fit(X_train2, y_train2)"
   ]
  },
  {
   "cell_type": "code",
   "execution_count": 47,
   "id": "dd5b64ec",
   "metadata": {},
   "outputs": [],
   "source": [
    "y_pred4 = clf4.predict(X_train2)"
   ]
  },
  {
   "cell_type": "code",
   "execution_count": 48,
   "id": "f6d9f32a",
   "metadata": {},
   "outputs": [
    {
     "data": {
      "text/html": [
       "<div>\n",
       "<style scoped>\n",
       "    .dataframe tbody tr th:only-of-type {\n",
       "        vertical-align: middle;\n",
       "    }\n",
       "\n",
       "    .dataframe tbody tr th {\n",
       "        vertical-align: top;\n",
       "    }\n",
       "\n",
       "    .dataframe thead th {\n",
       "        text-align: right;\n",
       "    }\n",
       "</style>\n",
       "<table border=\"1\" class=\"dataframe\">\n",
       "  <thead>\n",
       "    <tr style=\"text-align: right;\">\n",
       "      <th></th>\n",
       "      <th>0</th>\n",
       "      <th>1</th>\n",
       "      <th>accuracy</th>\n",
       "      <th>macro avg</th>\n",
       "      <th>weighted avg</th>\n",
       "    </tr>\n",
       "  </thead>\n",
       "  <tbody>\n",
       "    <tr>\n",
       "      <th>precision</th>\n",
       "      <td>0.900920</td>\n",
       "      <td>0.826943</td>\n",
       "      <td>0.884024</td>\n",
       "      <td>0.863932</td>\n",
       "      <td>0.881292</td>\n",
       "    </tr>\n",
       "    <tr>\n",
       "      <th>recall</th>\n",
       "      <td>0.946198</td>\n",
       "      <td>0.711864</td>\n",
       "      <td>0.884024</td>\n",
       "      <td>0.829031</td>\n",
       "      <td>0.884024</td>\n",
       "    </tr>\n",
       "    <tr>\n",
       "      <th>f1-score</th>\n",
       "      <td>0.923004</td>\n",
       "      <td>0.765101</td>\n",
       "      <td>0.884024</td>\n",
       "      <td>0.844053</td>\n",
       "      <td>0.881109</td>\n",
       "    </tr>\n",
       "    <tr>\n",
       "      <th>support</th>\n",
       "      <td>3104.000000</td>\n",
       "      <td>1121.000000</td>\n",
       "      <td>0.884024</td>\n",
       "      <td>4225.000000</td>\n",
       "      <td>4225.000000</td>\n",
       "    </tr>\n",
       "  </tbody>\n",
       "</table>\n",
       "</div>"
      ],
      "text/plain": [
       "                     0            1  accuracy    macro avg  weighted avg\n",
       "precision     0.900920     0.826943  0.884024     0.863932      0.881292\n",
       "recall        0.946198     0.711864  0.884024     0.829031      0.884024\n",
       "f1-score      0.923004     0.765101  0.884024     0.844053      0.881109\n",
       "support    3104.000000  1121.000000  0.884024  4225.000000   4225.000000"
      ]
     },
     "execution_count": 48,
     "metadata": {},
     "output_type": "execute_result"
    }
   ],
   "source": [
    "pd.DataFrame(classification_report(y_train2, y_pred4, output_dict=True))"
   ]
  },
  {
   "cell_type": "code",
   "execution_count": 49,
   "id": "ca3654fa",
   "metadata": {},
   "outputs": [
    {
     "data": {
      "text/html": [
       "<div>\n",
       "<style scoped>\n",
       "    .dataframe tbody tr th:only-of-type {\n",
       "        vertical-align: middle;\n",
       "    }\n",
       "\n",
       "    .dataframe tbody tr th {\n",
       "        vertical-align: top;\n",
       "    }\n",
       "\n",
       "    .dataframe thead th {\n",
       "        text-align: right;\n",
       "    }\n",
       "</style>\n",
       "<table border=\"1\" class=\"dataframe\">\n",
       "  <thead>\n",
       "    <tr style=\"text-align: right;\">\n",
       "      <th></th>\n",
       "      <th>0</th>\n",
       "      <th>1</th>\n",
       "      <th>accuracy</th>\n",
       "      <th>macro avg</th>\n",
       "      <th>weighted avg</th>\n",
       "    </tr>\n",
       "  </thead>\n",
       "  <tbody>\n",
       "    <tr>\n",
       "      <th>precision</th>\n",
       "      <td>0.820096</td>\n",
       "      <td>0.510989</td>\n",
       "      <td>0.740241</td>\n",
       "      <td>0.665542</td>\n",
       "      <td>0.738048</td>\n",
       "    </tr>\n",
       "    <tr>\n",
       "      <th>recall</th>\n",
       "      <td>0.828019</td>\n",
       "      <td>0.497326</td>\n",
       "      <td>0.740241</td>\n",
       "      <td>0.662673</td>\n",
       "      <td>0.740241</td>\n",
       "    </tr>\n",
       "    <tr>\n",
       "      <th>f1-score</th>\n",
       "      <td>0.824038</td>\n",
       "      <td>0.504065</td>\n",
       "      <td>0.740241</td>\n",
       "      <td>0.664052</td>\n",
       "      <td>0.739106</td>\n",
       "    </tr>\n",
       "    <tr>\n",
       "      <th>support</th>\n",
       "      <td>1035.000000</td>\n",
       "      <td>374.000000</td>\n",
       "      <td>0.740241</td>\n",
       "      <td>1409.000000</td>\n",
       "      <td>1409.000000</td>\n",
       "    </tr>\n",
       "  </tbody>\n",
       "</table>\n",
       "</div>"
      ],
      "text/plain": [
       "                     0           1  accuracy    macro avg  weighted avg\n",
       "precision     0.820096    0.510989  0.740241     0.665542      0.738048\n",
       "recall        0.828019    0.497326  0.740241     0.662673      0.740241\n",
       "f1-score      0.824038    0.504065  0.740241     0.664052      0.739106\n",
       "support    1035.000000  374.000000  0.740241  1409.000000   1409.000000"
      ]
     },
     "execution_count": 49,
     "metadata": {},
     "output_type": "execute_result"
    }
   ],
   "source": [
    "pd.DataFrame(classification_report(y_validate, clf3.predict(X_validate), output_dict=True))"
   ]
  },
  {
   "cell_type": "code",
   "execution_count": 50,
   "id": "dc3f785c",
   "metadata": {},
   "outputs": [
    {
     "data": {
      "text/html": [
       "<div>\n",
       "<style scoped>\n",
       "    .dataframe tbody tr th:only-of-type {\n",
       "        vertical-align: middle;\n",
       "    }\n",
       "\n",
       "    .dataframe tbody tr th {\n",
       "        vertical-align: top;\n",
       "    }\n",
       "\n",
       "    .dataframe thead th {\n",
       "        text-align: right;\n",
       "    }\n",
       "</style>\n",
       "<table border=\"1\" class=\"dataframe\">\n",
       "  <thead>\n",
       "    <tr style=\"text-align: right;\">\n",
       "      <th></th>\n",
       "      <th>0</th>\n",
       "      <th>1</th>\n",
       "      <th>accuracy</th>\n",
       "      <th>macro avg</th>\n",
       "      <th>weighted avg</th>\n",
       "    </tr>\n",
       "  </thead>\n",
       "  <tbody>\n",
       "    <tr>\n",
       "      <th>precision</th>\n",
       "      <td>0.820677</td>\n",
       "      <td>0.563291</td>\n",
       "      <td>0.762952</td>\n",
       "      <td>0.691984</td>\n",
       "      <td>0.752357</td>\n",
       "    </tr>\n",
       "    <tr>\n",
       "      <th>recall</th>\n",
       "      <td>0.866667</td>\n",
       "      <td>0.475936</td>\n",
       "      <td>0.762952</td>\n",
       "      <td>0.671301</td>\n",
       "      <td>0.762952</td>\n",
       "    </tr>\n",
       "    <tr>\n",
       "      <th>f1-score</th>\n",
       "      <td>0.843045</td>\n",
       "      <td>0.515942</td>\n",
       "      <td>0.762952</td>\n",
       "      <td>0.679494</td>\n",
       "      <td>0.756220</td>\n",
       "    </tr>\n",
       "    <tr>\n",
       "      <th>support</th>\n",
       "      <td>1035.000000</td>\n",
       "      <td>374.000000</td>\n",
       "      <td>0.762952</td>\n",
       "      <td>1409.000000</td>\n",
       "      <td>1409.000000</td>\n",
       "    </tr>\n",
       "  </tbody>\n",
       "</table>\n",
       "</div>"
      ],
      "text/plain": [
       "                     0           1  accuracy    macro avg  weighted avg\n",
       "precision     0.820677    0.563291  0.762952     0.691984      0.752357\n",
       "recall        0.866667    0.475936  0.762952     0.671301      0.762952\n",
       "f1-score      0.843045    0.515942  0.762952     0.679494      0.756220\n",
       "support    1035.000000  374.000000  0.762952  1409.000000   1409.000000"
      ]
     },
     "execution_count": 50,
     "metadata": {},
     "output_type": "execute_result"
    }
   ],
   "source": [
    "pd.DataFrame(classification_report(y_validate, clf4.predict(X_validate), output_dict=True))"
   ]
  },
  {
   "cell_type": "code",
   "execution_count": 51,
   "id": "412eeee3",
   "metadata": {},
   "outputs": [
    {
     "data": {
      "text/plain": [
       "Index(['customer_id', 'senior_citizen', 'tenure', 'monthly_charges',\n",
       "       'total_charges', 'is_female', 'has_partner', 'has_dependents',\n",
       "       'has_phone_service', 'has_paperless_billing', 'has_churned',\n",
       "       'multiple_lines_Yes', 'online_security_Yes', 'online_backup_Yes',\n",
       "       'device_protection_Yes', 'tech_support_Yes', 'streaming_tv_Yes',\n",
       "       'streaming_movies_Yes', 'contract_type_One year',\n",
       "       'contract_type_Two year', 'internet_service_type_Fiber optic',\n",
       "       'internet_service_type_None', 'payment_type_Credit card (automatic)',\n",
       "       'payment_type_Electronic check', 'payment_type_Mailed check'],\n",
       "      dtype='object')"
      ]
     },
     "execution_count": 51,
     "metadata": {},
     "output_type": "execute_result"
    }
   ],
   "source": [
    "train.columns"
   ]
  },
  {
   "cell_type": "code",
   "execution_count": 59,
   "id": "a44358f7",
   "metadata": {},
   "outputs": [],
   "source": [
    "X_train = train.drop(columns=(['has_churned', 'is_female', 'has_phone_service','customer_id', 'multiple_lines_Yes', 'online_backup_Yes', 'device_protection_Yes', 'streaming_tv_Yes', 'streaming_movies_Yes']))\n",
    "y_train = train.has_churned\n",
    "X_validate = validate.drop(columns=(['has_churned', 'is_female', 'has_phone_service','customer_id', 'multiple_lines_Yes', 'online_backup_Yes', 'device_protection_Yes', 'streaming_tv_Yes', 'streaming_movies_Yes']))\n",
    "y_validate = validate.has_churned\n",
    "X_test = test.drop(columns=(['has_churned', 'is_female', 'has_phone_service','customer_id','multiple_lines_Yes', 'online_backup_Yes', 'device_protection_Yes', 'streaming_tv_Yes', 'streaming_movies_Yes']))\n",
    "y_test = test.has_churned"
   ]
  },
  {
   "cell_type": "code",
   "execution_count": 60,
   "id": "56a03a7e",
   "metadata": {},
   "outputs": [],
   "source": [
    "clf = DecisionTreeClassifier(max_depth=10)"
   ]
  },
  {
   "cell_type": "code",
   "execution_count": 61,
   "id": "6c9063ba",
   "metadata": {},
   "outputs": [
    {
     "data": {
      "text/plain": [
       "DecisionTreeClassifier(max_depth=10)"
      ]
     },
     "execution_count": 61,
     "metadata": {},
     "output_type": "execute_result"
    }
   ],
   "source": [
    "clf.fit(X_train, y_train)"
   ]
  },
  {
   "cell_type": "code",
   "execution_count": 62,
   "id": "22788ed2",
   "metadata": {},
   "outputs": [],
   "source": [
    "y_pred = clf.predict(X_train)"
   ]
  },
  {
   "cell_type": "code",
   "execution_count": 63,
   "id": "b3fc1591",
   "metadata": {},
   "outputs": [
    {
     "data": {
      "text/html": [
       "<div>\n",
       "<style scoped>\n",
       "    .dataframe tbody tr th:only-of-type {\n",
       "        vertical-align: middle;\n",
       "    }\n",
       "\n",
       "    .dataframe tbody tr th {\n",
       "        vertical-align: top;\n",
       "    }\n",
       "\n",
       "    .dataframe thead th {\n",
       "        text-align: right;\n",
       "    }\n",
       "</style>\n",
       "<table border=\"1\" class=\"dataframe\">\n",
       "  <thead>\n",
       "    <tr style=\"text-align: right;\">\n",
       "      <th></th>\n",
       "      <th>0</th>\n",
       "      <th>1</th>\n",
       "      <th>accuracy</th>\n",
       "      <th>macro avg</th>\n",
       "      <th>weighted avg</th>\n",
       "    </tr>\n",
       "  </thead>\n",
       "  <tbody>\n",
       "    <tr>\n",
       "      <th>precision</th>\n",
       "      <td>0.905853</td>\n",
       "      <td>0.820281</td>\n",
       "      <td>0.88568</td>\n",
       "      <td>0.863067</td>\n",
       "      <td>0.883149</td>\n",
       "    </tr>\n",
       "    <tr>\n",
       "      <th>recall</th>\n",
       "      <td>0.942332</td>\n",
       "      <td>0.728814</td>\n",
       "      <td>0.88568</td>\n",
       "      <td>0.835573</td>\n",
       "      <td>0.885680</td>\n",
       "    </tr>\n",
       "    <tr>\n",
       "      <th>f1-score</th>\n",
       "      <td>0.923733</td>\n",
       "      <td>0.771847</td>\n",
       "      <td>0.88568</td>\n",
       "      <td>0.847790</td>\n",
       "      <td>0.883434</td>\n",
       "    </tr>\n",
       "    <tr>\n",
       "      <th>support</th>\n",
       "      <td>3104.000000</td>\n",
       "      <td>1121.000000</td>\n",
       "      <td>0.88568</td>\n",
       "      <td>4225.000000</td>\n",
       "      <td>4225.000000</td>\n",
       "    </tr>\n",
       "  </tbody>\n",
       "</table>\n",
       "</div>"
      ],
      "text/plain": [
       "                     0            1  accuracy    macro avg  weighted avg\n",
       "precision     0.905853     0.820281   0.88568     0.863067      0.883149\n",
       "recall        0.942332     0.728814   0.88568     0.835573      0.885680\n",
       "f1-score      0.923733     0.771847   0.88568     0.847790      0.883434\n",
       "support    3104.000000  1121.000000   0.88568  4225.000000   4225.000000"
      ]
     },
     "execution_count": 63,
     "metadata": {},
     "output_type": "execute_result"
    }
   ],
   "source": [
    "pd.DataFrame(classification_report(y_train, y_pred, output_dict=True))"
   ]
  },
  {
   "cell_type": "code",
   "execution_count": 64,
   "id": "0d4a5079",
   "metadata": {},
   "outputs": [],
   "source": [
    "y_pred2 = clf.predict(X_validate)"
   ]
  },
  {
   "cell_type": "code",
   "execution_count": 65,
   "id": "ea18feef",
   "metadata": {},
   "outputs": [
    {
     "data": {
      "text/html": [
       "<div>\n",
       "<style scoped>\n",
       "    .dataframe tbody tr th:only-of-type {\n",
       "        vertical-align: middle;\n",
       "    }\n",
       "\n",
       "    .dataframe tbody tr th {\n",
       "        vertical-align: top;\n",
       "    }\n",
       "\n",
       "    .dataframe thead th {\n",
       "        text-align: right;\n",
       "    }\n",
       "</style>\n",
       "<table border=\"1\" class=\"dataframe\">\n",
       "  <thead>\n",
       "    <tr style=\"text-align: right;\">\n",
       "      <th></th>\n",
       "      <th>0</th>\n",
       "      <th>1</th>\n",
       "      <th>accuracy</th>\n",
       "      <th>macro avg</th>\n",
       "      <th>weighted avg</th>\n",
       "    </tr>\n",
       "  </thead>\n",
       "  <tbody>\n",
       "    <tr>\n",
       "      <th>precision</th>\n",
       "      <td>0.832714</td>\n",
       "      <td>0.582583</td>\n",
       "      <td>0.773598</td>\n",
       "      <td>0.707648</td>\n",
       "      <td>0.766320</td>\n",
       "    </tr>\n",
       "    <tr>\n",
       "      <th>recall</th>\n",
       "      <td>0.865700</td>\n",
       "      <td>0.518717</td>\n",
       "      <td>0.773598</td>\n",
       "      <td>0.692209</td>\n",
       "      <td>0.773598</td>\n",
       "    </tr>\n",
       "    <tr>\n",
       "      <th>f1-score</th>\n",
       "      <td>0.848887</td>\n",
       "      <td>0.548798</td>\n",
       "      <td>0.773598</td>\n",
       "      <td>0.698842</td>\n",
       "      <td>0.769232</td>\n",
       "    </tr>\n",
       "    <tr>\n",
       "      <th>support</th>\n",
       "      <td>1035.000000</td>\n",
       "      <td>374.000000</td>\n",
       "      <td>0.773598</td>\n",
       "      <td>1409.000000</td>\n",
       "      <td>1409.000000</td>\n",
       "    </tr>\n",
       "  </tbody>\n",
       "</table>\n",
       "</div>"
      ],
      "text/plain": [
       "                     0           1  accuracy    macro avg  weighted avg\n",
       "precision     0.832714    0.582583  0.773598     0.707648      0.766320\n",
       "recall        0.865700    0.518717  0.773598     0.692209      0.773598\n",
       "f1-score      0.848887    0.548798  0.773598     0.698842      0.769232\n",
       "support    1035.000000  374.000000  0.773598  1409.000000   1409.000000"
      ]
     },
     "execution_count": 65,
     "metadata": {},
     "output_type": "execute_result"
    }
   ],
   "source": [
    "pd.DataFrame(classification_report(y_validate, y_pred2, output_dict=True))"
   ]
  },
  {
   "cell_type": "markdown",
   "id": "073d4128",
   "metadata": {},
   "source": [
    "After taking out the following features that showed no dependency with churn rate:\n",
    "- multiple lines\n",
    "- gender\n",
    "- phone service\n",
    "And the less influential features that showed a relationship but at a smaller rate:\n",
    "- online backup\n",
    "- device protection\n",
    "- streaming tv\n",
    "- streaming movies\n",
    "\n",
    "The accuracy of my models went up for my train and validate data sets."
   ]
  },
  {
   "cell_type": "markdown",
   "id": "cbb4d76e",
   "metadata": {},
   "source": [
    "# Time to use a different classification model with the same features"
   ]
  },
  {
   "cell_type": "code",
   "execution_count": 67,
   "id": "2687ab53",
   "metadata": {},
   "outputs": [],
   "source": [
    "logit = LogisticRegression(random_state=123)"
   ]
  },
  {
   "cell_type": "code",
   "execution_count": 68,
   "id": "ccb0cda3",
   "metadata": {},
   "outputs": [
    {
     "data": {
      "text/plain": [
       "LogisticRegression(random_state=123)"
      ]
     },
     "execution_count": 68,
     "metadata": {},
     "output_type": "execute_result"
    }
   ],
   "source": [
    "logit.fit(X_train, y_train)"
   ]
  },
  {
   "cell_type": "code",
   "execution_count": 69,
   "id": "820ae02a",
   "metadata": {},
   "outputs": [],
   "source": [
    "y_pred = logit.predict(X_train)"
   ]
  },
  {
   "cell_type": "code",
   "execution_count": 70,
   "id": "a2766d27",
   "metadata": {},
   "outputs": [
    {
     "name": "stdout",
     "output_type": "stream",
     "text": [
      "[[2800  304]\n",
      " [ 574  547]]\n"
     ]
    }
   ],
   "source": [
    "print(confusion_matrix(y_train, y_pred))"
   ]
  },
  {
   "cell_type": "code",
   "execution_count": 71,
   "id": "c6a09055",
   "metadata": {},
   "outputs": [
    {
     "data": {
      "text/html": [
       "<div>\n",
       "<style scoped>\n",
       "    .dataframe tbody tr th:only-of-type {\n",
       "        vertical-align: middle;\n",
       "    }\n",
       "\n",
       "    .dataframe tbody tr th {\n",
       "        vertical-align: top;\n",
       "    }\n",
       "\n",
       "    .dataframe thead th {\n",
       "        text-align: right;\n",
       "    }\n",
       "</style>\n",
       "<table border=\"1\" class=\"dataframe\">\n",
       "  <thead>\n",
       "    <tr style=\"text-align: right;\">\n",
       "      <th></th>\n",
       "      <th>0</th>\n",
       "      <th>1</th>\n",
       "      <th>accuracy</th>\n",
       "      <th>macro avg</th>\n",
       "      <th>weighted avg</th>\n",
       "    </tr>\n",
       "  </thead>\n",
       "  <tbody>\n",
       "    <tr>\n",
       "      <th>precision</th>\n",
       "      <td>0.829876</td>\n",
       "      <td>0.642773</td>\n",
       "      <td>0.792189</td>\n",
       "      <td>0.736324</td>\n",
       "      <td>0.780233</td>\n",
       "    </tr>\n",
       "    <tr>\n",
       "      <th>recall</th>\n",
       "      <td>0.902062</td>\n",
       "      <td>0.487957</td>\n",
       "      <td>0.792189</td>\n",
       "      <td>0.695010</td>\n",
       "      <td>0.792189</td>\n",
       "    </tr>\n",
       "    <tr>\n",
       "      <th>f1-score</th>\n",
       "      <td>0.864464</td>\n",
       "      <td>0.554767</td>\n",
       "      <td>0.792189</td>\n",
       "      <td>0.709616</td>\n",
       "      <td>0.782294</td>\n",
       "    </tr>\n",
       "    <tr>\n",
       "      <th>support</th>\n",
       "      <td>3104.000000</td>\n",
       "      <td>1121.000000</td>\n",
       "      <td>0.792189</td>\n",
       "      <td>4225.000000</td>\n",
       "      <td>4225.000000</td>\n",
       "    </tr>\n",
       "  </tbody>\n",
       "</table>\n",
       "</div>"
      ],
      "text/plain": [
       "                     0            1  accuracy    macro avg  weighted avg\n",
       "precision     0.829876     0.642773  0.792189     0.736324      0.780233\n",
       "recall        0.902062     0.487957  0.792189     0.695010      0.792189\n",
       "f1-score      0.864464     0.554767  0.792189     0.709616      0.782294\n",
       "support    3104.000000  1121.000000  0.792189  4225.000000   4225.000000"
      ]
     },
     "execution_count": 71,
     "metadata": {},
     "output_type": "execute_result"
    }
   ],
   "source": [
    "pd.DataFrame(classification_report(y_train, y_pred, output_dict=True))"
   ]
  },
  {
   "cell_type": "code",
   "execution_count": 72,
   "id": "358e6ad9",
   "metadata": {},
   "outputs": [
    {
     "data": {
      "text/html": [
       "<div>\n",
       "<style scoped>\n",
       "    .dataframe tbody tr th:only-of-type {\n",
       "        vertical-align: middle;\n",
       "    }\n",
       "\n",
       "    .dataframe tbody tr th {\n",
       "        vertical-align: top;\n",
       "    }\n",
       "\n",
       "    .dataframe thead th {\n",
       "        text-align: right;\n",
       "    }\n",
       "</style>\n",
       "<table border=\"1\" class=\"dataframe\">\n",
       "  <thead>\n",
       "    <tr style=\"text-align: right;\">\n",
       "      <th></th>\n",
       "      <th>0</th>\n",
       "      <th>1</th>\n",
       "      <th>accuracy</th>\n",
       "      <th>macro avg</th>\n",
       "      <th>weighted avg</th>\n",
       "    </tr>\n",
       "  </thead>\n",
       "  <tbody>\n",
       "    <tr>\n",
       "      <th>precision</th>\n",
       "      <td>0.836007</td>\n",
       "      <td>0.662021</td>\n",
       "      <td>0.800568</td>\n",
       "      <td>0.749014</td>\n",
       "      <td>0.789825</td>\n",
       "    </tr>\n",
       "    <tr>\n",
       "      <th>recall</th>\n",
       "      <td>0.906280</td>\n",
       "      <td>0.508021</td>\n",
       "      <td>0.800568</td>\n",
       "      <td>0.707151</td>\n",
       "      <td>0.800568</td>\n",
       "    </tr>\n",
       "    <tr>\n",
       "      <th>f1-score</th>\n",
       "      <td>0.869726</td>\n",
       "      <td>0.574887</td>\n",
       "      <td>0.800568</td>\n",
       "      <td>0.722307</td>\n",
       "      <td>0.791465</td>\n",
       "    </tr>\n",
       "    <tr>\n",
       "      <th>support</th>\n",
       "      <td>1035.000000</td>\n",
       "      <td>374.000000</td>\n",
       "      <td>0.800568</td>\n",
       "      <td>1409.000000</td>\n",
       "      <td>1409.000000</td>\n",
       "    </tr>\n",
       "  </tbody>\n",
       "</table>\n",
       "</div>"
      ],
      "text/plain": [
       "                     0           1  accuracy    macro avg  weighted avg\n",
       "precision     0.836007    0.662021  0.800568     0.749014      0.789825\n",
       "recall        0.906280    0.508021  0.800568     0.707151      0.800568\n",
       "f1-score      0.869726    0.574887  0.800568     0.722307      0.791465\n",
       "support    1035.000000  374.000000  0.800568  1409.000000   1409.000000"
      ]
     },
     "execution_count": 72,
     "metadata": {},
     "output_type": "execute_result"
    }
   ],
   "source": [
    "pd.DataFrame(classification_report(y_validate, logit.predict(X_validate), output_dict=True))"
   ]
  },
  {
   "cell_type": "code",
   "execution_count": 147,
   "id": "6970b892",
   "metadata": {},
   "outputs": [
    {
     "name": "stdout",
     "output_type": "stream",
     "text": [
      "                     0            1  accuracy    macro avg  weighted avg\n",
      "precision     0.843352     0.649839   0.80071     0.746595      0.792008\n",
      "recall        0.894974     0.539697   0.80071     0.717335      0.800710\n",
      "f1-score      0.868396     0.589669   0.80071     0.729032      0.794443\n",
      "support    3104.000000  1121.000000   0.80071  4225.000000   4225.000000\n",
      "\n",
      "                     0           1  accuracy    macro avg  weighted avg\n",
      "precision     0.846224    0.661290  0.805536     0.753757      0.797136\n",
      "recall        0.898551    0.548128  0.805536     0.723340      0.805536\n",
      "f1-score      0.871603    0.599415  0.805536     0.735509      0.799354\n",
      "support    1035.000000  374.000000  0.805536  1409.000000   1409.000000\n"
     ]
    }
   ],
   "source": [
    "logit = LogisticRegression(C=.8)\n",
    "logit = logit.fit(X_train, y_train)\n",
    "y_pred = logit.predict(X_train)\n",
    "print(pd.DataFrame(classification_report(y_train, y_pred, output_dict=True)))\n",
    "print()\n",
    "print(pd.DataFrame(classification_report(y_validate, logit.predict(X_validate), output_dict=True)))"
   ]
  },
  {
   "cell_type": "code",
   "execution_count": 139,
   "id": "5a4988c3",
   "metadata": {},
   "outputs": [
    {
     "data": {
      "text/plain": [
       "0.7983431952662722"
      ]
     },
     "execution_count": 139,
     "metadata": {},
     "output_type": "execute_result"
    }
   ],
   "source": [
    "logit.score(X_train, y_train)"
   ]
  },
  {
   "cell_type": "code",
   "execution_count": 148,
   "id": "5cad2078",
   "metadata": {},
   "outputs": [
    {
     "data": {
      "text/plain": [
       "0.004825781850403721"
      ]
     },
     "execution_count": 148,
     "metadata": {},
     "output_type": "execute_result"
    }
   ],
   "source": [
    "logit.score(X_validate, y_validate)-logit.score(X_train, y_train)"
   ]
  },
  {
   "cell_type": "markdown",
   "id": "c2a40067",
   "metadata": {},
   "source": [
    "# Logistic Regression Model best fit = .006 diff"
   ]
  },
  {
   "cell_type": "markdown",
   "id": "abb8b7fe",
   "metadata": {},
   "source": [
    "Utilizing a Logistic Regression Model allowed for a tighter metric between my train and validate set while still outperforming the baseline accuracy."
   ]
  },
  {
   "cell_type": "markdown",
   "id": "a9b24678",
   "metadata": {},
   "source": [
    "# Random Forest model"
   ]
  },
  {
   "cell_type": "code",
   "execution_count": 112,
   "id": "8a3e5e5d",
   "metadata": {},
   "outputs": [],
   "source": [
    "rf = RandomForestClassifier(max_depth=5)"
   ]
  },
  {
   "cell_type": "code",
   "execution_count": 113,
   "id": "0487b020",
   "metadata": {},
   "outputs": [
    {
     "data": {
      "text/plain": [
       "RandomForestClassifier(max_depth=5)"
      ]
     },
     "execution_count": 113,
     "metadata": {},
     "output_type": "execute_result"
    }
   ],
   "source": [
    "rf.fit(X_train, y_train)"
   ]
  },
  {
   "cell_type": "code",
   "execution_count": 114,
   "id": "9fb91cf5",
   "metadata": {},
   "outputs": [],
   "source": [
    "y_pred = rf.predict(X_train)"
   ]
  },
  {
   "cell_type": "code",
   "execution_count": 115,
   "id": "8abe4b36",
   "metadata": {},
   "outputs": [
    {
     "data": {
      "text/html": [
       "<div>\n",
       "<style scoped>\n",
       "    .dataframe tbody tr th:only-of-type {\n",
       "        vertical-align: middle;\n",
       "    }\n",
       "\n",
       "    .dataframe tbody tr th {\n",
       "        vertical-align: top;\n",
       "    }\n",
       "\n",
       "    .dataframe thead th {\n",
       "        text-align: right;\n",
       "    }\n",
       "</style>\n",
       "<table border=\"1\" class=\"dataframe\">\n",
       "  <thead>\n",
       "    <tr style=\"text-align: right;\">\n",
       "      <th></th>\n",
       "      <th>0</th>\n",
       "      <th>1</th>\n",
       "      <th>accuracy</th>\n",
       "      <th>macro avg</th>\n",
       "      <th>weighted avg</th>\n",
       "    </tr>\n",
       "  </thead>\n",
       "  <tbody>\n",
       "    <tr>\n",
       "      <th>precision</th>\n",
       "      <td>0.828605</td>\n",
       "      <td>0.686122</td>\n",
       "      <td>0.802604</td>\n",
       "      <td>0.757363</td>\n",
       "      <td>0.790800</td>\n",
       "    </tr>\n",
       "    <tr>\n",
       "      <th>recall</th>\n",
       "      <td>0.922036</td>\n",
       "      <td>0.471900</td>\n",
       "      <td>0.802604</td>\n",
       "      <td>0.696968</td>\n",
       "      <td>0.802604</td>\n",
       "    </tr>\n",
       "    <tr>\n",
       "      <th>f1-score</th>\n",
       "      <td>0.872827</td>\n",
       "      <td>0.559197</td>\n",
       "      <td>0.802604</td>\n",
       "      <td>0.716012</td>\n",
       "      <td>0.789613</td>\n",
       "    </tr>\n",
       "    <tr>\n",
       "      <th>support</th>\n",
       "      <td>3104.000000</td>\n",
       "      <td>1121.000000</td>\n",
       "      <td>0.802604</td>\n",
       "      <td>4225.000000</td>\n",
       "      <td>4225.000000</td>\n",
       "    </tr>\n",
       "  </tbody>\n",
       "</table>\n",
       "</div>"
      ],
      "text/plain": [
       "                     0            1  accuracy    macro avg  weighted avg\n",
       "precision     0.828605     0.686122  0.802604     0.757363      0.790800\n",
       "recall        0.922036     0.471900  0.802604     0.696968      0.802604\n",
       "f1-score      0.872827     0.559197  0.802604     0.716012      0.789613\n",
       "support    3104.000000  1121.000000  0.802604  4225.000000   4225.000000"
      ]
     },
     "execution_count": 115,
     "metadata": {},
     "output_type": "execute_result"
    }
   ],
   "source": [
    "pd.DataFrame(classification_report(y_train, y_pred, output_dict=True))"
   ]
  },
  {
   "cell_type": "code",
   "execution_count": 116,
   "id": "8477ef85",
   "metadata": {},
   "outputs": [
    {
     "data": {
      "text/html": [
       "<div>\n",
       "<style scoped>\n",
       "    .dataframe tbody tr th:only-of-type {\n",
       "        vertical-align: middle;\n",
       "    }\n",
       "\n",
       "    .dataframe tbody tr th {\n",
       "        vertical-align: top;\n",
       "    }\n",
       "\n",
       "    .dataframe thead th {\n",
       "        text-align: right;\n",
       "    }\n",
       "</style>\n",
       "<table border=\"1\" class=\"dataframe\">\n",
       "  <thead>\n",
       "    <tr style=\"text-align: right;\">\n",
       "      <th></th>\n",
       "      <th>0</th>\n",
       "      <th>1</th>\n",
       "      <th>accuracy</th>\n",
       "      <th>macro avg</th>\n",
       "      <th>weighted avg</th>\n",
       "    </tr>\n",
       "  </thead>\n",
       "  <tbody>\n",
       "    <tr>\n",
       "      <th>precision</th>\n",
       "      <td>0.833042</td>\n",
       "      <td>0.690566</td>\n",
       "      <td>0.806246</td>\n",
       "      <td>0.761804</td>\n",
       "      <td>0.795224</td>\n",
       "    </tr>\n",
       "    <tr>\n",
       "      <th>recall</th>\n",
       "      <td>0.920773</td>\n",
       "      <td>0.489305</td>\n",
       "      <td>0.806246</td>\n",
       "      <td>0.705039</td>\n",
       "      <td>0.806246</td>\n",
       "    </tr>\n",
       "    <tr>\n",
       "      <th>f1-score</th>\n",
       "      <td>0.874713</td>\n",
       "      <td>0.572770</td>\n",
       "      <td>0.806246</td>\n",
       "      <td>0.723742</td>\n",
       "      <td>0.794566</td>\n",
       "    </tr>\n",
       "    <tr>\n",
       "      <th>support</th>\n",
       "      <td>1035.000000</td>\n",
       "      <td>374.000000</td>\n",
       "      <td>0.806246</td>\n",
       "      <td>1409.000000</td>\n",
       "      <td>1409.000000</td>\n",
       "    </tr>\n",
       "  </tbody>\n",
       "</table>\n",
       "</div>"
      ],
      "text/plain": [
       "                     0           1  accuracy    macro avg  weighted avg\n",
       "precision     0.833042    0.690566  0.806246     0.761804      0.795224\n",
       "recall        0.920773    0.489305  0.806246     0.705039      0.806246\n",
       "f1-score      0.874713    0.572770  0.806246     0.723742      0.794566\n",
       "support    1035.000000  374.000000  0.806246  1409.000000   1409.000000"
      ]
     },
     "execution_count": 116,
     "metadata": {},
     "output_type": "execute_result"
    }
   ],
   "source": [
    "pd.DataFrame(classification_report(y_validate, rf.predict(X_validate), output_dict=True))"
   ]
  },
  {
   "cell_type": "code",
   "execution_count": 133,
   "id": "ef2441eb",
   "metadata": {},
   "outputs": [
    {
     "name": "stdout",
     "output_type": "stream",
     "text": [
      "Tree with max depth of 5\n",
      "                     0            1  accuracy    macro avg  weighted avg\n",
      "precision     0.826575     0.692513   0.80284     0.759544      0.791005\n",
      "recall        0.925902     0.462087   0.80284     0.693995      0.802840\n",
      "f1-score      0.873423     0.554307   0.80284     0.713865      0.788754\n",
      "support    3104.000000  1121.000000   0.80284  4225.000000   4225.000000\n",
      "Tree with max depth of 6\n",
      "                     0            1  accuracy    macro avg  weighted avg\n",
      "precision     0.837522     0.703611  0.812071     0.770567      0.801992\n",
      "recall        0.923325     0.504014  0.812071     0.713670      0.812071\n",
      "f1-score      0.878333     0.587318  0.812071     0.732825      0.801119\n",
      "support    3104.000000  1121.000000  0.812071  4225.000000   4225.000000\n",
      "Tree with max depth of 7\n",
      "                     0            1  accuracy    macro avg  weighted avg\n",
      "precision     0.849644     0.719812  0.823432     0.784728      0.815196\n",
      "recall        0.923003     0.547725  0.823432     0.735364      0.823432\n",
      "f1-score      0.884805     0.622087  0.823432     0.753446      0.815100\n",
      "support    3104.000000  1121.000000  0.823432  4225.000000   4225.000000\n",
      "Tree with max depth of 8\n",
      "                     0            1  accuracy    macro avg  weighted avg\n",
      "precision     0.862131     0.754005  0.839763     0.808068      0.833442\n",
      "recall        0.930735     0.587868  0.839763     0.759301      0.839763\n",
      "f1-score      0.895120     0.660652  0.839763     0.777886      0.832910\n",
      "support    3104.000000  1121.000000  0.839763  4225.000000   4225.000000\n",
      "Tree with max depth of 9\n",
      "                     0            1  accuracy    macro avg  weighted avg\n",
      "precision     0.873049     0.781635  0.853728     0.827342      0.848795\n",
      "recall        0.937178     0.622658  0.853728     0.779918      0.853728\n",
      "f1-score      0.903978     0.693148  0.853728     0.798563      0.848039\n",
      "support    3104.000000  1121.000000  0.853728  4225.000000   4225.000000\n",
      "Tree with max depth of 10\n",
      "                    0            1  accuracy    macro avg  weighted avg\n",
      "precision     0.89629     0.832444   0.88213     0.864367      0.879350\n",
      "recall        0.94942     0.695807   0.88213     0.822614      0.882130\n",
      "f1-score      0.92209     0.758017   0.88213     0.840054      0.878557\n",
      "support    3104.00000  1121.000000   0.88213  4225.000000   4225.000000\n"
     ]
    }
   ],
   "source": [
    "for i in range (5, 11):\n",
    "    rf = RandomForestClassifier(max_depth= i, random_state=123)\n",
    "    rf = rf.fit(X_train, y_train)\n",
    "    y_pred = rf.predict(X_train)\n",
    "    print(f'Tree with max depth of {i}')\n",
    "    print(pd.DataFrame(classification_report(y_train, y_pred, output_dict=True)))"
   ]
  },
  {
   "cell_type": "code",
   "execution_count": 134,
   "id": "4c434890",
   "metadata": {},
   "outputs": [
    {
     "name": "stdout",
     "output_type": "stream",
     "text": [
      "Tree with max depth of 5\n",
      "                     0           1  accuracy    macro avg  weighted avg\n",
      "precision     0.826840    0.685039  0.801278     0.755940      0.789201\n",
      "recall        0.922705    0.465241  0.801278     0.693973      0.801278\n",
      "f1-score      0.872146    0.554140  0.801278     0.713143      0.787736\n",
      "support    1035.000000  374.000000  0.801278  1409.000000   1409.000000\n",
      "Tree with max depth of 6\n",
      "                     0           1  accuracy    macro avg  weighted avg\n",
      "precision     0.834951    0.677536  0.804116     0.756244      0.793168\n",
      "recall        0.914010    0.500000  0.804116     0.707005      0.804116\n",
      "f1-score      0.872694    0.575385  0.804116     0.724039      0.793777\n",
      "support    1035.000000  374.000000  0.804116  1409.000000   1409.000000\n",
      "Tree with max depth of 7\n",
      "                     0           1  accuracy    macro avg  weighted avg\n",
      "precision     0.836283    0.677419  0.804826     0.756851      0.794115\n",
      "recall        0.913043    0.505348  0.804826     0.709196      0.804826\n",
      "f1-score      0.872979    0.578867  0.804826     0.725923      0.794911\n",
      "support    1035.000000  374.000000  0.804826  1409.000000   1409.000000\n",
      "Tree with max depth of 8\n",
      "                     0           1  accuracy    macro avg  weighted avg\n",
      "precision     0.841915    0.658940  0.802697     0.750428      0.793347\n",
      "recall        0.900483    0.532086  0.802697     0.716284      0.802697\n",
      "f1-score      0.870215    0.588757  0.802697     0.729486      0.795506\n",
      "support    1035.000000  374.000000  0.802697  1409.000000   1409.000000\n",
      "Tree with max depth of 9\n",
      "                     0           1  accuracy    macro avg  weighted avg\n",
      "precision     0.835273    0.650685  0.797019     0.742979      0.786277\n",
      "recall        0.901449    0.508021  0.797019     0.704735      0.797019\n",
      "f1-score      0.867100    0.570571  0.797019     0.718835      0.788391\n",
      "support    1035.000000  374.000000  0.797019  1409.000000   1409.000000\n",
      "Tree with max depth of 10\n",
      "                     0           1  accuracy    macro avg  weighted avg\n",
      "precision     0.836771    0.653061  0.798439     0.744916      0.788008\n",
      "recall        0.901449    0.513369  0.798439     0.707409      0.798439\n",
      "f1-score      0.867907    0.574850  0.798439     0.721379      0.790119\n",
      "support    1035.000000  374.000000  0.798439  1409.000000   1409.000000\n"
     ]
    }
   ],
   "source": [
    "for i in range (5, 11):\n",
    "    rf = RandomForestClassifier(max_depth= i, random_state=123)\n",
    "    rf = rf.fit(X_train, y_train)\n",
    "    y_pred = rf.predict(X_validate)\n",
    "    print(f'Tree with max depth of {i}')\n",
    "    print(pd.DataFrame(classification_report(y_validate, y_pred, output_dict=True)))"
   ]
  },
  {
   "cell_type": "code",
   "execution_count": 135,
   "id": "5cf910eb",
   "metadata": {},
   "outputs": [],
   "source": [
    "# Random Forest model with a max depth of 5 is best fit"
   ]
  },
  {
   "cell_type": "code",
   "execution_count": 143,
   "id": "14df35c0",
   "metadata": {},
   "outputs": [
    {
     "data": {
      "text/plain": [
       "0.0015627349120824752"
      ]
     },
     "execution_count": 143,
     "metadata": {},
     "output_type": "execute_result"
    }
   ],
   "source": [
    "rf = RandomForestClassifier(max_depth=5,random_state=123)\n",
    "rf = rf.fit(X_train, y_train)\n",
    "rf.score(X_train, y_train) - rf.score(X_validate, y_validate)"
   ]
  },
  {
   "cell_type": "markdown",
   "id": "dc5e9728",
   "metadata": {},
   "source": [
    "# Random Forest Model best fit = .002 diff"
   ]
  },
  {
   "cell_type": "markdown",
   "id": "96bfe535",
   "metadata": {},
   "source": [
    "# KNN Model"
   ]
  },
  {
   "cell_type": "code",
   "execution_count": 128,
   "id": "f667473a",
   "metadata": {},
   "outputs": [
    {
     "name": "stdout",
     "output_type": "stream",
     "text": [
      "KNeighbors with n_neighbors of 10\n",
      "                     0            1  accuracy    macro avg  weighted avg\n",
      "precision     0.819827     0.747634  0.808994     0.783731      0.800673\n",
      "recall        0.948454     0.422837  0.808994     0.685645      0.808994\n",
      "f1-score      0.879462     0.540171  0.808994     0.709817      0.789440\n",
      "support    3104.000000  1121.000000  0.808994  4225.000000   4225.000000\n",
      "KNeighbors with n_neighbors of 15\n",
      "                     0            1  accuracy    macro avg  weighted avg\n",
      "precision     0.821875     0.700709  0.801657     0.761292      0.789727\n",
      "recall        0.932023     0.440678  0.801657     0.686351      0.801657\n",
      "f1-score      0.873490     0.541073  0.801657     0.707282      0.785292\n",
      "support    3104.000000  1121.000000  0.801657  4225.000000   4225.000000\n",
      "KNeighbors with n_neighbors of 20\n",
      "                     0            1  accuracy    macro avg  weighted avg\n",
      "precision     0.809906     0.710311  0.795503     0.760108      0.783481\n",
      "recall        0.942977     0.387154  0.795503     0.665066      0.795503\n",
      "f1-score      0.871390     0.501155  0.795503     0.686273      0.773157\n",
      "support    3104.000000  1121.000000  0.795503  4225.000000   4225.000000\n",
      "KNeighbors with n_neighbors of 25\n",
      "                     0            1  accuracy    macro avg  weighted avg\n",
      "precision     0.811352     0.702060   0.79503     0.756706      0.782354\n",
      "recall        0.939433     0.395183   0.79503     0.667308      0.795030\n",
      "f1-score      0.870708     0.505708   0.79503     0.688208      0.773864\n",
      "support    3104.000000  1121.000000   0.79503  4225.000000   4225.000000\n",
      "KNeighbors with n_neighbors of 30\n",
      "                     0            1  accuracy    macro avg  weighted avg\n",
      "precision     0.801851     0.713249  0.790296     0.757550      0.778342\n",
      "recall        0.949098     0.350580  0.790296     0.649839      0.790296\n",
      "f1-score      0.869283     0.470096  0.790296     0.669689      0.763368\n",
      "support    3104.000000  1121.000000  0.790296  4225.000000   4225.000000\n"
     ]
    }
   ],
   "source": [
    "for i in range (10, 31, 5):\n",
    "    knn = KNeighborsClassifier(n_neighbors=i)\n",
    "    knn = knn.fit(X_train, y_train)\n",
    "    y_pred = knn.predict(X_train)\n",
    "    print(f'KNeighbors with n_neighbors of {i}')\n",
    "    print(pd.DataFrame(classification_report(y_train, y_pred, output_dict=True)))"
   ]
  },
  {
   "cell_type": "code",
   "execution_count": 129,
   "id": "ad333dfd",
   "metadata": {},
   "outputs": [
    {
     "name": "stdout",
     "output_type": "stream",
     "text": [
      "KNeighbors with n_neighbors of 10\n",
      "                     0           1  accuracy    macro avg  weighted avg\n",
      "precision     0.803497    0.663462  0.782825     0.733479      0.766327\n",
      "recall        0.932367    0.368984  0.782825     0.650676      0.782825\n",
      "f1-score      0.863148    0.474227  0.782825     0.668688      0.759914\n",
      "support    1035.000000  374.000000  0.782825  1409.000000   1409.000000\n",
      "KNeighbors with n_neighbors of 15\n",
      "                     0           1  accuracy    macro avg  weighted avg\n",
      "precision     0.808673    0.639485  0.780696     0.724079      0.763765\n",
      "recall        0.918841    0.398396  0.780696     0.658618      0.780696\n",
      "f1-score      0.860244    0.490939  0.780696     0.675592      0.762217\n",
      "support    1035.000000  374.000000  0.780696  1409.000000   1409.000000\n",
      "KNeighbors with n_neighbors of 20\n",
      "                     0           1  accuracy    macro avg  weighted avg\n",
      "precision     0.802805    0.685279  0.786373     0.744042      0.771610\n",
      "recall        0.940097    0.360963  0.786373     0.650530      0.786373\n",
      "f1-score      0.866044    0.472855  0.786373     0.669449      0.761677\n",
      "support    1035.000000  374.000000  0.786373  1409.000000   1409.000000\n",
      "KNeighbors with n_neighbors of 25\n",
      "                     0           1  accuracy    macro avg  weighted avg\n",
      "precision     0.809205    0.682243  0.789922     0.745724      0.775505\n",
      "recall        0.934300    0.390374  0.789922     0.662337      0.789922\n",
      "f1-score      0.867265    0.496599  0.789922     0.681932      0.768876\n",
      "support    1035.000000  374.000000  0.789922  1409.000000   1409.000000\n",
      "KNeighbors with n_neighbors of 30\n",
      "                     0           1  accuracy    macro avg  weighted avg\n",
      "precision     0.793998    0.681818  0.779986     0.737908      0.764222\n",
      "recall        0.945894    0.320856  0.779986     0.633375      0.779986\n",
      "f1-score      0.863316    0.436364  0.779986     0.649840      0.749987\n",
      "support    1035.000000  374.000000  0.779986  1409.000000   1409.000000\n"
     ]
    }
   ],
   "source": [
    "for i in range (10, 31, 5):\n",
    "    knn = KNeighborsClassifier(n_neighbors=i)\n",
    "    knn = knn.fit(X_train, y_train)\n",
    "    y_pred = knn.predict(X_validate)\n",
    "    print(f'KNeighbors with n_neighbors of {i}')\n",
    "    print(pd.DataFrame(classification_report(y_validate, y_pred, output_dict=True)))"
   ]
  },
  {
   "cell_type": "code",
   "execution_count": 130,
   "id": "8a4241e1",
   "metadata": {},
   "outputs": [],
   "source": [
    "# KNN Model (n_neighbor 25) is best match"
   ]
  },
  {
   "cell_type": "code",
   "execution_count": 144,
   "id": "8573de6e",
   "metadata": {},
   "outputs": [
    {
     "data": {
      "text/plain": [
       "0.005107655351690887"
      ]
     },
     "execution_count": 144,
     "metadata": {},
     "output_type": "execute_result"
    }
   ],
   "source": [
    "knn = KNeighborsClassifier(n_neighbors=25)\n",
    "knn = knn.fit(X_train, y_train)\n",
    "knn.score(X_train, y_train) - knn.score(X_validate, y_validate)"
   ]
  },
  {
   "cell_type": "code",
   "execution_count": null,
   "id": "74eef530",
   "metadata": {},
   "outputs": [],
   "source": []
  }
 ],
 "metadata": {
  "kernelspec": {
   "display_name": "Python 3 (ipykernel)",
   "language": "python",
   "name": "python3"
  },
  "language_info": {
   "codemirror_mode": {
    "name": "ipython",
    "version": 3
   },
   "file_extension": ".py",
   "mimetype": "text/x-python",
   "name": "python",
   "nbconvert_exporter": "python",
   "pygments_lexer": "ipython3",
   "version": "3.9.12"
  }
 },
 "nbformat": 4,
 "nbformat_minor": 5
}
